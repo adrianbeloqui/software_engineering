{
 "cells": [
  {
   "cell_type": "markdown",
   "metadata": {},
   "source": [
    "# Reinforcement"
   ]
  },
  {
   "cell_type": "markdown",
   "metadata": {},
   "source": [
    "R-1.1 Write a short Python function, is multiple(n, m), that takes two integer values and returns True if n is a multiple of m, that is, n = mi for some integer i, and False otherwise."
   ]
  },
  {
   "cell_type": "code",
   "execution_count": 5,
   "metadata": {},
   "outputs": [
    {
     "name": "stdout",
     "output_type": "stream",
     "text": [
      "True\n",
      "False\n",
      "True\n",
      "False\n"
     ]
    }
   ],
   "source": [
    "def is_multiple(n, m):\n",
    "    return n % m == 0 if m != 0 else False\n",
    "\n",
    "print(is_multiple(10, 2))\n",
    "print(is_multiple(5,3))\n",
    "print(is_multiple(1, -1))\n",
    "print(is_multiple(1,0))"
   ]
  },
  {
   "cell_type": "markdown",
   "metadata": {},
   "source": [
    "R-1.2 Write a short Python function, is even(k), that takes an integer value and returns True if k is even, and False otherwise. However, your function cannot use the multiplication, modulo, or division operators."
   ]
  },
  {
   "cell_type": "code",
   "execution_count": 10,
   "metadata": {},
   "outputs": [
    {
     "name": "stdout",
     "output_type": "stream",
     "text": [
      "True\n",
      "False\n",
      "True\n",
      "False\n",
      "True\n"
     ]
    }
   ],
   "source": [
    "def is_even2(k):\n",
    "    # not a great implementation\n",
    "    str_k = str(k)\n",
    "    insignificant_digit = int(str_k[-1])\n",
    "    return insignificant_digit in [0,2,4,6,8]\n",
    "\n",
    "def is_even(k):\n",
    "    return k & 1 == 0\n",
    "\n",
    "print(is_even(0))\n",
    "print(is_even(1))\n",
    "print(is_even(6))\n",
    "print(is_even(777))\n",
    "print(is_even(-102948))"
   ]
  },
  {
   "cell_type": "markdown",
   "metadata": {},
   "source": [
    "R-1.3 Write a short Python function, minmax(data), that takes a sequence of one or more numbers, and returns the smallest and largest numbers, in the form of a tuple of length two. Do not use the built-in functions min or max in implementing your solution."
   ]
  },
  {
   "cell_type": "code",
   "execution_count": 14,
   "metadata": {},
   "outputs": [
    {
     "name": "stdout",
     "output_type": "stream",
     "text": [
      "(1, 99)\n",
      "(-50, 101010)\n",
      "None\n",
      "(999, 999)\n"
     ]
    }
   ],
   "source": [
    "def minmax(data):\n",
    "    if not data:\n",
    "        return\n",
    "\n",
    "    min_n = max_n = data[0]\n",
    "    for i in data:\n",
    "        min_n = i if i < min_n else min_n\n",
    "        max_n = i if i > max_n else max_n\n",
    "    return min_n, max_n\n",
    "\n",
    "print(minmax([i for i in range(1,100)]))\n",
    "print(minmax([999,-50,101010,5,87,8,54,3,2]))\n",
    "print(minmax([]))\n",
    "print(minmax([999]))"
   ]
  },
  {
   "cell_type": "markdown",
   "metadata": {},
   "source": [
    "R-1.4 Write a short Python function that takes a positive integer n and returns the sum of the squares of all the positive integers smaller than n.\n",
    "R-1.5 Give a single command that computes the sum from Exercise R-1.4, rely- ing on Python’s comprehension syntax and the built-in sum function."
   ]
  },
  {
   "cell_type": "code",
   "execution_count": 21,
   "metadata": {},
   "outputs": [
    {
     "name": "stdout",
     "output_type": "stream",
     "text": [
      "1\n",
      "5\n",
      "285\n"
     ]
    }
   ],
   "source": [
    "def sum_squares(n):\n",
    "    return sum(i*i for i in range(1, n))\n",
    "\n",
    "print(sum_squares(2))\n",
    "print(sum_squares(3))\n",
    "print(sum_squares(10))"
   ]
  },
  {
   "cell_type": "markdown",
   "metadata": {},
   "source": [
    "R-1.6 Write a short Python function that takes a positive integer n and returns the sum of the squares of all the odd positive integers smaller than n.\n",
    "R-1.7 Give a single command that computes the sum from Exercise R-1.6, rely- ing on Python’s comprehension syntax and the built-in sum function."
   ]
  },
  {
   "cell_type": "code",
   "execution_count": 27,
   "metadata": {},
   "outputs": [
    {
     "name": "stdout",
     "output_type": "stream",
     "text": [
      "1\n",
      "1\n",
      "165\n"
     ]
    }
   ],
   "source": [
    "def sum_odd_squares(n):\n",
    "    return sum(i*i for i in range(1,n,2))\n",
    "\n",
    "print(sum_odd_squares(2))\n",
    "print(sum_odd_squares(3))\n",
    "print(sum_odd_squares(10))"
   ]
  },
  {
   "cell_type": "markdown",
   "metadata": {},
   "source": [
    "R-1.8 Python allows negative integers to be used as indices into a sequence, such as a string. If string s has length n, and expression s[k] is used for index −n ≤ k < 0, what is the equivalent index j ≥ 0 such that s[j] references the same element?"
   ]
  },
  {
   "cell_type": "code",
   "execution_count": 3,
   "metadata": {},
   "outputs": [
    {
     "name": "stdout",
     "output_type": "stream",
     "text": [
      "t -1\n",
      "t 3\n",
      "t -4\n",
      "t 7\n"
     ]
    }
   ],
   "source": [
    "def neg2positive_index(s, k):\n",
    "    print(s[k], k)\n",
    "    pos = k + len(s) # n > pos >= 0\n",
    "    print(s[pos], pos)\n",
    "\n",
    "neg2positive_index(\"test\", -1)\n",
    "neg2positive_index(\"second test\", -4)"
   ]
  },
  {
   "cell_type": "markdown",
   "metadata": {},
   "source": [
    "R-1.9 What parameters should be sent to the range constructor, to produce a range with values 50, 60, 70, 80?"
   ]
  },
  {
   "cell_type": "code",
   "execution_count": 6,
   "metadata": {},
   "outputs": [
    {
     "name": "stdout",
     "output_type": "stream",
     "text": [
      "[50, 60, 70, 80]\n"
     ]
    }
   ],
   "source": [
    "print([x for x in range(50,90,10)])"
   ]
  },
  {
   "cell_type": "markdown",
   "metadata": {},
   "source": [
    "R-1.10 What parameters should be sent to the range constructor, to produce a range with values 8, 6, 4, 2, 0, −2, −4, −6, −8?"
   ]
  },
  {
   "cell_type": "code",
   "execution_count": 7,
   "metadata": {},
   "outputs": [
    {
     "name": "stdout",
     "output_type": "stream",
     "text": [
      "[8, 6, 4, 2, 0, -2, -4, -6, -8]\n"
     ]
    }
   ],
   "source": [
    "print([x for x in range(8, -10, -2)])"
   ]
  },
  {
   "cell_type": "markdown",
   "metadata": {},
   "source": [
    "R-1.11 Demonstrate how to use Python’s list comprehension syntax to produce the list [1, 2, 4, 8, 16, 32, 64, 128, 256]."
   ]
  },
  {
   "cell_type": "code",
   "execution_count": 9,
   "metadata": {},
   "outputs": [
    {
     "name": "stdout",
     "output_type": "stream",
     "text": [
      "[1, 2, 4, 8, 16, 32, 64, 128, 256]\n"
     ]
    }
   ],
   "source": [
    "print([2**x for x in range(9)])"
   ]
  },
  {
   "cell_type": "markdown",
   "metadata": {},
   "source": [
    "R-1.12 Python’s random module includes a function choice(data) that returns a random element from a non-empty sequence. The random module includes a more basic function randrange, with parameterization similar to the built-in range function, that return a random choice from the given range. Using only the randrange function, implement your own version of the choice function."
   ]
  },
  {
   "cell_type": "code",
   "execution_count": 14,
   "metadata": {},
   "outputs": [
    {
     "name": "stdout",
     "output_type": "stream",
     "text": [
      "w\n",
      "i\n",
      "T\n",
      "None\n"
     ]
    }
   ],
   "source": [
    "from random import randrange\n",
    "\n",
    "def custom_choice(data):\n",
    "    if not data:\n",
    "        return None\n",
    "    return data[randrange(0, len(data))]\n",
    "\n",
    "print(custom_choice(\"hello world\"))\n",
    "print(custom_choice(\"This is a small test\"))\n",
    "print(custom_choice(\"T\"))\n",
    "print(custom_choice(\"\"))"
   ]
  },
  {
   "cell_type": "markdown",
   "metadata": {},
   "source": [
    "# Creativity"
   ]
  },
  {
   "cell_type": "markdown",
   "metadata": {},
   "source": [
    "C1.13 Write a pseudo-code description of a function that reverses a list of n integers, so that the numbers are listed in the opposite order than they were before, and compare this method to an equivalent Python function for doing the same thing."
   ]
  },
  {
   "cell_type": "code",
   "execution_count": 17,
   "metadata": {},
   "outputs": [
    {
     "name": "stdout",
     "output_type": "stream",
     "text": [
      "[5, 4, 3, 2, 1]\n",
      "[4, 3, 2, 1]\n",
      "[]\n",
      "[1]\n"
     ]
    }
   ],
   "source": [
    "def reverse(l):\n",
    "    i, j = 0, len(l) - 1\n",
    "    while i < j:\n",
    "        l[i], l[j] = l[j], l[i]\n",
    "        i += 1\n",
    "        j -= 1\n",
    "\n",
    "for t in [[1,2,3,4,5], [1,2,3,4],[],[1]]:\n",
    "    reverse(t)\n",
    "    print(t)"
   ]
  },
  {
   "cell_type": "markdown",
   "metadata": {},
   "source": [
    "C1.14 Write a short Python function that takes a sequence of integer values and determines if there is a distinct pair of numbers in the sequence whose product is odd."
   ]
  },
  {
   "cell_type": "code",
   "execution_count": 18,
   "metadata": {},
   "outputs": [
    {
     "name": "stdout",
     "output_type": "stream",
     "text": [
      "None None\n",
      "[1, 3] 3\n",
      "None None\n"
     ]
    }
   ],
   "source": [
    "def distinct_pair(seq):\n",
    "    first_odd = None\n",
    "    for n in seq:\n",
    "        if n % 2 == 0:\n",
    "            continue\n",
    "        else:\n",
    "            if first_odd is None:\n",
    "                first_odd = n\n",
    "            else:\n",
    "                return [first_odd, n], first_odd * n\n",
    "    return first_odd, None\n",
    "\n",
    "for t in [[2,4,6,8], [1,2,3,4,5,6,7,8], []]:\n",
    "    pair, total = distinct_pair(t)\n",
    "    print(pair, total)"
   ]
  },
  {
   "cell_type": "markdown",
   "metadata": {},
   "source": [
    "C1.15 Write a Python function that takes a sequence of numbers and determines if all the numbers are different from each other (that is, they are distinct)."
   ]
  }
 ],
 "metadata": {
  "kernelspec": {
   "display_name": "Python 3",
   "language": "python",
   "name": "python3"
  },
  "language_info": {
   "codemirror_mode": {
    "name": "ipython",
    "version": 3
   },
   "file_extension": ".py",
   "mimetype": "text/x-python",
   "name": "python",
   "nbconvert_exporter": "python",
   "pygments_lexer": "ipython3",
   "version": "3.10.13"
  }
 },
 "nbformat": 4,
 "nbformat_minor": 2
}
