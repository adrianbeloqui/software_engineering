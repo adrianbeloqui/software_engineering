{
 "cells": [
  {
   "cell_type": "markdown",
   "metadata": {},
   "source": [
    "# Reinforcement"
   ]
  },
  {
   "cell_type": "markdown",
   "metadata": {},
   "source": [
    "R-4.1 Describe a recursive algorithm for finding the maximum element in a sequence, S, of n elements. What is your running time and space usage?"
   ]
  },
  {
   "cell_type": "code",
   "execution_count": 10,
   "metadata": {},
   "outputs": [
    {
     "name": "stdout",
     "output_type": "stream",
     "text": [
      "356\n",
      "-1\n",
      "2\n"
     ]
    }
   ],
   "source": [
    "# time: O(2^logn) = O(n)\n",
    "# space: O(log n)\n",
    "def find_max(S, max, start, stop):\n",
    "    if start > stop - 1:\n",
    "        return -1\n",
    "    elif start == stop - 1:\n",
    "        return S[start]\n",
    "    mid = (start + stop) // 2\n",
    "    left_max = find_max(S, max, start, mid)\n",
    "    right_max = find_max(S, max, mid, stop)\n",
    "    return left_max if left_max > right_max else right_max\n",
    "\n",
    "S = [100,1,34,323,23,12,356, 10]\n",
    "print(find_max(S, -1, 0, len(S)))\n",
    "print(find_max([], -1, 0, 0))\n",
    "print(find_max([2], -1, 0, 1))\n"
   ]
  }
 ],
 "metadata": {
  "kernelspec": {
   "display_name": "Python 3",
   "language": "python",
   "name": "python3"
  },
  "language_info": {
   "codemirror_mode": {
    "name": "ipython",
    "version": 3
   },
   "file_extension": ".py",
   "mimetype": "text/x-python",
   "name": "python",
   "nbconvert_exporter": "python",
   "pygments_lexer": "ipython3",
   "version": "3.10.13"
  }
 },
 "nbformat": 4,
 "nbformat_minor": 2
}
