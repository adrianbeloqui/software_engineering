{
 "cells": [
  {
   "cell_type": "markdown",
   "id": "1e2996c0",
   "metadata": {},
   "source": [
    "# Reinforcement"
   ]
  },
  {
   "cell_type": "code",
   "execution_count": null,
   "id": "ffe9ca41",
   "metadata": {},
   "outputs": [],
   "source": [
    "# Import data structures folder\n",
    "import sys\n",
    "import os\n",
    "\n",
    "# Go to root software_engineering\n",
    "module_path = os.path.abspath(os.path.join('../../..'))\n",
    "if module_path not in sys.path:\n",
    "    sys.path.append(module_path)"
   ]
  },
  {
   "cell_type": "markdown",
   "id": "b4b6ef19",
   "metadata": {},
   "source": [
    "R-10.1 Give a concrete implementation of the pop method in the context of the MutableMapping class, relying only on the five primary abstract methods of that class."
   ]
  },
  {
   "cell_type": "code",
   "execution_count": null,
   "id": "ed7012cb",
   "metadata": {},
   "outputs": [],
   "source": [
    "from collections import MutableMapping\n",
    "\n",
    "class PopMutableMap(MutableMapping):\n",
    "\n",
    "    def pop(self, key, default=None):\n",
    "        try:\n",
    "            value = self[key]\n",
    "            del self[key]\n",
    "            return value\n",
    "        except KeyError:\n",
    "            if default is not None:\n",
    "                return default\n",
    "            raise KeyError('key not found')"
   ]
  },
  {
   "cell_type": "markdown",
   "id": "2b8ca306",
   "metadata": {},
   "source": [
    "R-10.2 Give a concrete implementation of the items() method in the context of the MutableMappingclass, relying only on the five primary abstract methods of that class. What would its running time be if directly applied to the UnsortedTableMap subclass?"
   ]
  },
  {
   "cell_type": "code",
   "execution_count": null,
   "id": "a11f8235",
   "metadata": {},
   "outputs": [],
   "source": []
  },
  {
   "cell_type": "markdown",
   "id": "a770bec5",
   "metadata": {},
   "source": [
    "R-10.3 Give a concrete implementation of the items() method directly within the UnsortedTableMap class, ensuring that the entire iteration runs in O(n) time."
   ]
  },
  {
   "cell_type": "code",
   "execution_count": null,
   "id": "fdfb5445",
   "metadata": {},
   "outputs": [],
   "source": []
  },
  {
   "cell_type": "markdown",
   "id": "a3de990d",
   "metadata": {},
   "source": [
    "R-10.4 What is the worst-case running time for inserting n key-value pairs into an initially empty map M that is implemented with the UnsortedTableMap class?"
   ]
  }
 ],
 "metadata": {
  "language_info": {
   "name": "python"
  }
 },
 "nbformat": 4,
 "nbformat_minor": 5
}
