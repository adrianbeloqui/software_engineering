{
 "cells": [
  {
   "cell_type": "markdown",
   "metadata": {},
   "source": [
    "# Reinforcement"
   ]
  },
  {
   "cell_type": "markdown",
   "metadata": {},
   "source": [
    "R-6.1 What values are returned during the following series of stack operations, if executed upon an initially empty stack? push(5), push(3), pop(), push(2), push(8), pop(), pop(), push(9), push(1), pop(), push(7), push(6), pop(), pop(), push(4), pop(), pop()."
   ]
  },
  {
   "cell_type": "markdown",
   "metadata": {},
   "source": [
    "| Operation | Result  | Returned  |\n",
    "|---|---|---|\n",
    "| push(5)  | [5] | |\n",
    "| push(3)  | [5,3]  |\n",
    "| pop()  | [5]  | 3 |\n",
    "| push(2)  | [5,2]  | |\n",
    "| push(8)  | [5,2,8]  | |\n",
    "| pop()  | [5,2]  | 8 |\n",
    "| pop()  | [5]  | 2 |\n",
    "| push(9)  | [5,9]  | |\n",
    "| push(1)  | [5,9,1]  | |\n",
    "| pop()  | [5,9]  | 1 |\n",
    "| push(7)  | [5,9,7]  | |\n",
    "| push(6)  | [5,9,7,6]  | |\n",
    "| pop()  | [5,9,7]  | 6 |\n",
    "| pop()  | [5,9]  | 7 |\n",
    "| push(4)  | [5,9,4]  | |\n",
    "| pop()  | [5,9]  | 4 |\n",
    "| pop()  | [5]  | 9 |"
   ]
  },
  {
   "cell_type": "markdown",
   "metadata": {},
   "source": [
    "R-6.2 Suppose an initially empty stack S has executed a total of 25 push operations, 12 top operations, and 10 pop operations, 3 of which raised Empty errors that were caught and ignored. What is the current size of S?"
   ]
  },
  {
   "cell_type": "markdown",
   "metadata": {
    "vscode": {
     "languageId": "plaintext"
    }
   },
   "source": [
    "After 25 push operations, the size of S is 25. After the 12 top operations the size of S is still 25 because top only returns a reference to the top object of the stack. After the 10 pop operations, the size of S is 15. \n",
    "\n",
    "Given that the number of operations accordingly to the problem might not have happened in order, that might be the reason for the 3 riased Empty errors, so that means that 3 attempts to pop operation didn't actually remove anything.\n",
    "\n",
    "Therefore, the final size of S is 15 + 3 = 18."
   ]
  },
  {
   "cell_type": "markdown",
   "metadata": {},
   "source": [
    "R-6.3 Implement a function with signature transfer(S, T) that transfers all elements from stack S onto stack T, so that the element that starts at the top of S is the first to be inserted onto T, and the element at the bottom of S ends up at the top of T."
   ]
  },
  {
   "cell_type": "code",
   "execution_count": 10,
   "metadata": {},
   "outputs": [
    {
     "name": "stdout",
     "output_type": "stream",
     "text": [
      "Original Stack [0, 1, 2, 3, 4, 5, 6, 7, 8, 9]\n",
      "Transfered stack [9, 8, 7, 6, 5, 4, 3, 2, 1, 0]\n"
     ]
    }
   ],
   "source": [
    "class ArrayStack:\n",
    "    def __init__(self):\n",
    "        self._data = []\n",
    "        \n",
    "    def __repr__(self) -> str:\n",
    "        return str(self._data)\n",
    "\n",
    "    def __len__(self):\n",
    "        return len(self._data)\n",
    "\n",
    "    def is_empty(self):\n",
    "        return len(self._data) == 0\n",
    "\n",
    "    def push(self, e):\n",
    "        self._data.append(e)\n",
    "\n",
    "    def top(self):\n",
    "        if self.is_empty():\n",
    "            raise Exception(\"Stack is empty\")\n",
    "        return self. data[-1]\n",
    "\n",
    "    def pop(self):\n",
    "        if self.is_empty():\n",
    "            raise Exception(\"Stack is empty\")\n",
    "        return self._data.pop( ) \n",
    "\n",
    "def transfer(S, T):\n",
    "    while not S.is_empty():\n",
    "        T.push(S.pop())\n",
    "\n",
    "stackS = ArrayStack()\n",
    "[stackS.push(i) for i in range(10)]\n",
    "print(\"Original Stack\", stackS)\n",
    "stackT = ArrayStack()\n",
    "transfer(stackS, stackT)\n",
    "print(\"Transfered stack\", stackT)"
   ]
  },
  {
   "cell_type": "markdown",
   "metadata": {},
   "source": [
    "R-6.4 Give a recursive method for removing all the elements from a stack."
   ]
  },
  {
   "cell_type": "code",
   "execution_count": null,
   "metadata": {},
   "outputs": [],
   "source": []
  },
  {
   "cell_type": "markdown",
   "metadata": {},
   "source": [
    "R-6.5 Implement a function that reverses a list of elements by pushing them onto a stack in one order, and writing them back to the list in reversed order."
   ]
  },
  {
   "cell_type": "code",
   "execution_count": null,
   "metadata": {},
   "outputs": [],
   "source": []
  },
  {
   "cell_type": "markdown",
   "metadata": {},
   "source": [
    "R-6.6 Give a precise and complete definition of the concept of matching for grouping symbols in an arithmetic expression. Your definition may be recursive."
   ]
  },
  {
   "cell_type": "code",
   "execution_count": null,
   "metadata": {},
   "outputs": [],
   "source": []
  },
  {
   "cell_type": "markdown",
   "metadata": {},
   "source": [
    "R-6.7 What values are returned during the following sequence of queue operations, if executed on an initially empty queue? enqueue(5), enqueue(3), dequeue(), enqueue(2), enqueue(8), dequeue(), dequeue(), enqueue(9), enqueue(1), dequeue(), enqueue(7), enqueue(6), dequeue(), dequeue(), enqueue(4), dequeue(), dequeue()."
   ]
  }
 ],
 "metadata": {
  "kernelspec": {
   "display_name": "Python 3",
   "language": "python",
   "name": "python3"
  },
  "language_info": {
   "codemirror_mode": {
    "name": "ipython",
    "version": 3
   },
   "file_extension": ".py",
   "mimetype": "text/x-python",
   "name": "python",
   "nbconvert_exporter": "python",
   "pygments_lexer": "ipython3",
   "version": "3.10.13"
  }
 },
 "nbformat": 4,
 "nbformat_minor": 2
}
