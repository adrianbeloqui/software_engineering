{
 "cells": [
  {
   "cell_type": "markdown",
   "id": "1e2996c0",
   "metadata": {},
   "source": [
    "# Reinforcement"
   ]
  },
  {
   "cell_type": "code",
   "execution_count": null,
   "id": "ffe9ca41",
   "metadata": {},
   "outputs": [],
   "source": [
    "# Import data structures folder\n",
    "import sys\n",
    "import os\n",
    "\n",
    "# Go to root software_engineering\n",
    "module_path = os.path.abspath(os.path.join('../../..'))\n",
    "if module_path not in sys.path:\n",
    "    sys.path.append(module_path)"
   ]
  },
  {
   "cell_type": "markdown",
   "id": "b4b6ef19",
   "metadata": {},
   "source": [
    "R-10.1 Give a concrete implementation of the pop method in the context of the MutableMapping class, relying only on the five primary abstract methods of that class."
   ]
  },
  {
   "cell_type": "code",
   "execution_count": null,
   "id": "ed7012cb",
   "metadata": {},
   "outputs": [],
   "source": [
    "from collections import MutableMapping\n",
    "\n",
    "class PopMutableMap(MutableMapping):\n",
    "\n",
    "    def pop(self, key, default=None):\n",
    "        try:\n",
    "            value = self[key]\n",
    "            del self[key]\n",
    "            return value\n",
    "        except KeyError:\n",
    "            if default is not None:\n",
    "                return default\n",
    "            raise KeyError('key not found')"
   ]
  },
  {
   "cell_type": "markdown",
   "id": "2b8ca306",
   "metadata": {},
   "source": [
    "R-10.2 Give a concrete implementation of the items() method in the context of the MutableMapping class, relying only on the five primary abstract methods of that class. What would its running time be if directly applied to the UnsortedTableMap subclass?"
   ]
  },
  {
   "cell_type": "code",
   "execution_count": null,
   "id": "a11f8235",
   "metadata": {},
   "outputs": [],
   "source": [
    "from collections import MutableMapping\n",
    "\n",
    "class ItemsMutableMap(MutableMapping):\n",
    "\n",
    "    def items(self):\n",
    "        for k in iter(self):\n",
    "            yield (k, self[k])\n",
    "\n",
    "\"\"\"\n",
    "If applied to UnsortedTableMap the running time would be O(n^2) because each iteration of the items() loop would do a search of the key in the internal array of UnsortedTableMap O(n * n) = O(n^2)\n",
    "\"\"\""
   ]
  },
  {
   "cell_type": "markdown",
   "id": "a770bec5",
   "metadata": {},
   "source": [
    "R-10.3 Give a concrete implementation of the items() method directly within the UnsortedTableMap class, ensuring that the entire iteration runs in O(n) time."
   ]
  },
  {
   "cell_type": "code",
   "execution_count": null,
   "id": "fdfb5445",
   "metadata": {},
   "outputs": [],
   "source": [
    "from data_structures.maps.unsorted_table_map import UnsortedTableMap\n",
    "\n",
    "class ItemsUnsortedTableMap(UnsortedTableMap):\n",
    "\n",
    "    def items(self):\n",
    "        for item in self._table:\n",
    "            yield (item._key, item._value)"
   ]
  },
  {
   "cell_type": "markdown",
   "id": "a3de990d",
   "metadata": {},
   "source": [
    "R-10.4 What is the worst-case running time for inserting n key-value pairs into an initially empty map M that is implemented with the UnsortedTableMap class?"
   ]
  },
  {
   "cell_type": "markdown",
   "id": "dfdcdea2",
   "metadata": {},
   "source": [
    "The worst-case running time for inserting `n` key-value pairs into an initially empty map M that is implemented with the UnsortedTableMap class is when all the items added have distinct keys, which would result in a O(n^2) worst-case running time because before each insertion a O(n) search is done in the internal array to try to find an existing key."
   ]
  },
  {
   "cell_type": "markdown",
   "id": "1931bd73",
   "metadata": {},
   "source": [
    "R-10.5 Reimplement the UnsortedTableMap class from Section 10.1.5, using the PositionalList class from Section 7.4 rather than a Python list."
   ]
  },
  {
   "cell_type": "code",
   "execution_count": null,
   "id": "14bc4747",
   "metadata": {},
   "outputs": [],
   "source": [
    "from data_structures.maps.map_base import MapBase\n",
    "from data_structures.linked_lists.positional_list import PositionalList\n",
    "\n",
    "\n",
    "class UnsortedTableMap(MapBase):\n",
    "    \"\"\"Map implementation using an unordered list\"\"\"\n",
    "\n",
    "    def __init__(self):\n",
    "        self._table = PositionalList()\n",
    "\n",
    "    def __getitem__(self, k):\n",
    "        \"\"\"Return value associated wiht key k (raise KeyError if not found)\"\"\"\n",
    "        for element in self._table:\n",
    "            if k == element._key:\n",
    "                return element._value\n",
    "        raise KeyError(f\"Key Error: '{repr(k)}'\")\n",
    "    \n",
    "    def __setitem__(self, k, v):\n",
    "        \"\"\"Assign value v to key k, overwriting existing value if present\"\"\"\n",
    "        for element in self._table:\n",
    "            if k == element._key:\n",
    "                element._value = v\n",
    "                return\n",
    "        # did not find match for key\n",
    "        self._table.add_last(self._Item(k,v))\n",
    "\n",
    "    def __delitem__(self, k):\n",
    "        \"\"\"Remove item associated with key k (raise KeyError if not found)\"\"\"\n",
    "        cursor = self._table.first()\n",
    "        while cursor is not None:\n",
    "            if cursor.element()._key == k:\n",
    "                self._table.delete(cursor)\n",
    "                return\n",
    "            else:\n",
    "                cursor = self.after(cursor)\n",
    "        raise KeyError(f\"Key Error: '{repr(k)}'\")\n",
    "\n",
    "    def __len__(self):\n",
    "        \"\"\"Return number of items in the map\"\"\"\n",
    "        return len(self._table)\n",
    "    \n",
    "    def __iter__(self):\n",
    "        \"\"\"Generate iteration of the map's keys\"\"\"\n",
    "        for element in self._table:\n",
    "            yield element._key\n"
   ]
  },
  {
   "cell_type": "markdown",
   "id": "dc0ec9cb",
   "metadata": {},
   "source": [
    "R-10.6 Which of the hash table collision-handling schemes could tolerate a load factor above 1 and which could not?"
   ]
  },
  {
   "cell_type": "markdown",
   "id": "d03e8074",
   "metadata": {},
   "source": [
    "The covered collision-handling schemes are:\n",
    "\n",
    "- Separate Chaining (can tolerate a load factor above 1)\n",
    "- Open Addressing (linear probing, quadratic probing, or double hashing) (cannot tolerate a load factor above 1)"
   ]
  },
  {
   "cell_type": "markdown",
   "id": "ab121c3a",
   "metadata": {},
   "source": [
    "R-10.7 Our Position classes for lists and trees support the `__eq__` method so that two distinct position instances are considered equivalent if they refer to the same underlying node in a structure. For positions to be allowed as keys in a hash table, there must be a definition for the hash method that is consistent with this notion of equivalence. Provide such a `__hash__` method."
   ]
  },
  {
   "cell_type": "code",
   "execution_count": null,
   "id": "a87c1e3c",
   "metadata": {},
   "outputs": [],
   "source": [
    "def __hash__(self):\n",
    "    return hash(self._node)\n",
    "\n",
    "\"\"\"\n",
    "Since we don't know what the `_node` object is going to be, these objects should be implementing their own definition of the hash method.\n",
    "\"\"\""
   ]
  },
  {
   "cell_type": "markdown",
   "id": "66dfa891",
   "metadata": {},
   "source": [
    "R-10.8 What would be a good hash code for a vehicle identification number that is a string of numbers and letters of the form “9X9XX99X9XX999999,” where a “9” represents a digit and an “X” represents a letter?"
   ]
  },
  {
   "cell_type": "markdown",
   "id": "1940ee05",
   "metadata": {},
   "source": [
    "Polynomical hash codes or cyclic shift hash codes"
   ]
  },
  {
   "cell_type": "markdown",
   "id": "b915d7b2",
   "metadata": {},
   "source": [
    "R-10.9 Draw the 11-entry hash table that results from using the hash function, h(i) = (3i + 5) mod 11, to hash the keys 12, 44, 13, 88, 23, 94, 11, 39, 20, 16, and 5, assuming collisions are handled by chaining."
   ]
  },
  {
   "cell_type": "markdown",
   "id": "633505d9",
   "metadata": {},
   "source": [
    "0 - 13\n",
    "1 - 94, 39\n",
    "2 - \n",
    "3 - \n",
    "4 - \n",
    "5 - 44, 88, 11\n",
    "6 - \n",
    "7 - \n",
    "8 - 12, 23\n",
    "9 - 16, 5\n",
    "10 - 20"
   ]
  },
  {
   "cell_type": "markdown",
   "id": "78264450",
   "metadata": {},
   "source": [
    "R-10.10 What is the result of the previous exercise, assuming collisions are handled by linear probing?"
   ]
  },
  {
   "cell_type": "markdown",
   "id": "7f2411f1",
   "metadata": {},
   "source": [
    "0 - 13\n",
    "1 - 94\n",
    "2 - 39\n",
    "3 - 16\n",
    "4 - 5\n",
    "5 - 44\n",
    "6 - 88\n",
    "7 - 11\n",
    "8 - 12\n",
    "9 - 23\n",
    "10 - 20"
   ]
  },
  {
   "cell_type": "markdown",
   "id": "37f700a4",
   "metadata": {},
   "source": [
    "R-10.11 Show the result of Exercise R-10.9, assuming collisions are handled by quadratic probing, up to the point where the method fails."
   ]
  },
  {
   "cell_type": "markdown",
   "id": "649899c5",
   "metadata": {},
   "source": [
    "0 - 13\n",
    "1 - 94\n",
    "2 - 39\n",
    "3 - 11\n",
    "4 - \n",
    "5 - 44\n",
    "6 - 88\n",
    "7 - 16\n",
    "8 - 12\n",
    "9 - 23\n",
    "10 - 20"
   ]
  },
  {
   "cell_type": "markdown",
   "id": "ee75b9b5",
   "metadata": {},
   "source": [
    "R-10.12 What is the result of Exercise R-10.9 when collisions are handled by double hashing using the secondary hash function h′(k) = 7− (k mod 7)?"
   ]
  },
  {
   "cell_type": "code",
   "execution_count": null,
   "id": "24ffe980",
   "metadata": {},
   "outputs": [
    {
     "name": "stdout",
     "output_type": "stream",
     "text": [
      "0 - 13\n",
      "1 - 94\n",
      "2 - 23\n",
      "3 - 88\n",
      "4 - 39\n",
      "5 - 44\n",
      "6 - 11\n",
      "7 - 5\n",
      "8 - 12\n",
      "9 - 16\n",
      "10 - 20\n"
     ]
    }
   ],
   "source": [
    "\"\"\"\n",
    "Separate chaining\n",
    "resolving collisions with double hashing\n",
    "\"\"\"\n",
    "\n",
    "N = 11\n",
    "l = [12, 44, 13, 88, 23, 94, 11, 39, 20, 16, 5]\n",
    "keys = []\n",
    "representation = []\n",
    "\n",
    "for k in l:\n",
    "    slot_found = False\n",
    "    i = 0\n",
    "    # firsh hash function, j = h(k)\n",
    "    j = ((3*k) + 5)\n",
    "    hash_value = j % 11\n",
    "\n",
    "    while not slot_found:\n",
    "        if hash_value not in keys:\n",
    "            slot_found = True\n",
    "            keys.append(hash_value)\n",
    "            representation.append((hash_value, k))\n",
    "        else:\n",
    "            i += 1\n",
    "            # f(i) = i * h'(k) = i * (7 - (k % 7))\n",
    "            hash_value = (j + (i * (7 - (k % 7)))) % N\n",
    "\n",
    "representation.sort(key=lambda x: x[0])\n",
    "for i in range(len(keys)):\n",
    "    print(\"{} - {}\".format(representation[i][0], representation[i][1]))"
   ]
  },
  {
   "cell_type": "markdown",
   "id": "c3e8e740",
   "metadata": {},
   "source": [
    "R-10.13 What is the worst-case time for putting n entries in an initially empty hash table, with collisions resolved by chaining? What is the best case?"
   ]
  },
  {
   "cell_type": "markdown",
   "id": "06a594fc",
   "metadata": {},
   "source": [
    "Worst-case: O(n^2) when all the hash values are equal and result on clustering all values of n in a single bucket of the hash table\n",
    "Best case: O(n) when all the hash values are distinct and insertion to the hash table takes O(1) because there are no collisions"
   ]
  },
  {
   "cell_type": "markdown",
   "id": "6d9f92e3",
   "metadata": {},
   "source": [
    "R-10.14 Show the result of rehashing the hash table shown in Figure 10.6 into a table of size 19 using the new hash function h(k) = 3k mod 17."
   ]
  },
  {
   "cell_type": "markdown",
   "id": "6d11ebd8",
   "metadata": {},
   "source": [
    "Original table:\n",
    "\n",
    "0 - \n",
    "1 - \n",
    "2 - 54, 28, 41\n",
    "3 - \n",
    "4 - \n",
    "5 - 18\n",
    "6 - \n",
    "7 - \n",
    "8 - \n",
    "9 - \n",
    "10 - 10, 36\n",
    "11 - 25, 38, 12, 90\n",
    "12 - "
   ]
  },
  {
   "cell_type": "code",
   "execution_count": 5,
   "id": "716d5eba",
   "metadata": {},
   "outputs": [
    {
     "name": "stdout",
     "output_type": "stream",
     "text": [
      "0 - \n",
      "1 - \n",
      "2 - 12\n",
      "3 - 18\n",
      "4 - 41\n",
      "5 - \n",
      "6 - 36\n",
      "7 - 25\n",
      "8 - \n",
      "9 - 54\n",
      "10 - \n",
      "11 - \n",
      "12 - 38\n",
      "13 - 10\n",
      "14 - \n",
      "15 - 90\n",
      "16 - 28\n",
      "17 - \n",
      "18 - \n"
     ]
    }
   ],
   "source": [
    "\"\"\"\n",
    "Rehashed table\n",
    "\"\"\"\n",
    "\n",
    "N = 19\n",
    "l = [54, 28, 41, 18, 10, 36, 25, 38, 12, 90]\n",
    "representation = [None] * N\n",
    "\n",
    "for k in l:\n",
    "    hash_value = (3*k) % 17\n",
    "    if representation[hash_value] is None:\n",
    "        representation[hash_value] = [k]\n",
    "    else:\n",
    "        representation[hash_value].append(k)\n",
    "    \n",
    "\n",
    "for i in range(len(representation)):\n",
    "    print(\"{} - \".format(i), end=\"\")\n",
    "    if representation[i] is not None:\n",
    "        for j in range(len(representation[i])):\n",
    "            print(representation[i][j], end=\"\")\n",
    "            if len(representation[i]) < j + 1:\n",
    "                print(\", \", end=\"\")\n",
    "    print(\"\")"
   ]
  },
  {
   "cell_type": "markdown",
   "id": "f995ee89",
   "metadata": {},
   "source": [
    "R-10.15 Our HashMapBase class maintains a load factor λ ≤ 0.5. Reimplement that class to allow the user to specify the maximum load, and adjust the concrete subclasses accordingly."
   ]
  },
  {
   "cell_type": "code",
   "execution_count": null,
   "id": "1c7c7d1d",
   "metadata": {},
   "outputs": [],
   "source": [
    "from random import randrange\n",
    "\n",
    "from data_structures.maps.hashmap_base import HashMapBase\n",
    "\n",
    "\n",
    "class LoadFactorHashMapBase(HashMapBase):\n",
    "    def __init__(self, cap=11, load_factor=0.5, p=109345121):\n",
    "        \"\"\"Create an empty hash-table map\"\"\"\n",
    "        self._table = cap * [None]\n",
    "        self._load_factor = load_factor\n",
    "        self._n = 0                        # number of entries in the map\n",
    "        self._prime = p                    # prime for MAD compression\n",
    "        self._scale = 1 + randrange(p-1)   # scale from 1 to p-1 for MAD\n",
    "        self._shift = randrange(p)         # shift from 0 to p-1 for MAD\n",
    "    \n",
    "    def __setitem__(self, k, v):\n",
    "        j = self._hash_function(k)\n",
    "        self._bucket_setitem(j, k, v)                          # subroutine maintains self._n\n",
    "        if self._n / len(self._table) > self._load_factor:     # keep load factor <= self._load_factor\n",
    "            self._resize(2 * len(self._table) - 1)             # number 2^x - 1 is often prime"
   ]
  },
  {
   "cell_type": "markdown",
   "id": "dff7c9e2",
   "metadata": {},
   "source": [
    "R-10.16 Give a pseudo-code description of an insertion into a hash table that uses quadratic probing to resolve collisions, assuming we also use the trick of replacing deleted entries with a special “deactivated entry” object."
   ]
  },
  {
   "cell_type": "code",
   "execution_count": null,
   "id": "fd923c30",
   "metadata": {},
   "outputs": [],
   "source": [
    "from data_structures.maps.probe_hashmap import ProbeHashMap\n",
    "\n",
    "\n",
    "class QuadraticProbeHashMap(ProbeHashMap):\n",
    "    def _find_slot(self, j, k):\n",
    "        \"\"\"Search for key k in bucket at index j.\n",
    "        \n",
    "        Return (success, index) tuple, described as follows:\n",
    "        if match was found, succsss is True and index denotes its locations\n",
    "        if no match found, success is False and index denotes first available slot\n",
    "        \"\"\"\n",
    "        firstAvail = None\n",
    "        i = 0\n",
    "        while True:\n",
    "            j = (j + i**2) % len(self._table)     # changed from linear to quadratic probing\n",
    "            if self._is_available(j):\n",
    "                if firstAvail is None:\n",
    "                    firstAvail = j                # mark this as first avail\n",
    "                if self._table[j] is None:\n",
    "                    return (False, firstAvail)    # search has failed\n",
    "            elif k == self._table[j]._key:\n",
    "                return (True, j)                  # found a match\n",
    "            i += 1"
   ]
  },
  {
   "cell_type": "markdown",
   "id": "e1eb5efb",
   "metadata": {},
   "source": [
    "R-10.17 Modify our ProbeHashMap to use quadratic probing."
   ]
  },
  {
   "cell_type": "markdown",
   "id": "89dc26eb",
   "metadata": {},
   "source": [
    "Look at the answer for 10.16"
   ]
  }
 ],
 "metadata": {
  "kernelspec": {
   "display_name": "Python 3",
   "language": "python",
   "name": "python3"
  },
  "language_info": {
   "codemirror_mode": {
    "name": "ipython",
    "version": 3
   },
   "file_extension": ".py",
   "mimetype": "text/x-python",
   "name": "python",
   "nbconvert_exporter": "python",
   "pygments_lexer": "ipython3",
   "version": "3.12.1"
  }
 },
 "nbformat": 4,
 "nbformat_minor": 5
}
