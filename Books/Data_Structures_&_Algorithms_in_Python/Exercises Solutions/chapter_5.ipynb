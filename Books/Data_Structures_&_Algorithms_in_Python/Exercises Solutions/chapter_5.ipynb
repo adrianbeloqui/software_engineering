{
 "cells": [
  {
   "cell_type": "markdown",
   "metadata": {},
   "source": [
    "# Reinforcement"
   ]
  },
  {
   "cell_type": "markdown",
   "metadata": {},
   "source": [
    "R-5.1 Execute the experiment from Code Fragment 5.1 and compare the results on your system to those we report in Code Fragment 5.2."
   ]
  },
  {
   "cell_type": "code",
   "execution_count": 2,
   "metadata": {},
   "outputs": [
    {
     "name": "stdout",
     "output_type": "stream",
     "text": [
      "Length:   0; Size in bytes:   56\n",
      "Length:   1; Size in bytes:   88\n",
      "Length:   2; Size in bytes:   88\n",
      "Length:   3; Size in bytes:   88\n",
      "Length:   4; Size in bytes:   88\n",
      "Length:   5; Size in bytes:  120\n",
      "Length:   6; Size in bytes:  120\n",
      "Length:   7; Size in bytes:  120\n",
      "Length:   8; Size in bytes:  120\n",
      "Length:   9; Size in bytes:  184\n",
      "Length:  10; Size in bytes:  184\n",
      "Length:  11; Size in bytes:  184\n",
      "Length:  12; Size in bytes:  184\n",
      "Length:  13; Size in bytes:  184\n",
      "Length:  14; Size in bytes:  184\n",
      "Length:  15; Size in bytes:  184\n",
      "Length:  16; Size in bytes:  184\n",
      "Length:  17; Size in bytes:  248\n",
      "Length:  18; Size in bytes:  248\n",
      "Length:  19; Size in bytes:  248\n",
      "Length:  20; Size in bytes:  248\n",
      "Length:  21; Size in bytes:  248\n",
      "Length:  22; Size in bytes:  248\n",
      "Length:  23; Size in bytes:  248\n",
      "Length:  24; Size in bytes:  248\n",
      "Length:  25; Size in bytes:  312\n"
     ]
    }
   ],
   "source": [
    "import sys\n",
    "\n",
    "def test_list_memory_usage(n):\n",
    "    data=[]\n",
    "    for k in range(n):\n",
    "        a = len(data)\n",
    "        b = sys.getsizeof(data)\n",
    "        print(\"Length: {0:3d}; Size in bytes: {1:4d}\".format(a, b))\n",
    "        data.append(None)\n",
    "\n",
    "test_list_memory_usage(26)\n",
    "\n",
    "# Initial size of empty list is 56 bytes (more efficient than that of the book)\n",
    "# First added element increases list size by: 32 bytes (same as book)\n",
    "# 5th element increases list size by: 32 bytes (showing that architecture of system is 64-bit \n",
    "# because 4 addresses stored in the list equals 32 bytes (8 bytes * 4 addresses))\n",
    "# "
   ]
  },
  {
   "cell_type": "markdown",
   "metadata": {},
   "source": [
    "R-5.2 In Code Fragment 5.1,we perform an experiment to compare the length of a Python list to its underlying memory usage. Determining the sequence of array sizes requires a manual inspection of the output of that program. Redesign the experiment so that the program outputs only those values of k at which the existing capacity is exhausted. For example, on a system consistent with the results of Code Fragment 5.2, your program should output that the sequence of array capacities are 0, 4, 8, 16, 25, . . . ."
   ]
  },
  {
   "cell_type": "code",
   "execution_count": 9,
   "metadata": {},
   "outputs": [
    {
     "name": "stdout",
     "output_type": "stream",
     "text": [
      "Length:   0; Size in bytes:   56; Diff:   32\n",
      "Length:   4; Size in bytes:   88; Diff:   32\n",
      "Length:   8; Size in bytes:  120; Diff:   64\n",
      "Length:  16; Size in bytes:  184; Diff:   64\n",
      "Length:  24; Size in bytes:  248; Diff:   64\n",
      "Length:  32; Size in bytes:  312; Diff:   64\n",
      "Length:  40; Size in bytes:  376; Diff:   96\n",
      "Length:  52; Size in bytes:  472; Diff:   96\n",
      "Length:  64; Size in bytes:  568; Diff:   96\n",
      "Length:  76; Size in bytes:  664; Diff:  128\n",
      "Length:  92; Size in bytes:  792; Diff:  128\n",
      "Length: 108; Size in bytes:  920; Diff:  160\n",
      "Length: 128; Size in bytes: 1080; Diff:  160\n",
      "Length: 148; Size in bytes: 1240; Diff:  192\n",
      "Length: 172; Size in bytes: 1432; Diff:  224\n",
      "Length: 200; Size in bytes: 1656; Diff:  256\n",
      "Length: 232; Size in bytes: 1912; Diff:  288\n",
      "Length: 268; Size in bytes: 2200; Diff:  320\n",
      "Length: 308; Size in bytes: 2520; Diff:  352\n",
      "Length: 352; Size in bytes: 2872; Diff:  384\n",
      "Length: 400; Size in bytes: 3256; Diff:  448\n",
      "Length: 456; Size in bytes: 3704; Diff:  512\n",
      "Length: 520; Size in bytes: 4216; Diff:  576\n",
      "Length: 592; Size in bytes: 4792; Diff:  640\n",
      "Length: 672; Size in bytes: 5432; Diff:  704\n",
      "Length: 760; Size in bytes: 6136; Diff:  800\n",
      "Length: 860; Size in bytes: 6936; Diff:  896\n",
      "Length: 972; Size in bytes: 7832; Diff: 1024\n"
     ]
    }
   ],
   "source": [
    "import sys\n",
    "\n",
    "def list_memory_usage(n):\n",
    "    data=[]\n",
    "    previous_size = None\n",
    "    previous_length = None\n",
    "    for _ in range(n):\n",
    "        a = len(data)\n",
    "        b = sys.getsizeof(data)\n",
    "\n",
    "        if not previous_size:\n",
    "            previous_size = b\n",
    "    \n",
    "        if b > previous_size:\n",
    "            print(\"Length: {0:3d}; Size in bytes: {1:4d}; Diff: {2:4d}\".format(previous_length, previous_size, b-previous_size))\n",
    "            previous_size = b\n",
    "\n",
    "        data.append(None)\n",
    "        previous_length = a\n",
    "\n",
    "list_memory_usage(1000)"
   ]
  },
  {
   "cell_type": "markdown",
   "metadata": {},
   "source": [
    "R-5.3 Modify the experiment from Code Fragment 5.1 in order to demonstrate that Python’s list class occasionally shrinks the size of its underlying array when elements are popped from a list."
   ]
  },
  {
   "cell_type": "code",
   "execution_count": 11,
   "metadata": {},
   "outputs": [
    {
     "name": "stdout",
     "output_type": "stream",
     "text": [
      "Length:   0; Size in bytes:   56\n",
      "Length:   1; Size in bytes:   88\n",
      "Length:   2; Size in bytes:   88\n",
      "Length:   3; Size in bytes:   88\n",
      "Length:   4; Size in bytes:   88\n",
      "Length:   5; Size in bytes:  120\n",
      "Length:   6; Size in bytes:  120\n",
      "Length:   7; Size in bytes:  120\n",
      "Length:   8; Size in bytes:  120\n",
      "Length:   9; Size in bytes:  184\n",
      "Length:  10; Size in bytes:  184\n",
      "Length:  11; Size in bytes:  184\n",
      "Length:  12; Size in bytes:  184\n",
      "Length:  13; Size in bytes:  184\n",
      "Length:  14; Size in bytes:  184\n",
      "Length:  15; Size in bytes:  184\n",
      "Length:  16; Size in bytes:  184\n",
      "Length:  17; Size in bytes:  248\n",
      "Length:  18; Size in bytes:  248\n",
      "Length:  19; Size in bytes:  248\n",
      "Length:  20; Size in bytes:  248\n",
      "Length:  21; Size in bytes:  248\n",
      "Length:  22; Size in bytes:  248\n",
      "Length:  23; Size in bytes:  248\n",
      "Length:  24; Size in bytes:  248\n",
      "Length:  25; Size in bytes:  312\n",
      "Length:  26; Size in bytes:  312\n",
      "Length:  27; Size in bytes:  312\n",
      "Length:  28; Size in bytes:  312\n",
      "Length:  29; Size in bytes:  312\n",
      "Length:  30; Size in bytes:  312\n",
      "Length:  31; Size in bytes:  312\n",
      "Length:  32; Size in bytes:  312\n",
      "Length:  33; Size in bytes:  376\n",
      "Length:  34; Size in bytes:  376\n",
      "Length:  35; Size in bytes:  376\n",
      "Length:  36; Size in bytes:  376\n",
      "Length:  37; Size in bytes:  376\n",
      "Length:  38; Size in bytes:  376\n",
      "Length:  39; Size in bytes:  376\n",
      "Length:  40; Size in bytes:  376\n",
      "Length:  41; Size in bytes:  472\n",
      "Length:  42; Size in bytes:  472\n",
      "Length:  43; Size in bytes:  472\n",
      "Length:  44; Size in bytes:  472\n",
      "Length:  45; Size in bytes:  472\n",
      "Length:  46; Size in bytes:  472\n",
      "Length:  47; Size in bytes:  472\n",
      "Length:  48; Size in bytes:  472\n",
      "Length:  49; Size in bytes:  472\n",
      "\n",
      "Testing shrinking:\n",
      "\n",
      "\n",
      "Length:  49; Size in bytes:  472\n",
      "Length:  48; Size in bytes:  472\n",
      "Length:  47; Size in bytes:  472\n",
      "Length:  46; Size in bytes:  472\n",
      "Length:  45; Size in bytes:  472\n",
      "Length:  44; Size in bytes:  472\n",
      "Length:  43; Size in bytes:  472\n",
      "Length:  42; Size in bytes:  472\n",
      "Length:  41; Size in bytes:  472\n",
      "Length:  40; Size in bytes:  472\n",
      "Length:  39; Size in bytes:  472\n",
      "Length:  38; Size in bytes:  472\n",
      "Length:  37; Size in bytes:  472\n",
      "Length:  36; Size in bytes:  472\n",
      "Length:  35; Size in bytes:  472\n",
      "Length:  34; Size in bytes:  472\n",
      "Length:  33; Size in bytes:  472\n",
      "Length:  32; Size in bytes:  472\n",
      "Length:  31; Size in bytes:  472\n",
      "Length:  30; Size in bytes:  472\n",
      "Length:  29; Size in bytes:  472\n",
      "Length:  28; Size in bytes:  472\n",
      "Length:  27; Size in bytes:  472\n",
      "Length:  26; Size in bytes:  472\n",
      "Length:  25; Size in bytes:  312\n",
      "Length:  24; Size in bytes:  312\n",
      "Length:  23; Size in bytes:  312\n",
      "Length:  22; Size in bytes:  312\n",
      "Length:  21; Size in bytes:  312\n",
      "Length:  20; Size in bytes:  312\n",
      "Length:  19; Size in bytes:  312\n",
      "Length:  18; Size in bytes:  312\n",
      "Length:  17; Size in bytes:  312\n",
      "Length:  16; Size in bytes:  312\n",
      "Length:  15; Size in bytes:  216\n",
      "Length:  14; Size in bytes:  216\n"
     ]
    }
   ],
   "source": [
    "import sys\n",
    "\n",
    "def test_list_shrinking_memory_usage(n):\n",
    "    data=[]\n",
    "    for k in range(n):\n",
    "        a = len(data)\n",
    "        b = sys.getsizeof(data)\n",
    "        print(\"Length: {0:3d}; Size in bytes: {1:4d}\".format(a, b))\n",
    "        data.append(None)\n",
    "    print(\"\\nTesting shrinking:\\n\\n\")\n",
    "    for k in range((n//4)*3):\n",
    "        data.pop()\n",
    "        a = len(data)\n",
    "        b = sys.getsizeof(data)\n",
    "        print(\"Length: {0:3d}; Size in bytes: {1:4d}\".format(a, b))\n",
    "\n",
    "test_list_shrinking_memory_usage(50)\n",
    "\n",
    "# Between length 25 and length 49, Python increased the list size twice,\n",
    "# however, Python only shrink the size of the list 1 time when going from 49 to 25\n",
    "# Note that when shrinking, overall size on length 15 is 216 compared to 184 and 248 on length 17,\n",
    "# so it seems like it does some mathematical solution to define the size."
   ]
  },
  {
   "cell_type": "markdown",
   "metadata": {},
   "source": [
    "R-5.4 Our Dynamic Array class, as given in CodeFragment 5.3, does not support use of negative indices with `__getitem__`. Update that method to better match the semantics of a Python list."
   ]
  },
  {
   "cell_type": "code",
   "execution_count": 19,
   "metadata": {},
   "outputs": [
    {
     "name": "stdout",
     "output_type": "stream",
     "text": [
      "0 1 2 3 4 5 6 7 8 9 \n",
      "9\n",
      "7\n",
      "0\n",
      "0\n",
      "1\n"
     ]
    }
   ],
   "source": [
    "import ctypes # provides low-level arrays \n",
    "\n",
    "class DynamicArray:\n",
    "\n",
    "    def __init__(self):\n",
    "        self._n = 0\n",
    "        self._capacity = 1\n",
    "        self._A = self._make_array(self._capacity)\n",
    "\n",
    "    def __len__(self):\n",
    "        return self._n\n",
    "    \n",
    "    def __getitem__(self, k):\n",
    "        if k < 0:\n",
    "            k = self._n + k\n",
    "    \n",
    "        if not 0 <= k < self._n:\n",
    "            raise IndexError(\"invalid index\")\n",
    "        return self._A[k]\n",
    "\n",
    "    def append(self, obj):\n",
    "        if self._n == self._capacity:\n",
    "            self._resize(2 * self._capacity)\n",
    "        self._A[self._n] = obj\n",
    "        self._n += 1\n",
    "\n",
    "    def _resize(self, c):\n",
    "        B = self._make_array(c)\n",
    "        for k in range(self._n):\n",
    "            B[k] = self._A[k]\n",
    "        self._A = B\n",
    "        self._capacity = c\n",
    "\n",
    "    def _make_array(self, c):\n",
    "        return (c * ctypes.py_object)()\n",
    "\n",
    "a = DynamicArray()\n",
    "for i in range(10):\n",
    "    a.append(i)\n",
    "    print(i, end=\" \")\n",
    "print()\n",
    "print(a[-1])\n",
    "print(a[-3])\n",
    "print(a[-len(a)])\n",
    "print(a[0])\n",
    "print(a[1])"
   ]
  },
  {
   "cell_type": "markdown",
   "metadata": {},
   "source": [
    "R-5.5 Redo the justification of Proposition 5.1 assuming that the the cost of growing the array from size k to size 2k is 3k cyber-dollars. How much should each append operation be charged to make the amortization work?\n",
    "\n",
    "Each append operation should be charged: 7.\n",
    "\n",
    "Assuming that 1 cyber-dollar is enough to pay for the execution of each append operation, and assuming that the cost of growing the array from size k to size 2k is 3k cyber dollars, we can determine how many cyber dollars we need to charge by use of the following example:\n",
    "\n",
    "If we have a list of 8 elements, where the cost of going from 4 to 8 elements has been paid, and we need to have saved enough in the 4 elements that have been added (from the 5th to the 8th element), and we also know that we need to duplicate the size of the list, being k=8, it is going to cost 3\\*8 = 24 cyber-dollars, then we need to have saved 24/4 = 6 cyber-dollars per element. \n",
    "\n",
    "So, if we charge 7 cyber-dollars per append operation, in the example where k=8, we would have 7\\*4 - 6\\*4 = 24, where 12\\*4 is the total amount of cyber-dollars charged from the 5th to the 8th element, and 1*4 is the amount of cyber-dollars used already to append the 5th to 8th elements. Thus, leaving with a credit of 24 cyber-dollars to be used when the array needs to grow from k to 2k, that is from 8 to 16 elements in this example."
   ]
  },
  {
   "cell_type": "markdown",
   "metadata": {},
   "source": [
    "R-5.6 Our implementation of insert for the DynamicArray class, as given in Code Fragment 5.5, has the following inefficiency. In the case when a resize occurs, the resize operation takes time to copy all the elements from an old array to a new array, and then the subsequent loop in the body of insert shifts many of those elements. Give an improved implementation of the insert method, so that, in the case of a resize, the elements are shifted into their final position during that operation, thereby avoiding the subsequent shifting."
   ]
  },
  {
   "cell_type": "code",
   "execution_count": 36,
   "metadata": {},
   "outputs": [
    {
     "name": "stdout",
     "output_type": "stream",
     "text": [
      "0,1,2,3,4\n",
      "5,0,1,6,8,2,3,4,9,7 16\n"
     ]
    }
   ],
   "source": [
    "import ctypes\n",
    "\n",
    "class DynamicArray:\n",
    "\n",
    "    def __init__(self):\n",
    "        self._n = 0\n",
    "        self._capacity = 1\n",
    "        self._A = self._make_array(self._capacity)\n",
    "\n",
    "    def __len__(self):\n",
    "        return self._n\n",
    "    \n",
    "    def __getitem__(self, k):\n",
    "        if k < 0:\n",
    "            k = self._n + k\n",
    "    \n",
    "        if not 0 <= k < self._n:\n",
    "            raise IndexError(\"invalid index\")\n",
    "        return self._A[k]\n",
    "\n",
    "    def append(self, obj):\n",
    "        if self._n == self._capacity:\n",
    "            self._resize(2 * self._capacity)\n",
    "        self._A[self._n] = obj\n",
    "        self._n += 1\n",
    "\n",
    "    def _resize(self, c, k = -1):\n",
    "        B = self._make_array(c)\n",
    "        shift = 1 if k > -1 else 0\n",
    "    \n",
    "        for i in range(k):\n",
    "            B[i] = self._A[i]\n",
    "    \n",
    "        for j in range(self._n-1, k-1, -1):\n",
    "            B[j+shift] = self._A[j]\n",
    "    \n",
    "        self._A = B\n",
    "        self._capacity = c\n",
    "\n",
    "    def _make_array(self, c):\n",
    "        return (c * ctypes.py_object)()\n",
    "        #return [None] * c  # for debugging\n",
    "    \n",
    "    def insert(self, k, value):\n",
    "        if k < 0:\n",
    "            k = self._n + 1 + k\n",
    "\n",
    "        if self._n == self._capacity:\n",
    "            self._resize(2 * self._capacity, k)\n",
    "        else:\n",
    "            for j in range(self._n, k, -1):\n",
    "                self._A[j] = self._A[j-1]\n",
    "\n",
    "        self._A[k] = value\n",
    "        self._n += 1\n",
    "\n",
    "    def __str__(self):\n",
    "        return \",\".join(str(self._A[x]) for x in range(self._n))\n",
    "\n",
    "\n",
    "a = DynamicArray()\n",
    "for i in range(5):  \n",
    "    a.append(i)\n",
    "print(a)\n",
    "a.insert(0,5)\n",
    "a.insert(3,6)\n",
    "a.insert(7,7)\n",
    "a.insert(4,8)\n",
    "a.insert(-2,9)\n",
    "print(a, a._capacity)\n",
    "\n"
   ]
  },
  {
   "cell_type": "markdown",
   "metadata": {},
   "source": [
    "R-5.7 Let A be an array of size n ≥ 2 containing integers from 1 to n − 1, inclusive, with exactly one repeated. Describe a fast algorithm for finding the integer in A that is repeated."
   ]
  },
  {
   "cell_type": "code",
   "execution_count": 10,
   "metadata": {},
   "outputs": [
    {
     "name": "stdout",
     "output_type": "stream",
     "text": [
      "15 [1, 2, 3, 4, 7, 5, 6, 7, 8, 9, 10, 11, 12, 13, 14]\n",
      "7\n",
      "7\n"
     ]
    }
   ],
   "source": [
    "# time: O(n)\n",
    "# space: O(n)\n",
    "def find_duplicate(A: list) -> int:\n",
    "    found = {}\n",
    "    for el in A:\n",
    "        if found.get(el, None) is not None:\n",
    "            return el\n",
    "        else:\n",
    "            found[el] = el\n",
    "    return None\n",
    "\n",
    "\"\"\"\n",
    "Potential improvement for the above algorithm could be on the space side.\n",
    "\n",
    "Another approach could be with the equation for the sum of number from 1 to n, which is (n * (n+1)) for n = length - 1 given that \n",
    "there one repeated element. By removing each element from the total, the remaining value will be a negative value for which the absolute \n",
    "value will be the repeated element. However, this algorithm would work only if the list A is an order or unorder list of incremental\n",
    "integers from 1 to n - 1 with one repeated element\n",
    "\"\"\"\n",
    "\n",
    "def find_duplicate2(A: list) -> int:\n",
    "    length = len(A)\n",
    "    total = ((length - 1) * length) // 2\n",
    "    for el in A:\n",
    "        total -= el\n",
    "    return abs(total)\n",
    "\n",
    "A = [x for x in range(1, 15)]\n",
    "A.insert(4, 7)\n",
    "\n",
    "print(find_duplicate(A))\n",
    "print(find_duplicate2(A))"
   ]
  },
  {
   "cell_type": "markdown",
   "metadata": {},
   "source": [
    "R-5.8 Experimentally evaluate the efficiency of the pop method of Python’s list class when using varying indices as a parameter, as we did for insert on page 205. Report your results akin to Table 5.5."
   ]
  },
  {
   "cell_type": "code",
   "execution_count": 33,
   "metadata": {},
   "outputs": [
    {
     "name": "stdout",
     "output_type": "stream",
     "text": [
      "               |   100    |   1000   |  10000   |  100000  |  500000  |\n",
      "     k = 0     |  0.110   |  0.173   |  1.146   |  11.521  |  58.041  |\n",
      "  k = n // 2   |  0.114   |  0.103   |  0.391   |  3.424   |  19.573  |\n",
      "     k = n     |  0.091   |  0.068   |  0.073   |  0.081   |  0.069   |\n"
     ]
    }
   ],
   "source": [
    "from time import time\n",
    "\n",
    "def test_pop(n: int, pop_idx):\n",
    "    test_set = [x for x in range(n)]\n",
    "    operations = 0\n",
    "    start = time()\n",
    "    for _ in test_set:\n",
    "        if pop_idx is not None:\n",
    "            test_set.pop(pop_idx)\n",
    "        else:\n",
    "            test_set.pop()\n",
    "        operations += 1\n",
    "    return ((time() - start) / operations) * 1000000  # microseconds\n",
    "\n",
    "print(\"{:^15}|{:^10}|{:^10}|{:^10}|{:^10}|{:^10}|\".format(\"\", 100, 1000, 10000, 100000, 500000))\n",
    "\n",
    "for k in range(3):\n",
    "    repr = { 0: \"k = 0\", 1: \"k = n // 2\", 2: \"k = n\"}\n",
    "    func = { 0: lambda x: 0, 1: lambda x: x//2, 2: lambda x: None}\n",
    "\n",
    "    print(\"{:^15}|\".format(repr[k]), end=\"\")\n",
    "\n",
    "    for step in (100, 1000, 10000, 100000, 500000):\n",
    "        print(\"{:^10.3f}|\".format(test_pop(step, func[k](step))), end=\"\")\n",
    "    print()\n"
   ]
  },
  {
   "cell_type": "markdown",
   "metadata": {},
   "source": [
    "R-5.9 Explain the changes that would have to be made to the program of Code Fragment 5.11 so that it could perform the Caesar cipher for messages that are written in an alphabet-based language other than English, such as Greek, Russian, or Hebrew."
   ]
  },
  {
   "cell_type": "code",
   "execution_count": 38,
   "metadata": {},
   "outputs": [
    {
     "name": "stdout",
     "output_type": "stream",
     "text": [
      "English Cipher\n",
      "Secret: WKH HDJOH LV LQ SODB; PHHW DW MRH V.\n",
      "Message: THE EAGLE IS IN PLAY; MEET AT JOE S.\n",
      "\n",
      "Greek Cipher\n",
      "Secret: ΞΙΖΗίΥ ΓΕΗΒµΗΦςΙΦΡΥ ΗΛτΛΦΒ µΡΟ ΦΙΟ τΦΗΕΙΟ\n",
      "Message: μηδείς αγεωµετρητος εισιτω µον την στεγην\n"
     ]
    }
   ],
   "source": [
    "\"\"\"\n",
    "The changes that would have to made are:\n",
    "\n",
    "First, the size of the alphabet would have to be parameterized, that is, the \"26\" in the existing code would have to be a value\n",
    "that is provided at the initialization of the object.\n",
    "\n",
    "And lastly, the first letter of the alphabet to be used would also have to be parameterized so that it can be used across the code.\n",
    "\n",
    "This is assuming that Python is able to transform the Unicode characters of the different languages into integer values and viceversa. \n",
    "Another consideration would be that the alphabets would have to have continuos characters so that their translation into integers is\n",
    "in increasing order, as the English alphabet.\n",
    "\n",
    "Another approach would be to provide a string or list with every character of a given language, and then utilizing the length of the\n",
    "string/array and the indexes to calculate the encoding and decoding, without relaying on the ord/char functions. This is the solution\n",
    "implemented below for a more general approach.\n",
    "\"\"\"\n",
    "\n",
    "class CaesarCipher:\n",
    "\n",
    "    def __init__(self, shift, alphabet='ABCDEFGHIJKLMNOPQRSTUVWXYZ'):\n",
    "        alphabet_length = len(alphabet)\n",
    "        self._encoder = dict()\n",
    "        self._decoder = dict()\n",
    "\n",
    "        for k, el in enumerate(alphabet):\n",
    "            self._encoder[el] = alphabet[(k + shift) % alphabet_length]\n",
    "            self._decoder[el] = alphabet[(k - shift) % alphabet_length]\n",
    "\n",
    "    def encrypt(self, message):\n",
    "        return self._transform(message, self._encoder)\n",
    "    \n",
    "    def decrypt(self, secret):\n",
    "        return self._transform(secret, self._decoder)\n",
    "    \n",
    "    def _transform(self, original, code):\n",
    "        msg = list(original)\n",
    "        for i, el in enumerate(msg):\n",
    "            if el in code: # O(1) because it is a dictionary\n",
    "                msg[i] = code[el]\n",
    "        return ''.join(msg)\n",
    "\n",
    "print('English Cipher')\n",
    "cipher = CaesarCipher(3)\n",
    "message = \"THE EAGLE IS IN PLAY; MEET AT JOE S.\"\n",
    "coded = cipher.encrypt(message)\n",
    "print(\"Secret:\", coded)\n",
    "answer = cipher.decrypt(coded)\n",
    "print(\"Message:\", answer)\n",
    "\n",
    "print('\\nGreek Cipher')\n",
    "greek_cipher = CaesarCipher(3, alphabet=\"ΑαΒβΓγΔδΕεΖζΗηΘθΙιΚκΛλΜμΝνΞξΟοΠπΡρΣσςΤτΥυΦφΧχΨψΩω\")\n",
    "greek_message = \"μηδείς αγεωµετρητος εισιτω µον την στεγην\"\n",
    "greek_coded = greek_cipher.encrypt(greek_message)\n",
    "print(\"Secret:\", greek_coded)\n",
    "greek_answer = greek_cipher.decrypt(greek_coded)\n",
    "print(\"Message:\", greek_answer)"
   ]
  },
  {
   "cell_type": "markdown",
   "metadata": {},
   "source": [
    "R-5.10 The constructor for the CaesarCipher class in Code Fragment 5.11 can be implemented with a two-line body by building the forward and backward strings using a combination of the join method and an appropriate comprehension syntax. Give such an implementation."
   ]
  },
  {
   "cell_type": "code",
   "execution_count": 4,
   "metadata": {},
   "outputs": [
    {
     "name": "stdout",
     "output_type": "stream",
     "text": [
      "English Cipher\n",
      "Secret: WKH HDJOH LV LQ SODB; PHHW DW MRH V.\n",
      "Message: THE EAGLE IS IN PLAY; MEET AT JOE S.\n"
     ]
    }
   ],
   "source": [
    "class CaesarCipher:\n",
    "    def __init__(self, shift):\n",
    "        self._encoder = ''.join([chr((k + shift) % 26 + ord(\"A\")) for k in range(26)])\n",
    "        self._decoder = ''.join([chr((k - shift) % 26 + ord(\"A\")) for k in range(26)])\n",
    "    \n",
    "    def encrypt(self, message):\n",
    "        return self._transform(message, self._encoder)\n",
    "    \n",
    "    def decrypt(self, secret):\n",
    "        return self._transform(secret, self._decoder)\n",
    "    \n",
    "    def _transform(self, original, code):\n",
    "        msg = list(original)\n",
    "        for k in range(len(msg)):\n",
    "            if msg[k].isupper():\n",
    "                j = ord(msg[k]) - ord('A')\n",
    "                msg[k] = code[j]\n",
    "        return ''.join(msg)\n",
    "\n",
    "\n",
    "print('English Cipher')\n",
    "cipher = CaesarCipher(3)\n",
    "message = \"THE EAGLE IS IN PLAY; MEET AT JOE S.\"\n",
    "coded = cipher.encrypt(message)\n",
    "print(\"Secret:\", coded)\n",
    "answer = cipher.decrypt(coded)\n",
    "print(\"Message:\", answer)"
   ]
  }
 ],
 "metadata": {
  "kernelspec": {
   "display_name": "Python 3",
   "language": "python",
   "name": "python3"
  },
  "language_info": {
   "codemirror_mode": {
    "name": "ipython",
    "version": 3
   },
   "file_extension": ".py",
   "mimetype": "text/x-python",
   "name": "python",
   "nbconvert_exporter": "python",
   "pygments_lexer": "ipython3",
   "version": "3.10.13"
  }
 },
 "nbformat": 4,
 "nbformat_minor": 2
}
