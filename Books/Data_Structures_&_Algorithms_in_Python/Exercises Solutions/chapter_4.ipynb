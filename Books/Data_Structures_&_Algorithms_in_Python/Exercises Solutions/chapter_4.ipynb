{
 "cells": [
  {
   "cell_type": "markdown",
   "metadata": {},
   "source": [
    "# Reinforcement"
   ]
  },
  {
   "cell_type": "markdown",
   "metadata": {},
   "source": [
    "R-4.1 Describe a recursive algorithm for finding the maximum element in a sequence, S, of n elements. What is your running time and space usage?"
   ]
  },
  {
   "cell_type": "code",
   "execution_count": 10,
   "metadata": {},
   "outputs": [
    {
     "name": "stdout",
     "output_type": "stream",
     "text": [
      "356\n",
      "-1\n",
      "2\n"
     ]
    }
   ],
   "source": [
    "# time: O(2^logn) = O(n)\n",
    "# space: O(log n)\n",
    "def find_max(S, max, start, stop):\n",
    "    if start > stop - 1:\n",
    "        return -1\n",
    "    elif start == stop - 1:\n",
    "        return S[start]\n",
    "    mid = (start + stop) // 2\n",
    "    left_max = find_max(S, max, start, mid)\n",
    "    right_max = find_max(S, max, mid, stop)\n",
    "    return left_max if left_max > right_max else right_max\n",
    "\n",
    "S = [100,1,34,323,23,12,356, 10]\n",
    "print(find_max(S, -1, 0, len(S)))\n",
    "print(find_max([], -1, 0, 0))\n",
    "print(find_max([2], -1, 0, 1))\n"
   ]
  },
  {
   "cell_type": "markdown",
   "metadata": {},
   "source": [
    "R-4.2 Draw the recursion trace for the computation of power(2,5), using the traditional function implemented in Code Fragment 4.11.\n",
    "\n",
    "```\n",
    "power(2,5) - 2 * power(2,4) = 2 * 16 => returns 32\n",
    "    |\n",
    "    power(2,4) - 2 * power(2,3) = 2 * 8 => returns 16\n",
    "        |\n",
    "        power(2,3) - 2 * power(2,2) = 2 * 4 => returns 8\n",
    "            |\n",
    "            power(2,2) - 2 * power(2,1) = 2 * 2 => returns 4\n",
    "                |\n",
    "                power(2,1) - 2 * power(2,0) = 2 * 1 => returns 2\n",
    "                    |\n",
    "                    power(2,0) - returns 1\n",
    "```"
   ]
  },
  {
   "cell_type": "markdown",
   "metadata": {},
   "source": [
    "R-4.3 Draw the recursion trace for the computation of power(2,18), using the repeated squaring algorithm, as implemented in Code Fragment 4.12.\n",
    "\n",
    "```\n",
    "power(2, 18) - 512 * 512 = 262144 => returns 262144\n",
    "    |\n",
    "    power(2, 9) -    16 * 16 * 2 = 512  => returns 512\n",
    "        |\n",
    "        power(2, 4) -      4 * 4 = 16      => returns 16\n",
    "            |\n",
    "            power(2, 2) -     2 * 2 = 4       => returns 4\n",
    "                |\n",
    "                power(2, 1) -    1 * 1 * 2 = 2   => returns 2\n",
    "                    |\n",
    "                    power(2, 0) -                      returns 1\n",
    "```"
   ]
  },
  {
   "cell_type": "markdown",
   "metadata": {},
   "source": [
    "R-4.4 Draw the recursion trace for the execution of function reverse(S, 0, 5) (Code Fragment 4.10) on S = [4, 3, 6, 2, 6].\n",
    "\n",
    "```\n",
    "reverse(S, 0, 5) - modifies S to [6, 3, 6, 2, 4] => returns None\n",
    "    |\n",
    "    reverse(S, 1, 4) - modifies S to [6, 2, 6, 3, 4] => returns None\n",
    "        |\n",
    "        reverse(S, 2, 3) - fails `start < stop - 1` check => returns None\n",
    "```"
   ]
  },
  {
   "cell_type": "markdown",
   "metadata": {},
   "source": [
    "R-4.5 Draw the recursion trace for the execution of function PuzzleSolve(3,S,U) (Code Fragment 4.14), where S is empty and U = {a,b,c,d}.\n",
    "\n",
    "```\n",
    "PuzzleSolve(3,'',{a,b,c,d})\n",
    "    |\n",
    "    | - PuzzleSolve(2,'a',{b,c,d})\n",
    "            |\n",
    "            | - PuzzleSolve(1,'ab',{c,d}) => 'abc', 'abd'\n",
    "            | - PuzzleSolve(1,'ac',{b,d}) => 'acb', 'acd'\n",
    "            | - PuzzleSolve(1,'ad',{b,c}) => 'adb', 'adc'\n",
    "    |\n",
    "    | - PuzzleSolve(2,'b',{a,c,d})\n",
    "            |\n",
    "            | - PuzzleSolve(1,'ba',{c,d}) => 'bac', 'bad'\n",
    "            | - PuzzleSolve(1,'bc',{a,d}) => 'bca', 'bcd'\n",
    "            | - PuzzleSolve(1,'bd',{a,c}) => 'bda', 'bdc'\n",
    "    |\n",
    "    | - PuzzleSolve(2,'c',{a,b,d})\n",
    "            |\n",
    "            | - PuzzleSolve(1,'ca',{b,d}) => 'cab', 'cad'\n",
    "            | - PuzzleSolve(1,'cb',{a,d}) => 'cba', 'cbd'\n",
    "            | - PuzzleSolve(1,'cd',{a,b}) => 'cda', 'cdb'\n",
    "    |\n",
    "    | - PuzzleSolve(2,'d',{a,b,c})\n",
    "            |\n",
    "            | - PuzzleSolve(1,'da',{b,c}) => 'dab', 'dac'\n",
    "            | - PuzzleSolve(1,'db',{a,c}) => 'dba', 'dbc'\n",
    "            | - PuzzleSolve(1,'dc',{a,b}) => 'dca', 'dcb'\n",
    "```"
   ]
  },
  {
   "cell_type": "markdown",
   "metadata": {},
   "source": [
    "R-4.6 Describe a recursive function for computing the nth Harmonic number, Hn = ∑ from i=1 to n of 1/i."
   ]
  },
  {
   "cell_type": "code",
   "execution_count": 7,
   "metadata": {},
   "outputs": [
    {
     "name": "stdout",
     "output_type": "stream",
     "text": [
      "3.103210678210678\n"
     ]
    }
   ],
   "source": [
    "# time: O(n)\n",
    "# space: O(n)\n",
    "def harmonic_number(n):\n",
    "    if n == 1:\n",
    "        return 1\n",
    "    return 1/n + harmonic_number(n-1)\n",
    "\n",
    "print(harmonic_number(12))"
   ]
  },
  {
   "cell_type": "markdown",
   "metadata": {},
   "source": [
    "R-4.7 Describe a recursive function for converting a string of digits into the integer it represents. For example, '13531' represents the integer 13,531."
   ]
  },
  {
   "cell_type": "code",
   "execution_count": 52,
   "metadata": {},
   "outputs": [
    {
     "name": "stdout",
     "output_type": "stream",
     "text": [
      "135311234312414235413\n",
      "Execution time= 0.000125885009765625\n",
      "135311234312414235413\n",
      "Execution time= 7.891654968261719e-05\n",
      "Is second implementation faster?  True\n"
     ]
    }
   ],
   "source": [
    "import time\n",
    "\n",
    "# time: O(n)\n",
    "# space: O(n)\n",
    "def digit2int(digit, start, end):\n",
    "    if end - 1 < 0:\n",
    "        return 0\n",
    "\n",
    "    n = int(digit[end-1]) * (10**start)\n",
    "    return n + digit2int(digit, start+1, end-1)\n",
    "\n",
    "# time: O(n)\n",
    "# space: O(log n)\n",
    "def digit2int2(digit, length, start, end):\n",
    "    if start == end - 1:\n",
    "        return int(digit[start]) * (10**(length-start-1))\n",
    "    mid = (start + end) // 2\n",
    "\n",
    "    left = digit2int2(digit, length, start, mid)\n",
    "    right = digit2int2(digit, length, mid, end)\n",
    "    return left + right\n",
    "\n",
    "d = '135311234312414235413'\n",
    "start = time.time()\n",
    "print(digit2int(d, 0, len(d)))\n",
    "t1 = time.time() - start\n",
    "print(\"Execution time=\", t1)\n",
    "start = time.time()\n",
    "print(digit2int2(d, len(d), 0, len(d)))\n",
    "t2 = time.time() - start\n",
    "print(\"Execution time=\", t2)\n",
    "print(\"Is second implementation faster? \", t2 < t1)"
   ]
  },
  {
   "cell_type": "markdown",
   "metadata": {},
   "source": [
    "R-4.8 Isabel has an interesting way of summing up the values in a sequence A of n integers, where n is a power of two. She creates a new sequence B of half the size of A and sets B[i] = A[2i]+A[2i+1], for i = 0,1,...,(n/2)−1. If B has size 1, then she outputs B[0]. Otherwise, she replaces A with B, and repeats the process. What is the running time of her algorithm?\n",
    "\n",
    "Answer:\n",
    "\n",
    "First iteration: n/2\n",
    "Second iteration: n/4\n",
    "...\n",
    "Last iteration: 1\n",
    "\n",
    "So, doing the sum of all iterations = n/2 + n/4 + n/8 + ... < n\n",
    "\n",
    "So, time complexity for this algorithm is O(n)"
   ]
  },
  {
   "cell_type": "markdown",
   "metadata": {},
   "source": [
    "# Creativity"
   ]
  },
  {
   "cell_type": "markdown",
   "metadata": {},
   "source": [
    "C-4.9 Write a short recursive Python function that finds the minimum and maximum values in a sequence without using any loops."
   ]
  },
  {
   "cell_type": "code",
   "execution_count": 15,
   "metadata": {},
   "outputs": [
    {
     "name": "stdout",
     "output_type": "stream",
     "text": [
      "Node: 0:8\n",
      "\tNode: 0:4\n",
      "\t\tNode: 0:2\n",
      "\t\t\tLeaf node: 0:1\n",
      "\t\t\tLeaf node: 1:2\n",
      "\t\tNode: 2:4\n",
      "\t\t\tLeaf node: 2:3\n",
      "\t\t\tLeaf node: 3:4\n",
      "\tNode: 4:8\n",
      "\t\tNode: 4:6\n",
      "\t\t\tLeaf node: 4:5\n",
      "\t\t\tLeaf node: 5:6\n",
      "\t\tNode: 6:8\n",
      "\t\t\tLeaf node: 6:7\n",
      "\t\t\tLeaf node: 7:8\n",
      "(2, 578)\n"
     ]
    }
   ],
   "source": [
    "# Time: O(n) because you have n + n/2 + n/8 ... < 2n calls to the minmax function\n",
    "# Space: O(log n)\n",
    "# Print statement and 'tabs' paramenter only meant for demostration purposes\n",
    "def minmax(S, min, max, start, end, tabs):\n",
    "    if start == end - 1:\n",
    "        print('\\t' * tabs + \"Leaf node: {}:{}\".format(start,end))\n",
    "        return (S[start], S[start])\n",
    "    \n",
    "    print('\\t' * tabs + \"Node: {}:{}\".format(start,end))\n",
    "\n",
    "    mid = (start + end) // 2\n",
    "    left_min, left_max = minmax(S, min, max, start, mid, tabs + 1)\n",
    "    right_min, right_max = minmax(S, min, max, mid, end, tabs + 1)\n",
    "    return (\n",
    "        left_min if left_min < right_min else right_min,\n",
    "        left_max if left_max > right_max else right_max\n",
    "    )\n",
    "\n",
    "S = [100, 2, 4, 56, 578, 123, 42, 456]\n",
    "print(minmax(S, 10**10, -1, 0, len(S), 0))"
   ]
  },
  {
   "cell_type": "markdown",
   "metadata": {},
   "source": [
    "C-4.10 Describe a recursive algorithm to compute the integer part of the base-two logarithm of n using only addition and integer division."
   ]
  },
  {
   "cell_type": "code",
   "execution_count": 19,
   "metadata": {},
   "outputs": [
    {
     "name": "stdout",
     "output_type": "stream",
     "text": [
      "1\n"
     ]
    }
   ],
   "source": [
    "def integer_part_log_two(n, result=0):\n",
    "    if n <= 1:\n",
    "        return result\n",
    "    return integer_part_log_two(n//2, result+1)\n",
    "\n",
    "print(integer_part_log_two(2))"
   ]
  },
  {
   "cell_type": "markdown",
   "metadata": {},
   "source": [
    "C-4.11 Describe an efficient recursive function for solving the element uniqueness problem, which runs in time that is at most O(n^2) in the worst case without using sorting."
   ]
  },
  {
   "cell_type": "code",
   "execution_count": 25,
   "metadata": {},
   "outputs": [
    {
     "name": "stdout",
     "output_type": "stream",
     "text": [
      "True\n"
     ]
    }
   ],
   "source": [
    "def uniqueness(S, start, j1, end):\n",
    "    if start >= end - 1:\n",
    "        return True\n",
    "    \n",
    "    if j1 >= end:\n",
    "        return uniqueness(S, start+1, start+2, end)\n",
    "\n",
    "    if S[start] == S[j1]:\n",
    "        return False\n",
    "    \n",
    "    return uniqueness(S, start, j1 + 1, end)\n",
    "\n",
    "S = [20,19,5,8,9,123,243,345,356,67467,3456354,8578,879567,5785,3542,14516356,367,4574,684,854,874,1]\n",
    "print(uniqueness(S, 0, 1, len(S)))"
   ]
  },
  {
   "cell_type": "markdown",
   "metadata": {},
   "source": [
    "C-4.12 Give a recursive algorithm to compute the product of two positive integers, m and n, using only addition and subtraction."
   ]
  },
  {
   "cell_type": "code",
   "execution_count": 1,
   "metadata": {},
   "outputs": [
    {
     "name": "stdout",
     "output_type": "stream",
     "text": [
      "500\n"
     ]
    }
   ],
   "source": [
    "def product(m, n):\n",
    "    if n == 0:\n",
    "        return 0\n",
    "\n",
    "    return m + product(m, n - 1)\n",
    "\n",
    "print(product(5,100))"
   ]
  },
  {
   "cell_type": "markdown",
   "metadata": {},
   "source": [
    "C-4.13 In Section 4.2 we prove by induction that the number of lines printed by a call to draw_interval(c) is 2^(c − 1). Another interesting question is how many *dashes* are printed during that process. Prove by induction that the number of dashes printed by draw_interval(c) is 2^(c+1) − c − 2.\n",
    "\n",
    "\n",
    "Proof:\n",
    "\n",
    "Base case => c = 0\n",
    "\n",
    "    draw_interval(0) = 2^(0+1) - 0 - 2 = 2 - 0 - 2 = 0\n",
    "\n",
    "Induction => c > 0\n",
    "\n",
    "    draw_interval(c) = c + 2 * draw_interval(c - 1)\n",
    "                     = c + 2 * (2^(c-1 + 1) - (c - 1) - 2)\n",
    "                     = c + 2 * (2^c - c + 1 - 2)\n",
    "                     = c + 2*2^c - 2c + 2 - 4\n",
    "                     = 2^(c+1) - c - 2"
   ]
  },
  {
   "cell_type": "markdown",
   "metadata": {},
   "source": [
    "C-4.14 In the Towers of Hanoi puzzle,we are given a platform with three pegs, a, b, and c, sticking out of it. On peg a is a stack of n disks, each larger than the next, so that the smallest is on the top and the largest is on the bottom. The puzzle is to move all the disks from peg a to peg c, moving one disk at a time, so that we never place a larger disk on top of a smaller one. See Figure 4.15 for an example of the case n = 4. Describe a recursive algorithm for solving the Towers of Hanoi puzzle for arbitrary n. (Hint: Consider first the subproblem of moving all but the nth disk from peg a to another peg using the third as “temporary storage.”)"
   ]
  },
  {
   "cell_type": "code",
   "execution_count": 42,
   "metadata": {},
   "outputs": [
    {
     "name": "stdout",
     "output_type": "stream",
     "text": [
      "          \t          \t    1     \n",
      "          \t          \t    2     \n",
      "          \t          \t    3     \n",
      "          \t          \t    4     \n",
      "---------\t---------\t---------\n",
      "    1     \t    2     \t    3     \n",
      "\n",
      "This took a total of 15 moves!\n"
     ]
    }
   ],
   "source": [
    "\"\"\"\n",
    "Solution obtained from https://github.com/wdlcameron/Solutions-to-Data-Structures-and-Algorithms-in-Python/blob/master/Chapter%204%20Exercises.ipynb\n",
    "\n",
    "I had a hard time translating the algorithm into a recursive solution\n",
    "\"\"\"\n",
    "\n",
    "import time\n",
    "from IPython.display import clear_output\n",
    "\n",
    "class TowersOfHanoi:\n",
    "    def __init__(self, n) -> None:\n",
    "        self._n = n\n",
    "        self._pegs = [[i for i in range(n, 0, -1)], [], []]\n",
    "        self._lengths = [n, 0, 0]\n",
    "\n",
    "    def __getitem__(self, index):\n",
    "        return self._pegs[index]\n",
    "    \n",
    "    def pop(self, index):\n",
    "        self._lengths[index] -= 1\n",
    "        return self[index].pop()\n",
    "    \n",
    "    def getlen(self):\n",
    "        return self._lengths\n",
    "    \n",
    "    def __setitem__(self, index, value):\n",
    "        if self[index] and self[index][-1] < value:\n",
    "            raise ValueError (f'Illegal move.  Cannot place block with size {value} on block {self[index][-1]}')\n",
    "        else: \n",
    "            self[index].append(value)\n",
    "            self._lengths[index] += 1\n",
    "\n",
    "    def draw(self):\n",
    "        rows = []\n",
    "        row = []\n",
    "        for peg in range(1, 4):\n",
    "            row.append(\"{:^10}\".format(peg))\n",
    "        rows.append(row)\n",
    "        row = []\n",
    "        for peg in range(1, 4):\n",
    "            row.append('-' * 9)\n",
    "        rows.append(row)\n",
    "        for i in range(max(self._lengths)):\n",
    "            row = []\n",
    "            for j in range(len(self._lengths)):\n",
    "                if i < self._lengths[j]:\n",
    "                    row.append(\"{:^10}\".format( self._pegs[j][i] ))\n",
    "                else:\n",
    "                    row.append(\"{:^10}\".format(' '))\n",
    "            rows.append(row)\n",
    "\n",
    "        for r in reversed(rows):\n",
    "            print('\\t'.join(r))\n",
    "    \n",
    "    def solve(self):\n",
    "        self._count = 0\n",
    "        self._make_move(self._n, 0, 1, 2, 0)\n",
    "\n",
    "        time.sleep(0.5)\n",
    "        clear_output()\n",
    "        self.draw()\n",
    "        \n",
    "        print(f'\\nThis took a total of {self._count} moves!')   \n",
    "\n",
    "    def _make_move(self, n_disks, initial_peg, help_peg, target_peg, iterations):\n",
    "        time.sleep(0.5)\n",
    "        clear_output()\n",
    "        self.draw()\n",
    "        \n",
    "        \n",
    "        if n_disks == 1:\n",
    "            self._count += 1\n",
    "            value = self.pop(initial_peg)\n",
    "            try:\n",
    "                self[target_peg] = value\n",
    "            except Exception as e:\n",
    "                print(e)\n",
    "                self[initial_peg]\n",
    "        \n",
    "        else:\n",
    "            #Move the upper stack to the helper peg\n",
    "            self._make_move(n_disks-1, initial_peg, target_peg, help_peg, iterations+1)\n",
    "            #Move the lowest item to the target peg\n",
    "            self._make_move(1, initial_peg, help_peg, target_peg, iterations+1)\n",
    "            #Move the upper stack to the target peg\n",
    "            self._make_move(n_disks-1, help_peg, initial_peg, target_peg, iterations+1)\n",
    "\n",
    "game = TowersOfHanoi(4)\n",
    "game.solve()"
   ]
  },
  {
   "cell_type": "markdown",
   "metadata": {},
   "source": [
    "C-4.15 Write a recursive function that will output all the subsets of a set of n elements (without repeating any subsets)"
   ]
  },
  {
   "cell_type": "code",
   "execution_count": 32,
   "metadata": {},
   "outputs": [
    {
     "name": "stdout",
     "output_type": "stream",
     "text": [
      "{}\n",
      "{1}\n",
      "{2}\n",
      "{2,1}\n",
      "{3}\n",
      "{3,1}\n",
      "{3,2}\n",
      "{3,2,1}\n"
     ]
    }
   ],
   "source": [
    "# Followed approach from https://github.com/wdlcameron/Solutions-to-Data-Structures-and-Algorithms-in-Python/blob/master/Chapter%204%20Exercises.ipynb\n",
    "\n",
    "def all_subsets(S, U):\n",
    "    if len(S) == 0:\n",
    "        print('{' + ','.join([str(x) for x in U]) + '}')\n",
    "        return\n",
    "    \n",
    "    val = S.pop()\n",
    "    all_subsets(S, U)\n",
    "\n",
    "    U.append(val)\n",
    "    all_subsets(S, U)\n",
    "    U.pop()\n",
    "    S.append(val)\n",
    "\n",
    "S = [1,2,3]\n",
    "all_subsets(S, [])"
   ]
  },
  {
   "cell_type": "markdown",
   "metadata": {},
   "source": [
    "C-4.16 Write a short recursive Python function that takes a character string s and outputs its reverse. For example, the reverse of \"pots&pans\" would be 'snap&stop'."
   ]
  },
  {
   "cell_type": "code",
   "execution_count": 34,
   "metadata": {},
   "outputs": [
    {
     "name": "stdout",
     "output_type": "stream",
     "text": [
      "snap&stop\n"
     ]
    }
   ],
   "source": [
    "def _reverse(s, character, result):\n",
    "    if character < 0:\n",
    "        return result\n",
    "\n",
    "    return _reverse(s, character - 1, result + s[character])\n",
    "    \n",
    "def reverse(s):\n",
    "    return _reverse(s, len(s) - 1, '')\n",
    "\n",
    "print(reverse(\"pots&pans\"))\n",
    "    "
   ]
  },
  {
   "cell_type": "markdown",
   "metadata": {},
   "source": [
    "C-4.17 Write a short recursive Python function that determines if a string s is a palindrome, that is, it is equal to its reverse. For example, \"racecar\" and \"gohangasalamiimalasagnahog\" are palindromes."
   ]
  },
  {
   "cell_type": "code",
   "execution_count": 48,
   "metadata": {},
   "outputs": [
    {
     "name": "stdout",
     "output_type": "stream",
     "text": [
      "Is Palindrome?  | Case\n",
      "      Yes       | \n",
      "      Yes       | r\n",
      "      No        | ra\n",
      "      Yes       | rar\n",
      "      No        | rbacr\n",
      "      Yes       | racecar\n",
      "      Yes       | nurses run\n",
      "      Yes       | gohangasalamiimalasagnahog\n"
     ]
    }
   ],
   "source": [
    "def _is_palindrome(S):\n",
    "    if len(S) <= 1:\n",
    "        return True\n",
    "    \n",
    "    if S[0] != S[-1]:\n",
    "        return False\n",
    "    \n",
    "    return is_palindrome(S[1:-1])\n",
    "\n",
    "def is_palindrome(S):\n",
    "    return _is_palindrome(S.replace(\" \", \"\"))\n",
    "\n",
    "cases = [\"\", \"r\", \"ra\", \"rar\", \"rbacr\", \"racecar\", \"nurses run\", \"gohangasalamiimalasagnahog\"]\n",
    "print(\"{:^15} | {:<}\".format(\"Is Palindrome?\", \"Case\"))\n",
    "for case in cases:\n",
    "    print(\"{:^15} | {:<}\".format(\"Yes\" if is_palindrome(case) else \"No\", case))\n"
   ]
  },
  {
   "cell_type": "markdown",
   "metadata": {},
   "source": [
    "C-4.18 Use recursion to write a Python function for determining if a string s has more vowels than consonants."
   ]
  },
  {
   "cell_type": "code",
   "execution_count": 14,
   "metadata": {},
   "outputs": [
    {
     "name": "stdout",
     "output_type": "stream",
     "text": [
      "Approach #1: Word: aeiou, Vowels: 5, Constants: 0, More Vowels than Constants? True\n",
      "\n",
      "Approach #2: Word: aeiou, More Vowels than Constants? True\n",
      "\n",
      "Approach #1: Word: constant, Vowels: 2, Constants: 6, More Vowels than Constants? False\n",
      "\n",
      "Approach #2: Word: constant, More Vowels than Constants? False\n",
      "\n",
      "Approach #1: Word: vowel, Vowels: 2, Constants: 3, More Vowels than Constants? False\n",
      "\n",
      "Approach #2: Word: vowel, More Vowels than Constants? False\n",
      "\n"
     ]
    }
   ],
   "source": [
    "VOWELS = ['a', 'e', 'i', 'o', 'u']\n",
    "\n",
    "def more_vowels_than_constants(S, start, stop):\n",
    "    if start == stop -1:\n",
    "        if S[start] in VOWELS:\n",
    "            return (1, 0, True)\n",
    "        return (0, 1, False)\n",
    "\n",
    "    mid = (start + stop) // 2\n",
    "    l_v, l_c, _ = more_vowels_than_constants(S, start, mid)\n",
    "    r_v, r_c, _ = more_vowels_than_constants(S, mid, stop)\n",
    "    \n",
    "    vowels = l_v + r_v\n",
    "    constants = l_c + r_c\n",
    "\n",
    "    return (vowels, constants, vowels > constants)\n",
    "\n",
    "def more_vowels_than_constants2(S, start, stop):\n",
    "    # Approach 2, using a single counter\n",
    "    if start == stop -1:\n",
    "        if S[start] in VOWELS:\n",
    "            return -1\n",
    "        return 1\n",
    "\n",
    "    mid = (start + stop) // 2\n",
    "    left = more_vowels_than_constants2(S, start, mid)\n",
    "    right = more_vowels_than_constants2(S, mid, stop)\n",
    "\n",
    "    return left + right\n",
    "\n",
    "WORDS = ['aeiou', 'constant', 'vowel']\n",
    "for word in WORDS:\n",
    "    print(\n",
    "        \"Approach #1: Word: {}, Vowels: {}, Constants: {}, More Vowels than Constants? {}\"\n",
    "        .format(word, *more_vowels_than_constants(word, 0, len(word)))\n",
    "    )\n",
    "    print()\n",
    "    print(\n",
    "        \"Approach #2: Word: {}, More Vowels than Constants? {}\"\n",
    "        .format(word, more_vowels_than_constants2(word, 0, len(word)) < 0)\n",
    "    )\n",
    "    print()"
   ]
  },
  {
   "cell_type": "markdown",
   "metadata": {},
   "source": [
    "C 4.19 Write a short recursive Python function that rearranges a sequence of integer values so that all the even values appear before all the odd values."
   ]
  },
  {
   "cell_type": "code",
   "execution_count": 22,
   "metadata": {},
   "outputs": [
    {
     "name": "stdout",
     "output_type": "stream",
     "text": [
      "[10, 2, 8, 4, 6, 5, 7, 3, 9, 1]\n"
     ]
    }
   ],
   "source": [
    "def arrange(S, start, end):\n",
    "    if start >= end:\n",
    "        return S\n",
    "    \n",
    "    if S[start] % 2 == 1 and S[end] % 2 == 0:\n",
    "        S[start], S[end] = S[end], S[start]\n",
    "    elif S[start] % 2 == 1:\n",
    "        return arrange(S, start, end-1)\n",
    "    return arrange(S, start+1, end)\n",
    "\n",
    "S = [1,2,3,4,5,6,7,8,9,10]\n",
    "#S = [1,11,13,15,6,17,9,111]\n",
    "print(arrange(S, 0, len(S)-1))"
   ]
  },
  {
   "cell_type": "markdown",
   "metadata": {},
   "source": [
    "C-4.20 Given an unsorted sequence, S, of integers and an integer k, describe a recursive algorithm for rearranging the elements in S so that all elements less than or equal to k come before any elements larger than k. What is the running time of your algorithm on a sequence of n values?"
   ]
  },
  {
   "cell_type": "code",
   "execution_count": 46,
   "metadata": {},
   "outputs": [
    {
     "name": "stdout",
     "output_type": "stream",
     "text": [
      "[1, 9, 11, 13, 6, 15, 17, 111]\n"
     ]
    }
   ],
   "source": [
    "# time: O(n)\n",
    "def arrange(S, k, start, end):\n",
    "    if start >= end:\n",
    "        return S\n",
    "\n",
    "    if S[start] > k >= S[end]:\n",
    "        # start and end need swapping\n",
    "        S[start], S[end] = S[end], S[start]\n",
    "        return arrange(S, k, start, end-1)\n",
    "    elif S[start] > k:\n",
    "        # Start needs swap, end is in correct position\n",
    "        return arrange(S, k, start, end-1)\n",
    "    elif S[end] < k:\n",
    "        # Move lower int to left side of array\n",
    "        # This will eventually move K to end of array\n",
    "        S[start], S[end] = S[end], S[start]\n",
    "        return arrange(S, k, start+1, end)\n",
    "    elif S[end] == k:\n",
    "        # Found K at end, remaining action\n",
    "        # is to swap K with left values greater than K\n",
    "        return arrange(S, k, start+1, end)\n",
    "    # Left most and right most are in the right position\n",
    "    return arrange(S, k, start+1, end-1)\n",
    "\n",
    "S = [1,11,13,15,6,17,9,111]\n",
    "#S = [10,9,8,7,6,5,4,3,2,1]\n",
    "#S = [50,1,12]\n",
    "print(arrange(S, 15, 0, len(S)-1))"
   ]
  }
 ],
 "metadata": {
  "kernelspec": {
   "display_name": "Python 3",
   "language": "python",
   "name": "python3"
  },
  "language_info": {
   "codemirror_mode": {
    "name": "ipython",
    "version": 3
   },
   "file_extension": ".py",
   "mimetype": "text/x-python",
   "name": "python",
   "nbconvert_exporter": "python",
   "pygments_lexer": "ipython3",
   "version": "3.10.13"
  }
 },
 "nbformat": 4,
 "nbformat_minor": 2
}
