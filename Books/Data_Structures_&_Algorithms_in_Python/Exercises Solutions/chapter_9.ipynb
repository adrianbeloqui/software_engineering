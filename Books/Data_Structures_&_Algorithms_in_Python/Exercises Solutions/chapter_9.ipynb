{
 "cells": [
  {
   "cell_type": "markdown",
   "metadata": {},
   "source": [
    "# Reinforcement"
   ]
  },
  {
   "cell_type": "code",
   "execution_count": null,
   "metadata": {},
   "outputs": [],
   "source": [
    "# Import data structures folder\n",
    "import sys\n",
    "import os\n",
    "\n",
    "# Go to root software_engineering\n",
    "module_path = os.path.abspath(os.path.join('../../..'))\n",
    "if module_path not in sys.path:\n",
    "    sys.path.append(module_path)"
   ]
  },
  {
   "cell_type": "markdown",
   "metadata": {},
   "source": [
    "R-9.1 How long would it take to remove the ⌈log n⌉ smallest elements from a heap that contains n entries, using the remove_min operation?"
   ]
  },
  {
   "cell_type": "markdown",
   "metadata": {},
   "source": [
    "It would take O(k log n) where k is the ⌈log n⌉ samallest elements."
   ]
  },
  {
   "cell_type": "markdown",
   "metadata": {},
   "source": [
    "R-9.2 Suppose you label each position p of a binary tree T with a key equal to its preorder rank. Under what circumstances is T a heap?"
   ]
  },
  {
   "cell_type": "markdown",
   "metadata": {},
   "source": [
    "Given that each position p would have have its preorder rank, the heap-order property would be met, for T to be a heap, T would have to be fullfil the complete binary heap property, where each level of the tree has the maximum number of nodes possible, and the last level, if not full, has to have all the nodes on the left most possible positions."
   ]
  },
  {
   "cell_type": "markdown",
   "metadata": {},
   "source": [
    "R-9.3 What does each remove_min call return within the following sequence of priority queue ADT methods: add(5,A), add(4,B), add(7,F), add(1,D), remove min(), add(3,J), add(6,L), remove min(), remove min(), add(8,G), remove min(), add(2,H), remove min(), remove min()?"
   ]
  },
  {
   "cell_type": "markdown",
   "metadata": {},
   "source": [
    "| Operation            | Priority Queue | Return       |\n",
    "| -------------------- | -------------- | ------------ |\n",
    "| add(5,A)             | [(5,A)]      | |\n",
    "| add(4,B)             | [(4,B),(5,A)]  | |\n",
    "| add(7,F)             | [(4,B),(5,A),(7,F)]   | |\n",
    "| add(1,D)             | [(1,D),(4,B),(5,A),(7,F)]   | |\n",
    "| remove_min()         | [(4,B),(5,A),(7,F)] | (1,D) |\n",
    "| add(3,J)             | [(3,J),(4,B),(5,A),(7,F)]| |\n",
    "| add(6,L)             | [(3,J),(4,B),(5,A),(6,L),(7,F)] | |\n",
    "| remove_min()         | [(4,B),(5,A),(6,L),(7,F)] | (3,J) |\n",
    "| remove_min()         | [(5,A),(6,L),(7,F)] | (4,B) |\n",
    "| add(8,G)             | [(5,A),(6,L),(7,F),(8,G)] | |\n",
    "| remove_min()         | [(6,L),(7,F),(8,G)] | (5,A) |\n",
    "| add(2,H)             | [(2,H),(6,L),(7,F),(8,G)] | |\n",
    "| remove_min()         | [(6,L),(7,F),(8,G)] | (2,H) |\n",
    "| remove_min()         | [(7,F),(8,G)] | (6,L) |"
   ]
  },
  {
   "cell_type": "markdown",
   "metadata": {},
   "source": [
    "R-9.4 An airport is developing a computer simulation of air-traffic control that handles events such as landings and takeoffs. Each event has a time stamp that denotes the time when the event will occur. The simulation program needs to efficiently perform the following two fundamental operations:\n",
    "\n",
    "- Insert an event with a given time stamp (that is, add a future event).\n",
    "- Extract the event with smallest time stamp (that is, determine the next event to process).\n",
    "\n",
    "Which data structure should be used for the above operations? Why?\n"
   ]
  },
  {
   "cell_type": "markdown",
   "metadata": {},
   "source": [
    "This problem could be solved with a priority queue ADT, or with a heap-based priority queue for more efficient performance. \n",
    "\n",
    "This data structure will ensure that each time a new event is added, it is inserted in the proper location in relation to the other events, as well as when extracting the event with the smallest time stamp it can be easily done with the remove_min method of a priority queue."
   ]
  },
  {
   "cell_type": "markdown",
   "metadata": {},
   "source": [
    "R-9.5 The min method for the UnsortedPriorityQueue class executes in O(n) time, as analyzed in Table 9.2. Give a simple modification to the class so that min runs in O(1) time. Explain any necessary modifications to other methods of the class."
   ]
  },
  {
   "cell_type": "code",
   "execution_count": null,
   "metadata": {},
   "outputs": [],
   "source": [
    "from data_structures.queue.unsorted_priority_queue import UnsortedPriorityQueue\n",
    "\n",
    "\n",
    "class EffectiveMinUnsortedPriorityQueue(UnsortedPriorityQueue):\n",
    "    def __init__(self):\n",
    "        super().__init__()\n",
    "        self._min = None  # lets keep track of the Position with the min value in the queue\n",
    "\n",
    "    def min(self):\n",
    "        \"\"\"Return but do not remove (k,v) tuple with minimum key\"\"\"\n",
    "        p = self._min  # O(1) retrieval\n",
    "        if p:\n",
    "            item = p.element()\n",
    "            return (item._key, item._value)\n",
    "    \n",
    "    def add(self, key, value):\n",
    "        \"\"\"Add a key-value pair and keep track of the Position with the minimum value\"\"\"\n",
    "        self._data.add_last(self._Item(key, value))\n",
    "        min = self.min()\n",
    "        # Check if there is an existing min and if the new value is lower than the existing min\n",
    "        # If min is not set, or is set but is bigger than the new value, then update min with\n",
    "        # the last Position added\n",
    "        if not (min and min[1] <= value):\n",
    "            self._min = self._data.last()\n",
    "\n",
    "    def remove_min(self):\n",
    "        \"\"\"Remove and return (k,v) tuple with minimum key\n",
    "        and find new Position with the min value\n",
    "        \"\"\"\n",
    "        # Min object can still be found in O(1)\n",
    "        p = self._min\n",
    "        if p:\n",
    "            item = p.element()\n",
    "            # It is necessary to find the new min to be ready for the next removal\n",
    "            self._min = self._find_min()  # find new Position with min value, this will not increase the O(n) time of the function\n",
    "            return (item._key, item._value)\n"
   ]
  },
  {
   "cell_type": "markdown",
   "metadata": {},
   "source": [
    "R-9.6 Can you adapt your solution to the previous problem to make remove_min run in O(1) time for the UnsortedPriorityQueue class? Explain your answer."
   ]
  },
  {
   "cell_type": "markdown",
   "metadata": {},
   "source": [
    "This is not possible.\n",
    "\n",
    "Making `remove_min` to run in O(1) would require to make the priority queue a sorted priority queue, thus moving the O(n) running time to the insertion method and making the `_min` property added in the previous problem unnecessary."
   ]
  },
  {
   "cell_type": "markdown",
   "metadata": {},
   "source": [
    "R-9.7 Illustrate the execution of the selection-sort algorithm on the following input sequence: (22,15,36,44,10,3,9,13,29,25)."
   ]
  },
  {
   "cell_type": "markdown",
   "metadata": {},
   "source": [
    "C: (22,15,36,44,10,3,9,13,29,25)\n",
    "\n",
    "| Stage            | C            | Unsorted Priority Queue |\n",
    "| -------------------- | -------------------- | -------------- |\n",
    "| Input | (22,15,36,44,10,3,9,13,29,25) | [] |\n",
    "|Phase 1 | () | [22,15,36,44,10,3,9,13,29,25] |\n",
    "| Phase 2 | (3,9,10,13,15,22,25,29,36,44) | [] |"
   ]
  },
  {
   "cell_type": "markdown",
   "metadata": {},
   "source": [
    "R-9.8 Illustrate the execution of the insertion-sort algorithm on the input sequence of the previous problem."
   ]
  },
  {
   "cell_type": "markdown",
   "metadata": {},
   "source": [
    "C: (22,15,36,44,10,3,9,13,29,25)\n",
    "\n",
    "| Stage            | C            | Sorted Priority Queue |\n",
    "| -------------------- | -------------------- | -------------- |\n",
    "| Input | (22,15,36,44,10,3,9,13,29,25) | [] |\n",
    "| Phase 1 a | (15,36,44,10,3,9,13,29,25) | [22] |\n",
    "| Phase 1 b | (36,44,10,3,9,13,29,25) | [15, 22] |\n",
    "| Phase 1 c | (44,10,3,9,13,29,25) | [15, 22, 36] |\n",
    "| Phase 1 . | ... | ... |\n",
    "| Phase 1 n | () | [3,9,10,13,15,22,25,29,36,44] |\n",
    "| Phase 2 a | (3) | [9,10,13,15,22,25,29,36,44] |\n",
    "| Phase 2 b | (3,9) | [10,13,15,22,25,29,36,44] |\n",
    "| Phase 2 c | (3,9,10) | [13,15,22,25,29,36,44] |\n",
    "| Phase 2 . | ... | ... |\n",
    "| Phase 2 n | (3,9,10,13,15,22,25,29,36,44) | [] |"
   ]
  },
  {
   "cell_type": "markdown",
   "metadata": {},
   "source": [
    "R-9.9 Give an example of a worst-case sequence with n elements for insertion-sort, and show that insertion-sort runs in Ω(n^2) time on such a sequence."
   ]
  },
  {
   "cell_type": "markdown",
   "metadata": {},
   "source": [
    "A worst case scenario for insertion sort is when the input is sorted in the opposite order than what the insertion sort is trying to sort.\n",
    "An example is: [10,9,8,7,6,5,4,3,2,1]\n",
    "Having this input will cause the insertion into the queue to cause that the sum of the calls add the running as follows:\n",
    "\n",
    "1 + 2 + 3 + ... + n , where n is the number of element in the input\n",
    "\n",
    "This total number for this summation can be represented with the formula of the sum of all integer from 1 to n, which is n*(n+1)/2, which makes the running time to be \n",
    "O(n^2)"
   ]
  },
  {
   "cell_type": "markdown",
   "metadata": {},
   "source": [
    "R-9.10 At which positions of a heap might the third smallest key be stored?"
   ]
  },
  {
   "cell_type": "markdown",
   "metadata": {},
   "source": [
    "As a right child of the root if it is using an increasing order."
   ]
  },
  {
   "cell_type": "markdown",
   "metadata": {},
   "source": [
    "R-9.11 At which positions of a heap might the largest key be stored?"
   ]
  },
  {
   "cell_type": "markdown",
   "metadata": {},
   "source": [
    "At the leaf nodes of the lowest level of the heap"
   ]
  },
  {
   "cell_type": "markdown",
   "metadata": {},
   "source": [
    "R-9.12 Consider a situation in which a user has numeric keys and wishes to have a priority queue that is maximum-oriented. How could a standard (min-oriented) priority queue be used for such a purpose?"
   ]
  },
  {
   "cell_type": "markdown",
   "metadata": {},
   "source": [
    "Assuming we can't modify the standard priority queue, the user could make multiply the keys by -1 at the time of insertion and when removing the elements multiply by -1 again to get the original key value. Thus, always getting the larger element on the negative scale first."
   ]
  },
  {
   "cell_type": "markdown",
   "metadata": {},
   "source": [
    "R-9.13 Illustrate the execution of the in-place heap-sort algorithm on the following input sequence: (2,5,16,4,10,23,39,18,26,15)."
   ]
  },
  {
   "cell_type": "markdown",
   "metadata": {},
   "source": [
    "C: (2,5,16,4,10,23,39,18,26,15)\n",
    "\n",
    "\n",
    "| C            | Heap in-place |\n",
    "| -------------------- | -------------- |\n",
    "| (2,5,16,4,10,23,39,18,26,15) | [] |\n",
    "| (5,16,4,10,23,39,18,26,15) | [2] |\n",
    "| (16,4,10,23,39,18,26,15) | [5,2] |\n",
    "| (4,10,23,39,18,26,15) | [16,5,2] |\n",
    "| (10,23,39,18,26,15) | [16,5,2,4] |\n",
    "| (23,39,18,26,15) | [16,10,2,4,5] |\n",
    "| (39,18,26,15) | [23,10,16,4,5,2] |\n",
    "| (18,26,15) | [39,10,23,4,5,2,16] |\n",
    "| (26,15) | [39,18,23,10,5,2,16,4] |\n",
    "| (15) | [39,26,23,18,5,2,16,4,10] |\n",
    "| () | [39,26,23,18,15,2,16,4,10,5] |\n",
    "| (39) | [26,18,23,10,15,2,16,4,5] |\n",
    "| (26,39) | [23,18,16,10,15,2,5,4] |\n",
    "| (23,26,39) | [18,15,16,10,4,2,5] |\n",
    "| (18,23,26,39) | [16,15,5,10,4,2] |\n",
    "| (16,18,23,26,39) | [15,10,5,2,4] |\n",
    "| (15,16,18,23,26,39) | [10,4,5,2] |\n",
    "| (10,15,16,18,23,26,39) | [5,4,2] |\n",
    "| (5,10,15,16,18,23,26,39) | [4,2] |\n",
    "| (4,5,10,15,16,18,23,26,39) | [2] |\n",
    "| (2,4,5,10,15,16,18,23,26,39) | [] |"
   ]
  },
  {
   "cell_type": "markdown",
   "metadata": {},
   "source": [
    "R-9.14 Let T be a complete binary tree such that position p stores an element with key f(p), where f(p) is the level number of p (see Section 8.3.2). Is tree T a heap? Why or why not?"
   ]
  },
  {
   "cell_type": "markdown",
   "metadata": {},
   "source": [
    "It is a heap because both properties that make a heap are satisfied, the heap-order property and the complete binary tree property. The complete binary tree property is satisfied by the problem statement. The heap order property is satisfied by the fact that the root of the heap would have f(p) = 0, its children would have f(p) = 1 and so on until you reach the last level of the heap f(p) = last level, causing the keys to be greater than or equal to the key of p's parent."
   ]
  },
  {
   "cell_type": "markdown",
   "metadata": {},
   "source": [
    "R-9.15 Explain why the description of down-heap bubbling does not consider the case in which position p has a right child but not a left child."
   ]
  },
  {
   "cell_type": "markdown",
   "metadata": {},
   "source": [
    "The reason for this is that due to the need of maintaining the complete binary tree property, all nodes are added to the left of the tree as much as possible and only when a level is complete a new level of the tree is generated. Due to this, it is impossible to have a right child without having a left child."
   ]
  },
  {
   "cell_type": "markdown",
   "metadata": {},
   "source": [
    "R-9.16 Is there a heap H storing seven entries with distinct keys such that a pre-order traversal of H yields the entries of H in increasing or decreasing order by key? How about an inorder traversal? How about a postorder traversal? If so, give an example; if not, say why."
   ]
  },
  {
   "cell_type": "markdown",
   "metadata": {},
   "source": [
    "Pre-order increasing, yes. Example represented by the array [0,1,4,2,3,5,6]:\n",
    "    0\n",
    "   / \\\n",
    "  1   4\n",
    " / \\  / \\\n",
    " 2 3  5  6\n",
    "\n",
    "Pre-order decreasing no, because first node printed would be always the lowest key of the heap.\n",
    "\n",
    "In-order increasing is not possible because it would mean that the left most leaf has to have the lowest key, which is not possible on a heap.\n",
    "\n",
    "In-order decreasing is not possible because it would mean that the root of each sub tree need to be a value in between the lowest value of the left subtree and highest of the right subtree, which is not possible on a heap because the root of each subtree has to be equal or lower than the children.\n",
    "\n",
    "Post-order increasing no, because first node printed would always be the left most leaf node, which is going to be greater than the root.\n",
    "\n",
    "Post-order increasing, yes. Example represented by the array [1,5,2,7,6,4,3]:\n",
    "\n",
    "    1\n",
    "   / \\\n",
    "  5   2\n",
    " / \\  / \\\n",
    " 7 6  4  3"
   ]
  },
  {
   "cell_type": "markdown",
   "metadata": {},
   "source": [
    "R-9.17 Let H be a heap storing 15 entries using the array-based representation of a complete binary tree. What is the sequence of indices of the array that are visited in a preorder traversal of H? What about an inorder traversal of H? What about a postorder traversal of H?"
   ]
  },
  {
   "cell_type": "markdown",
   "metadata": {},
   "source": [
    "Pre-order: [0,1,3,7,8,4,9,10,2,5,11,12,6,13,14]\n",
    "In-order: [7,3,8,1,9,4,10,0,11,5,12,2,13,6,14]\n",
    "post-order: [7,8,3,9,10,4,1,11,12,5,13,14,6,2,0]"
   ]
  },
  {
   "cell_type": "markdown",
   "metadata": {},
   "source": [
    "R-9.18 Show that the sum from i=1 to n ∑log i, which appears in the analysis of heap-sort, is Ω(nlog n)."
   ]
  },
  {
   "cell_type": "markdown",
   "metadata": {},
   "source": []
  }
 ],
 "metadata": {
  "language_info": {
   "name": "python"
  }
 },
 "nbformat": 4,
 "nbformat_minor": 2
}
