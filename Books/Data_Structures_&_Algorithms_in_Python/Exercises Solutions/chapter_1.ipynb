{
 "cells": [
  {
   "cell_type": "markdown",
   "metadata": {},
   "source": [
    "# Reinforcement"
   ]
  },
  {
   "cell_type": "markdown",
   "metadata": {},
   "source": [
    "R-1.1 Write a short Python function, is multiple(n, m), that takes two integer values and returns True if n is a multiple of m, that is, n = mi for some integer i, and False otherwise."
   ]
  },
  {
   "cell_type": "code",
   "execution_count": 5,
   "metadata": {},
   "outputs": [
    {
     "name": "stdout",
     "output_type": "stream",
     "text": [
      "True\n",
      "False\n",
      "True\n",
      "False\n"
     ]
    }
   ],
   "source": [
    "def is_multiple(n, m):\n",
    "    return n % m == 0 if m != 0 else False\n",
    "\n",
    "print(is_multiple(10, 2))\n",
    "print(is_multiple(5,3))\n",
    "print(is_multiple(1, -1))\n",
    "print(is_multiple(1,0))"
   ]
  },
  {
   "cell_type": "markdown",
   "metadata": {},
   "source": [
    "R-1.2 Write a short Python function, is even(k), that takes an integer value and returns True if k is even, and False otherwise. However, your function cannot use the multiplication, modulo, or division operators."
   ]
  },
  {
   "cell_type": "code",
   "execution_count": 10,
   "metadata": {},
   "outputs": [
    {
     "name": "stdout",
     "output_type": "stream",
     "text": [
      "True\n",
      "False\n",
      "True\n",
      "False\n",
      "True\n"
     ]
    }
   ],
   "source": [
    "def is_even2(k):\n",
    "    # not a great implementation\n",
    "    str_k = str(k)\n",
    "    insignificant_digit = int(str_k[-1])\n",
    "    return insignificant_digit in [0,2,4,6,8]\n",
    "\n",
    "def is_even(k):\n",
    "    return k & 1 == 0\n",
    "\n",
    "print(is_even(0))\n",
    "print(is_even(1))\n",
    "print(is_even(6))\n",
    "print(is_even(777))\n",
    "print(is_even(-102948))"
   ]
  },
  {
   "cell_type": "markdown",
   "metadata": {},
   "source": [
    "R-1.3 Write a short Python function, minmax(data), that takes a sequence of one or more numbers, and returns the smallest and largest numbers, in the form of a tuple of length two. Do not use the built-in functions min or max in implementing your solution."
   ]
  },
  {
   "cell_type": "code",
   "execution_count": 14,
   "metadata": {},
   "outputs": [
    {
     "name": "stdout",
     "output_type": "stream",
     "text": [
      "(1, 99)\n",
      "(-50, 101010)\n",
      "None\n",
      "(999, 999)\n"
     ]
    }
   ],
   "source": [
    "def minmax(data):\n",
    "    if not data:\n",
    "        return\n",
    "\n",
    "    min_n = max_n = data[0]\n",
    "    for i in data:\n",
    "        min_n = i if i < min_n else min_n\n",
    "        max_n = i if i > max_n else max_n\n",
    "    return min_n, max_n\n",
    "\n",
    "print(minmax([i for i in range(1,100)]))\n",
    "print(minmax([999,-50,101010,5,87,8,54,3,2]))\n",
    "print(minmax([]))\n",
    "print(minmax([999]))"
   ]
  },
  {
   "cell_type": "markdown",
   "metadata": {},
   "source": [
    "R-1.4 Write a short Python function that takes a positive integer n and returns the sum of the squares of all the positive integers smaller than n.\n",
    "R-1.5 Give a single command that computes the sum from Exercise R-1.4, rely- ing on Python’s comprehension syntax and the built-in sum function."
   ]
  },
  {
   "cell_type": "code",
   "execution_count": 21,
   "metadata": {},
   "outputs": [
    {
     "name": "stdout",
     "output_type": "stream",
     "text": [
      "1\n",
      "5\n",
      "285\n"
     ]
    }
   ],
   "source": [
    "def sum_squares(n):\n",
    "    return sum(i*i for i in range(1, n))\n",
    "\n",
    "print(sum_squares(2))\n",
    "print(sum_squares(3))\n",
    "print(sum_squares(10))"
   ]
  },
  {
   "cell_type": "markdown",
   "metadata": {},
   "source": [
    "R-1.6 Write a short Python function that takes a positive integer n and returns the sum of the squares of all the odd positive integers smaller than n.\n",
    "R-1.7 Give a single command that computes the sum from Exercise R-1.6, rely- ing on Python’s comprehension syntax and the built-in sum function."
   ]
  },
  {
   "cell_type": "code",
   "execution_count": 27,
   "metadata": {},
   "outputs": [
    {
     "name": "stdout",
     "output_type": "stream",
     "text": [
      "1\n",
      "1\n",
      "165\n"
     ]
    }
   ],
   "source": [
    "def sum_odd_squares(n):\n",
    "    return sum(i*i for i in range(1,n,2))\n",
    "\n",
    "print(sum_odd_squares(2))\n",
    "print(sum_odd_squares(3))\n",
    "print(sum_odd_squares(10))"
   ]
  },
  {
   "cell_type": "markdown",
   "metadata": {},
   "source": [
    "R-1.8 Python allows negative integers to be used as indices into a sequence, such as a string. If string s has length n, and expression s[k] is used for index −n ≤ k < 0, what is the equivalent index j ≥ 0 such that s[j] references the same element?"
   ]
  },
  {
   "cell_type": "code",
   "execution_count": 3,
   "metadata": {},
   "outputs": [
    {
     "name": "stdout",
     "output_type": "stream",
     "text": [
      "t -1\n",
      "t 3\n",
      "t -4\n",
      "t 7\n"
     ]
    }
   ],
   "source": [
    "def neg2positive_index(s, k):\n",
    "    print(s[k], k)\n",
    "    pos = k + len(s) # n > pos >= 0\n",
    "    print(s[pos], pos)\n",
    "\n",
    "neg2positive_index(\"test\", -1)\n",
    "neg2positive_index(\"second test\", -4)"
   ]
  },
  {
   "cell_type": "markdown",
   "metadata": {},
   "source": [
    "R-1.9 What parameters should be sent to the range constructor, to produce a range with values 50, 60, 70, 80?"
   ]
  },
  {
   "cell_type": "code",
   "execution_count": 6,
   "metadata": {},
   "outputs": [
    {
     "name": "stdout",
     "output_type": "stream",
     "text": [
      "[50, 60, 70, 80]\n"
     ]
    }
   ],
   "source": [
    "print([x for x in range(50,90,10)])"
   ]
  },
  {
   "cell_type": "markdown",
   "metadata": {},
   "source": [
    "R-1.10 What parameters should be sent to the range constructor, to produce a range with values 8, 6, 4, 2, 0, −2, −4, −6, −8?"
   ]
  },
  {
   "cell_type": "code",
   "execution_count": 7,
   "metadata": {},
   "outputs": [
    {
     "name": "stdout",
     "output_type": "stream",
     "text": [
      "[8, 6, 4, 2, 0, -2, -4, -6, -8]\n"
     ]
    }
   ],
   "source": [
    "print([x for x in range(8, -10, -2)])"
   ]
  },
  {
   "cell_type": "markdown",
   "metadata": {},
   "source": [
    "R-1.11 Demonstrate how to use Python’s list comprehension syntax to produce the list [1, 2, 4, 8, 16, 32, 64, 128, 256]."
   ]
  },
  {
   "cell_type": "code",
   "execution_count": 9,
   "metadata": {},
   "outputs": [
    {
     "name": "stdout",
     "output_type": "stream",
     "text": [
      "[1, 2, 4, 8, 16, 32, 64, 128, 256]\n"
     ]
    }
   ],
   "source": [
    "print([2**x for x in range(9)])"
   ]
  },
  {
   "cell_type": "markdown",
   "metadata": {},
   "source": [
    "R-1.12 Python’s random module includes a function choice(data) that returns a random element from a non-empty sequence. The random module includes a more basic function randrange, with parameterization similar to the built-in range function, that return a random choice from the given range. Using only the randrange function, implement your own version of the choice function."
   ]
  },
  {
   "cell_type": "code",
   "execution_count": 14,
   "metadata": {},
   "outputs": [
    {
     "name": "stdout",
     "output_type": "stream",
     "text": [
      "w\n",
      "i\n",
      "T\n",
      "None\n"
     ]
    }
   ],
   "source": [
    "from random import randrange\n",
    "\n",
    "def custom_choice(data):\n",
    "    if not data:\n",
    "        return None\n",
    "    return data[randrange(0, len(data))]\n",
    "\n",
    "print(custom_choice(\"hello world\"))\n",
    "print(custom_choice(\"This is a small test\"))\n",
    "print(custom_choice(\"T\"))\n",
    "print(custom_choice(\"\"))"
   ]
  },
  {
   "cell_type": "markdown",
   "metadata": {},
   "source": [
    "# Creativity"
   ]
  },
  {
   "cell_type": "markdown",
   "metadata": {},
   "source": [
    "C1.13 Write a pseudo-code description of a function that reverses a list of n integers, so that the numbers are listed in the opposite order than they were before, and compare this method to an equivalent Python function for doing the same thing."
   ]
  },
  {
   "cell_type": "code",
   "execution_count": 17,
   "metadata": {},
   "outputs": [
    {
     "name": "stdout",
     "output_type": "stream",
     "text": [
      "[5, 4, 3, 2, 1]\n",
      "[4, 3, 2, 1]\n",
      "[]\n",
      "[1]\n"
     ]
    }
   ],
   "source": [
    "def reverse(l):\n",
    "    i, j = 0, len(l) - 1\n",
    "    while i < j:\n",
    "        l[i], l[j] = l[j], l[i]\n",
    "        i += 1\n",
    "        j -= 1\n",
    "\n",
    "for t in [[1,2,3,4,5], [1,2,3,4],[],[1]]:\n",
    "    reverse(t)\n",
    "    print(t)"
   ]
  },
  {
   "cell_type": "markdown",
   "metadata": {},
   "source": [
    "C1.14 Write a short Python function that takes a sequence of integer values and determines if there is a distinct pair of numbers in the sequence whose product is odd."
   ]
  },
  {
   "cell_type": "code",
   "execution_count": 18,
   "metadata": {},
   "outputs": [
    {
     "name": "stdout",
     "output_type": "stream",
     "text": [
      "None None\n",
      "[1, 3] 3\n",
      "None None\n"
     ]
    }
   ],
   "source": [
    "def distinct_pair(seq):\n",
    "    first_odd = None\n",
    "    for n in seq:\n",
    "        if n % 2 == 0:\n",
    "            continue\n",
    "        else:\n",
    "            if first_odd is None:\n",
    "                first_odd = n\n",
    "            else:\n",
    "                return [first_odd, n], first_odd * n\n",
    "    return first_odd, None\n",
    "\n",
    "for t in [[2,4,6,8], [1,2,3,4,5,6,7,8], []]:\n",
    "    pair, total = distinct_pair(t)\n",
    "    print(pair, total)"
   ]
  },
  {
   "cell_type": "markdown",
   "metadata": {},
   "source": [
    "C1.15 Write a Python function that takes a sequence of numbers and determines if all the numbers are different from each other (that is, they are distinct)."
   ]
  },
  {
   "cell_type": "code",
   "execution_count": 14,
   "metadata": {},
   "outputs": [
    {
     "name": "stdout",
     "output_type": "stream",
     "text": [
      "False False\n",
      "True True\n",
      "False False\n",
      "True True\n",
      "True True\n"
     ]
    }
   ],
   "source": [
    "def are_dinstint(l):\n",
    "    # Utilizing sets\n",
    "    # O(n) approach but with extra O(n) space\n",
    "    s = set(l)\n",
    "    return len(l) == len(s)\n",
    "\n",
    "def are_dinstint2(l):\n",
    "    # O(n^2)\n",
    "    # An improvement could be to iterate over the list and for each element do a binary search\n",
    "    # This would improve the time complexity to O(n log n)\n",
    "    # O(1) space complexity\n",
    "    for i in range(0, len(l)):\n",
    "        for x in range(0, len(l)):\n",
    "            if i != x and l[i] == l[x]:\n",
    "                return False\n",
    "    return True\n",
    "\n",
    "def all_unique(array):\n",
    "    # O(n) approach but with extra O(n) space\n",
    "    number_set = set()\n",
    "    for number in array:\n",
    "        if number in number_set: return False\n",
    "        else: number_set.add(number)\n",
    "    return True\n",
    "\n",
    "for t in [[2,4,4,8], [1,2,3,4,5,6,7,8], [1,2,3,4,5,6,1],[],[3]]:\n",
    "    print(are_dinstint(t), are_dinstint2(t))"
   ]
  },
  {
   "cell_type": "markdown",
   "metadata": {},
   "source": [
    "C-1.16 In our implementation of the scale function (page25),the body of the loop executes the command data[j] *= factor. We have discussed that numeric types are immutable, and that use of the *= operator in this context causes the creation of a new instance (not the mutation of an existing instance). How is it still possible, then, that our implementation of scale changes the actual parameter sent by the caller?"
   ]
  },
  {
   "cell_type": "markdown",
   "metadata": {},
   "source": [
    "The parameter sent is a mutable list that holds references to the objects, when the objects get modified and a new instance is created, the reference in the list is updated to point to the new instance of the object. Therefore, after executing the function, the list would have references that point to brand new numeric objects."
   ]
  },
  {
   "cell_type": "markdown",
   "metadata": {},
   "source": [
    "C-1.17 Had we implemented the scale function (page 25) as follows, does it work properly?\n",
    "\n",
    "def scale(data, factor):\n",
    "    for val in data:\n",
    "        val *= factor\n",
    "\n",
    "Explain why or why not."
   ]
  },
  {
   "cell_type": "markdown",
   "metadata": {},
   "source": [
    "This wouldn't have worked because what is being updated in this code is the referecen `val` not the reference that is in the list `data`."
   ]
  },
  {
   "cell_type": "markdown",
   "metadata": {},
   "source": [
    "C-1.18 Demonstrate how to use Python’s list comprehension syntax to produce the list [0, 2, 6, 12, 20, 30, 42, 56, 72, 90]."
   ]
  },
  {
   "cell_type": "code",
   "execution_count": 2,
   "metadata": {},
   "outputs": [
    {
     "name": "stdout",
     "output_type": "stream",
     "text": [
      "[0, 2, 6, 12, 20, 30, 42, 56, 72, 90]\n"
     ]
    }
   ],
   "source": [
    "def custom_stepper(start, end):\n",
    "    next_step = 0\n",
    "    last_n = start\n",
    "    for i in range(start, end):\n",
    "        if i == next_step + last_n:\n",
    "            next_step += 2\n",
    "            last_n = i\n",
    "            yield(i)\n",
    "\n",
    "def sum_of_increasing_twos():\n",
    "    # not my solution, just another interpretation of the question\n",
    "    a = 0\n",
    "    factor = 0\n",
    "    while True:\n",
    "        yield a\n",
    "        factor += 1\n",
    "        a += 2*factor\n",
    "\n",
    "print([x for x in custom_stepper(0,91)])"
   ]
  },
  {
   "cell_type": "markdown",
   "metadata": {},
   "source": [
    "C-1.19 Demonstrate how to use Python’s list comprehension syntax to produce thelist[ a , b , c ,..., z ],but without having to type all 26 such characters literally."
   ]
  },
  {
   "cell_type": "code",
   "execution_count": 9,
   "metadata": {},
   "outputs": [
    {
     "name": "stdout",
     "output_type": "stream",
     "text": [
      "['a', 'b', 'c', 'd', 'e', 'f', 'g', 'h', 'i', 'j', 'k', 'l', 'm', 'n', 'o', 'p', 'q', 'r', 's', 't', 'u', 'v', 'w', 'x', 'y', 'z']\n",
      "['a', 'b', 'c', 'd', 'e', 'f', 'g', 'h', 'i', 'j', 'k', 'l', 'm', 'n', 'o', 'p', 'q', 'r', 's', 't', 'u', 'v', 'w', 'x', 'y', 'z']\n"
     ]
    }
   ],
   "source": [
    "print([chr(x) for x in range(97, 123)])\n",
    "print([chr(97+x) for x in range(26)])  # not my solution"
   ]
  },
  {
   "cell_type": "markdown",
   "metadata": {},
   "source": [
    "C-1.20 Python’s random module includes a function shuffle(data) that accepts a list of elements and randomly reorders the elements so that each possible order occurs with equal probability. The random module includes a more basic function randint(a, b) that returns a uniformly random integer from a to b (including both endpoints). Using only the randint function, implement your own version of the shuffle function."
   ]
  },
  {
   "cell_type": "code",
   "execution_count": 12,
   "metadata": {},
   "outputs": [
    {
     "name": "stdout",
     "output_type": "stream",
     "text": [
      "Before: [2, 4, 4, 8]\n",
      "After: [4, 4, 8, 2]\n",
      "Before: [1, 2, 3, 4, 5, 6, 7, 8]\n",
      "After: [1, 6, 7, 5, 3, 2, 8, 4]\n",
      "Before: [1, 2, 3, 4, 5, 6, 1]\n",
      "After: [4, 1, 2, 1, 5, 6, 3]\n",
      "Before: []\n",
      "After: []\n",
      "Before: [3]\n",
      "After: [3]\n"
     ]
    }
   ],
   "source": [
    "from random import randint\n",
    "\n",
    "\n",
    "def custom_shuffle(data):\n",
    "    length = len(data) - 1\n",
    "    for i in range(length):\n",
    "        a = randint(0, length)\n",
    "        b = randint(0, length)\n",
    "        data[a], data[b] = data[b], data[a]\n",
    "\n",
    "for t in [[2,4,4,8], [1,2,3,4,5,6,7,8], [1,2,3,4,5,6,1],[],[3]]:\n",
    "    print(\"Before:\", t)\n",
    "    custom_shuffle(t)\n",
    "    print(\"After:\", t)"
   ]
  },
  {
   "cell_type": "markdown",
   "metadata": {},
   "source": [
    "C-1.21 Write a Python program that repeatedly reads lines from standard input until an EOFError is raised, and then outputs those lines in reverse order (a user can indicate end of input by typing ctrl-D)."
   ]
  },
  {
   "cell_type": "code",
   "execution_count": 1,
   "metadata": {},
   "outputs": [],
   "source": [
    "def read():\n",
    "    continue_reading = True\n",
    "    lines = []\n",
    "    while continue_reading:\n",
    "        try:\n",
    "            line = lines.append(input(\"Enter next line or exit with ctrl+D: \"))\n",
    "        except EOFError:\n",
    "            continue_reading = False\n",
    "    \n",
    "    # Two different interpretations of the question\n",
    "    print(\"\", end=\"\\n\")\n",
    "    print(\"Reversed content:\", end=\"\\n\\n\")\n",
    "    for line in lines:\n",
    "        print(\"\".join(list(reversed(line))))\n",
    "\n",
    "    print(\"\", end=\"\\n\")\n",
    "    print(\"Reversed input order:\", end=\"\\n\\n\")\n",
    "    for line in reversed(lines):\n",
    "        print(line)\n",
    "\n",
    "read()"
   ]
  },
  {
   "cell_type": "markdown",
   "metadata": {},
   "source": [
    "C-1.22 Write a short Python program that takes two arrays a and b of length n storing int values, and returns the dot product of a and b. That is, it returns an array c of length n such that c[i] = a[i]·b[i], for i = 0,...,n−1."
   ]
  },
  {
   "cell_type": "code",
   "execution_count": 7,
   "metadata": {},
   "outputs": [
    {
     "name": "stdout",
     "output_type": "stream",
     "text": [
      "[2, 2] 0.6735420249997333\n"
     ]
    }
   ],
   "source": [
    "import timeit\n",
    "\n",
    "\n",
    "def calculate_product(a, b):\n",
    "    return [a[i]*b[i] for i in range(len(a))]\n",
    "\n",
    "for t in [[(1,2),(2,1)]]:\n",
    "    print(calculate_product(t[0], t[1]), timeit.Timer(lambda: calculate_product(t[0], t[1])).timeit())"
   ]
  },
  {
   "cell_type": "markdown",
   "metadata": {},
   "source": [
    "C-1.23 Give an example of a Python code fragment that attempts to write an element to a list based on an index that may be out of bounds. If that index is out of bounds, the program should catch the exception that results, and print the following error message:\n",
    "“Don’t try buffer overflow attacks in Python!”"
   ]
  },
  {
   "cell_type": "code",
   "execution_count": 2,
   "metadata": {},
   "outputs": [
    {
     "name": "stdout",
     "output_type": "stream",
     "text": [
      "Don’t try buffer overflow attacks in Python!\n",
      "[1, 2, 3]\n",
      "[0, 2, 3]\n"
     ]
    }
   ],
   "source": [
    "def insert(array, el, idx):\n",
    "    try:\n",
    "        array[idx] = el\n",
    "    except IndexError:\n",
    "        print(\"Don’t try buffer overflow attacks in Python!\")\n",
    "\n",
    "a = [1,2,3]\n",
    "insert(a, 4, 3)\n",
    "print(a)\n",
    "insert(a, 0, 0)\n",
    "print(a)"
   ]
  },
  {
   "cell_type": "markdown",
   "metadata": {},
   "source": [
    "C-1.24 Write a short Python function that counts the number of vowels in a given character string."
   ]
  },
  {
   "cell_type": "code",
   "execution_count": 8,
   "metadata": {},
   "outputs": [
    {
     "name": "stdout",
     "output_type": "stream",
     "text": [
      "3\n"
     ]
    }
   ],
   "source": [
    "def count_vowels(a: str, vowels = ['a', 'e', 'i', 'o', 'u']):\n",
    "    count = 0\n",
    "    for el in a.lower():\n",
    "        if el in vowels:\n",
    "            count += 1\n",
    "    return count\n",
    "\n",
    "print(count_vowels(\"Adrian\"))"
   ]
  },
  {
   "cell_type": "markdown",
   "metadata": {},
   "source": [
    "C-1.25 Write a short Python function that takes a strings, representing a sentence, and returns a copy of the string with all punctuation removed. For example, if given the string \"Let s try, Mike.\", this function would return \"Lets try Mike\"."
   ]
  },
  {
   "cell_type": "code",
   "execution_count": 11,
   "metadata": {},
   "outputs": [
    {
     "name": "stdout",
     "output_type": "stream",
     "text": [
      "Lets try Mike\n"
     ]
    }
   ],
   "source": [
    "def remove_punctuation(string: str, punctuation = [',', '.', \"'\", ';', ':', '?', '!', '\"']):\n",
    "    return \"\".join([x for x in string if x not in punctuation])\n",
    "\n",
    "print(remove_punctuation(\"Let's try, Mike.\"))"
   ]
  },
  {
   "cell_type": "markdown",
   "metadata": {},
   "source": [
    "C-1.26 Write a short program that takes as input three integers, a, b, and c, from the console and determines if they can be used in a correct arithmetic formula (in the given order), like “a+b = c,” “a = b−c,” or “a∗b = c.”"
   ]
  },
  {
   "cell_type": "code",
   "execution_count": 14,
   "metadata": {},
   "outputs": [
    {
     "name": "stdout",
     "output_type": "stream",
     "text": [
      "True\n",
      "True\n",
      "True\n",
      "False\n"
     ]
    }
   ],
   "source": [
    "def can_they_do_arithmetic(a, b, c):\n",
    "    if a+b == c or b - c == a or c == a*b:\n",
    "        return True\n",
    "    return False\n",
    "\n",
    "for t in [ [1,2,3], [2,4,6], [3,2,6], [1,50,75] ]:\n",
    "    print(can_they_do_arithmetic(t[0], t[1], t[2]))"
   ]
  },
  {
   "cell_type": "markdown",
   "metadata": {},
   "source": [
    "C-1.27 In Section 1.8, we provided three different implementations of a generator that computes factors of a given integer. The third of those implementations, from page 41, was the most efficient, but we noted that it did not yield the factors in increasing order. Modify the generator so that it reports factors in increasing order, while maintaining its general performance advantages."
   ]
  },
  {
   "cell_type": "code",
   "execution_count": 3,
   "metadata": {},
   "outputs": [
    {
     "name": "stdout",
     "output_type": "stream",
     "text": [
      "[1, 2, 4, 5, 10, 20, 25, 50, 100]\n"
     ]
    }
   ],
   "source": [
    "def factors(n):\n",
    "    k = 1\n",
    "    high_factors = []\n",
    "    while k * k < n:\n",
    "        if n % k == 0:\n",
    "            yield k\n",
    "            high_factors.append(n // k)\n",
    "        k += 1\n",
    "\n",
    "    if k * k == n:\n",
    "        yield k\n",
    "    \n",
    "    for f in reversed(high_factors):\n",
    "        yield f\n",
    "\n",
    "print([x for x in factors(100)])"
   ]
  },
  {
   "cell_type": "markdown",
   "metadata": {},
   "source": [
    "C-1.28 The p-norm of a vector v = (v1,v2,...,vn) in n-dimensional space is defined as (see equation on book).\n",
    "For the special case of p = 2, this results in the traditional Euclidean norm, which represents the length of the vector. For example, the Euclidean norm of a two-dimensional vector with coordinates (4,3) has a Euclidean norm of 42 +32 = 16+9 = 25 = 5. Give an implementation of a function named norm such that norm(v, p) returns the p-norm value of v and norm(v) returns the Euclidean norm of v. You may assume that v is a list of numbers."
   ]
  },
  {
   "cell_type": "code",
   "execution_count": 7,
   "metadata": {},
   "outputs": [
    {
     "name": "stdout",
     "output_type": "stream",
     "text": [
      "5.0\n",
      "6.307993548663267\n"
     ]
    }
   ],
   "source": [
    "def norm(v, p=2):\n",
    "    inner = 0\n",
    "    for n in v:\n",
    "        inner += n**p\n",
    "    return inner**(1/p)\n",
    "\n",
    "print(norm([4,3]))\n",
    "print(norm([2,3,6], 3))"
   ]
  }
 ],
 "metadata": {
  "kernelspec": {
   "display_name": "Python 3",
   "language": "python",
   "name": "python3"
  },
  "language_info": {
   "codemirror_mode": {
    "name": "ipython",
    "version": 3
   },
   "file_extension": ".py",
   "mimetype": "text/x-python",
   "name": "python",
   "nbconvert_exporter": "python",
   "pygments_lexer": "ipython3",
   "version": "3.10.13"
  }
 },
 "nbformat": 4,
 "nbformat_minor": 2
}
