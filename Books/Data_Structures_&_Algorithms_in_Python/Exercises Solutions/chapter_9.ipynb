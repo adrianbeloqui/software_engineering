{
 "cells": [
  {
   "cell_type": "markdown",
   "metadata": {},
   "source": [
    "# Reinforcement"
   ]
  },
  {
   "cell_type": "code",
   "execution_count": null,
   "metadata": {},
   "outputs": [],
   "source": [
    "# Import data structures folder\n",
    "import sys\n",
    "import os\n",
    "\n",
    "# Go to root software_engineering\n",
    "module_path = os.path.abspath(os.path.join('../../..'))\n",
    "if module_path not in sys.path:\n",
    "    sys.path.append(module_path)"
   ]
  },
  {
   "cell_type": "markdown",
   "metadata": {},
   "source": [
    "R-9.1 How long would it take to remove the ⌈log n⌉ smallest elements from a heap that contains n entries, using the remove_min operation?"
   ]
  },
  {
   "cell_type": "markdown",
   "metadata": {},
   "source": [
    "It would take O(k log n) where k is the ⌈log n⌉ samallest elements."
   ]
  },
  {
   "cell_type": "markdown",
   "metadata": {},
   "source": [
    "R-9.2 Suppose you label each position p of a binary tree T with a key equal to its preorder rank. Under what circumstances is T a heap?"
   ]
  },
  {
   "cell_type": "markdown",
   "metadata": {},
   "source": [
    "Given that each position p would have have its preorder rank, the heap-order property would be met, for T to be a heap, T would have to be fullfil the complete binary heap property, where each level of the tree has the maximum number of nodes possible, and the last level, if not full, has to have all the nodes on the left most possible positions."
   ]
  },
  {
   "cell_type": "markdown",
   "metadata": {},
   "source": [
    "R-9.3 What does each remove_min call return within the following sequence of priority queue ADT methods: add(5,A), add(4,B), add(7,F), add(1,D), remove min(), add(3,J), add(6,L), remove min(), remove min(), add(8,G), remove min(), add(2,H), remove min(), remove min()?"
   ]
  },
  {
   "cell_type": "markdown",
   "metadata": {},
   "source": [
    "| Operation            | Priority Queue | Return       |\n",
    "| -------------------- | -------------- | ------------ |\n",
    "| add(5,A)             | [(5,A)]      | |\n",
    "| add(4,B)             | [(4,B),(5,A)]  | |\n",
    "| add(7,F)             | [(4,B),(5,A),(7,F)]   | |\n",
    "| add(1,D)             | [(1,D),(4,B),(5,A),(7,F)]   | |\n",
    "| remove_min()         | [(4,B),(5,A),(7,F)] | (1,D) |\n",
    "| add(3,J)             | [(3,J),(4,B),(5,A),(7,F)]| |\n",
    "| add(6,L)             | [(3,J),(4,B),(5,A),(6,L),(7,F)] | |\n",
    "| remove_min()         | [(4,B),(5,A),(6,L),(7,F)] | (3,J) |\n",
    "| remove_min()         | [(5,A),(6,L),(7,F)] | (4,B) |\n",
    "| add(8,G)             | [(5,A),(6,L),(7,F),(8,G)] | |\n",
    "| remove_min()         | [(6,L),(7,F),(8,G)] | (5,A) |\n",
    "| add(2,H)             | [(2,H),(6,L),(7,F),(8,G)] | |\n",
    "| remove_min()         | [(6,L),(7,F),(8,G)] | (2,H) |\n",
    "| remove_min()         | [(7,F),(8,G)] | (6,L) |"
   ]
  },
  {
   "cell_type": "markdown",
   "metadata": {},
   "source": [
    "R-9.4 An airport is developing a computer simulation of air-traffic control that handles events such as landings and takeoffs. Each event has a time stamp that denotes the time when the event will occur. The simulation program needs to efficiently perform the following two fundamental operations:\n",
    "\n",
    "- Insert an event with a given time stamp (that is, add a future event).\n",
    "- Extract the event with smallest time stamp (that is, determine the next event to process).\n",
    "\n",
    "Which data structure should be used for the above operations? Why?\n"
   ]
  },
  {
   "cell_type": "markdown",
   "metadata": {},
   "source": [
    "This problem could be solved with a priority queue ADT, or with a heap-based priority queue for more efficient performance. \n",
    "\n",
    "This data structure will ensure that each time a new event is added, it is inserted in the proper location in relation to the other events, as well as when extracting the event with the smallest time stamp it can be easily done with the remove_min method of a priority queue."
   ]
  },
  {
   "cell_type": "markdown",
   "metadata": {},
   "source": [
    "R-9.5 The min method for the UnsortedPriorityQueue class executes in O(n) time, as analyzed in Table 9.2. Give a simple modification to the class so that min runs in O(1) time. Explain any necessary modifications to other methods of the class."
   ]
  },
  {
   "cell_type": "code",
   "execution_count": null,
   "metadata": {},
   "outputs": [],
   "source": [
    "from data_structures.queue.unsorted_priority_queue import UnsortedPriorityQueue\n",
    "\n",
    "\n",
    "class EffectiveMinUnsortedPriorityQueue(UnsortedPriorityQueue):\n",
    "    def __init__(self):\n",
    "        super().__init__()\n",
    "        self._min = None  # lets keep track of the Position with the min value in the queue\n",
    "\n",
    "    def min(self):\n",
    "        \"\"\"Return but do not remove (k,v) tuple with minimum key\"\"\"\n",
    "        p = self._min  # O(1) retrieval\n",
    "        if p:\n",
    "            item = p.element()\n",
    "            return (item._key, item._value)\n",
    "    \n",
    "    def add(self, key, value):\n",
    "        \"\"\"Add a key-value pair and keep track of the Position with the minimum value\"\"\"\n",
    "        self._data.add_last(self._Item(key, value))\n",
    "        min = self.min()\n",
    "        # Check if there is an existing min and if the new value is lower than the existing min\n",
    "        # If min is not set, or is set but is bigger than the new value, then update min with\n",
    "        # the last Position added\n",
    "        if not (min and min[1] <= value):\n",
    "            self._min = self._data.last()\n",
    "\n",
    "    def remove_min(self):\n",
    "        \"\"\"Remove and return (k,v) tuple with minimum key\n",
    "        and find new Position with the min value\n",
    "        \"\"\"\n",
    "        # Min object can still be found in O(1)\n",
    "        p = self._min\n",
    "        if p:\n",
    "            item = p.element()\n",
    "            # It is necessary to find the new min to be ready for the next removal\n",
    "            self._min = self._find_min()  # find new Position with min value, this will not increase the O(n) time of the function\n",
    "            return (item._key, item._value)\n"
   ]
  },
  {
   "cell_type": "markdown",
   "metadata": {},
   "source": [
    "R-9.6 Can you adapt your solution to the previous problem to make remove min run in O(1) time for the UnsortedPriorityQueue class? Explain your answer."
   ]
  }
 ],
 "metadata": {
  "language_info": {
   "name": "python"
  }
 },
 "nbformat": 4,
 "nbformat_minor": 2
}
