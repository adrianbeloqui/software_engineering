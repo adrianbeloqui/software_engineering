{
 "cells": [
  {
   "cell_type": "markdown",
   "metadata": {},
   "source": [
    "# Reinforcement"
   ]
  },
  {
   "cell_type": "markdown",
   "metadata": {},
   "source": [
    "R-7.1 Give an algorithm for finding the second-to-last node in a singly linked list in which the last node is indicated by a next reference of None."
   ]
  },
  {
   "cell_type": "code",
   "execution_count": 2,
   "metadata": {},
   "outputs": [],
   "source": [
    "# Import data structures folder\n",
    "import sys\n",
    "import os\n",
    "\n",
    "# Go to root software_engineering\n",
    "module_path = os.path.abspath(os.path.join('../../..'))\n",
    "if module_path not in sys.path:\n",
    "    sys.path.append(module_path)\n"
   ]
  },
  {
   "cell_type": "code",
   "execution_count": 3,
   "metadata": {},
   "outputs": [
    {
     "name": "stdout",
     "output_type": "stream",
     "text": [
      "Linked list must have 2 elements or more\n",
      "Linked list must have 2 elements or more\n",
      "0\n",
      "8\n"
     ]
    }
   ],
   "source": [
    "from data_structures.linked_lists.linked_list import LinkedList\n",
    "\n",
    "\n",
    "def find_second_to_last(L: LinkedList) -> int:\n",
    "    if len(L) < 2:\n",
    "        raise ValueError(\"Linked list must have 2 elements or more\")\n",
    "\n",
    "    walk = L._head\n",
    "    while walk._next._next is not None:\n",
    "        walk = walk._next\n",
    "    return walk._element\n",
    "\n",
    "for test in [0,1,2,10]:\n",
    "    l = LinkedList()\n",
    "    [l.append(i) for i in range(test)]\n",
    "    try:\n",
    "        print(find_second_to_last(l))\n",
    "    except Exception as e:\n",
    "        print(e)\n"
   ]
  },
  {
   "cell_type": "markdown",
   "metadata": {},
   "source": [
    "R-7.2 Describe a good algorithm for concatenating two singly linked lists L and M, given only references to the first node of each list, into a single list L′ that contains all the nodes of L followed by all the nodes of M."
   ]
  },
  {
   "cell_type": "code",
   "execution_count": 9,
   "metadata": {},
   "outputs": [
    {
     "name": "stdout",
     "output_type": "stream",
     "text": [
      "0, 1, 2, 3, 4, 10, 11, 12, 13, 14, \n",
      "0, 1, 2, 3, 4, 10, 11, 12, 13, 14, "
     ]
    }
   ],
   "source": [
    "from data_structures.linked_lists.node import Node\n",
    "from data_structures.linked_lists.linked_list import LinkedList\n",
    "\n",
    "def concatenate(l_node: Node, m_node: Node):\n",
    "    new = LinkedList()\n",
    "    _add_elements(new, l_node)\n",
    "    _add_elements(new, m_node)\n",
    "    return new\n",
    "\n",
    "def _add_elements(L: LinkedList, node: Node):\n",
    "    walk = node\n",
    "    while walk is not None:\n",
    "        L.append(walk._element)\n",
    "        temp = walk._next\n",
    "        # Garbage collection\n",
    "        walk._element, walk._next = None, None\n",
    "        walk = temp\n",
    "\n",
    "def concatenate2(L: LinkedList, M: LinkedList):\n",
    "    walk = L._head\n",
    "    while walk._next is not None:\n",
    "        walk = walk._next\n",
    "    walk._next = M._head\n",
    "    return L\n",
    "\n",
    "\n",
    "# Testing\n",
    "\n",
    "L = LinkedList()\n",
    "[L.append(i) for i in range(5)]\n",
    "M = LinkedList()\n",
    "[M.append(i) for i in range(10,15)]\n",
    "\n",
    "new = concatenate(L._head, M._head)\n",
    "\n",
    "walk = new._head\n",
    "while walk is not None:\n",
    "    print(walk._element, end=\", \")\n",
    "    walk = walk._next\n",
    "print()\n",
    "\n",
    "L = LinkedList()\n",
    "[L.append(i) for i in range(5)]\n",
    "M = LinkedList()\n",
    "[M.append(i) for i in range(10,15)]\n",
    "\n",
    "new = concatenate2(L, M)\n",
    "\n",
    "walk = new._head\n",
    "while walk is not None:\n",
    "    print(walk._element, end=\", \")\n",
    "    walk = walk._next\n"
   ]
  },
  {
   "cell_type": "markdown",
   "metadata": {},
   "source": [
    "R-7.3 Describe a recursive algorithm that counts the number of nodes in a singly linked list."
   ]
  },
  {
   "cell_type": "code",
   "execution_count": 12,
   "metadata": {},
   "outputs": [
    {
     "name": "stdout",
     "output_type": "stream",
     "text": [
      "10\n",
      "10\n"
     ]
    }
   ],
   "source": [
    "from data_structures.linked_lists.linked_list import LinkedList\n",
    "from data_structures.linked_lists.node import Node\n",
    "\n",
    "def count_nodes(node: Node, count: int = 0) -> int:\n",
    "    if node is None:\n",
    "        return count\n",
    "    \n",
    "    count += 1\n",
    "    return count_nodes(node._next, count)\n",
    "\n",
    "def count(node: Node) -> int:\n",
    "    if node is None:\n",
    "        return 0\n",
    "\n",
    "    return 1 + count(node._next)\n",
    "\n",
    "L = LinkedList()\n",
    "[L.append(i) for i in range(10)]\n",
    "print(count_nodes(L._head))\n",
    "print(count(L._head))"
   ]
  },
  {
   "cell_type": "markdown",
   "metadata": {},
   "source": [
    "R-7.4 Describe in detail how to swap two nodes x and y (and not just their contents) in a singly linked list L given references only to x and y. Repeat this exercise for the case when L is a doubly linked list. Which algorithm takes more time?"
   ]
  },
  {
   "cell_type": "code",
   "execution_count": null,
   "metadata": {},
   "outputs": [],
   "source": [
    "# In a Singly Linked List\n",
    "\n",
    "# 1. You need to traverse the linked list L and get the previous node to X and Y (say we save them the node references \n",
    "# as prev_x and prev_y respectively).\n",
    "# 2. Then, you need to update the `_next` property for both found nodes to point to their new node\n",
    "# 3. Then, you need to swap the references of the `_next` property of both X and Y so that X now points to what Y used to point to, and Y\n",
    "# now points to what X used to point to \n",
    "\n",
    "# Pseudo code:\n",
    "\n",
    "# prev_x = find_previous_node(X)\n",
    "# prev_y = find_previous_node(Y)\n",
    "# prev_x._next = Y\n",
    "# prev_y._next = X\n",
    "# Y._next, X._next = X._next, Y._next\n",
    "\n",
    "# In a Doubly Linked List\n",
    "\n",
    "# prev_y = y._prev\n",
    "# next_y = y._next\n",
    "\n",
    "# To swap the positions of X and Y, you need to know the previous and next nodes for both X and Y, then update the references \n",
    "# of prev and next to point to the new node, and update this node, to point correctly to the new neighbors such as:\n",
    "\n",
    "# prev_x = x._prev\n",
    "# next_x = x._next\n",
    "\n",
    "# prev_x._next = y\n",
    "# next_x._prev = y\n",
    "# y._prev = prev_x\n",
    "# y._next = next_x\n",
    "\n",
    "# prev_y = y._prev\n",
    "# next_y = y._next\n",
    "\n",
    "# prev_y._next = x\n",
    "# next_y._prev = x\n",
    "# x._prev = prev_y\n",
    "# x._next = next_y\n",
    "\n",
    "\n",
    "# Efficiency\n",
    "\n",
    "# Given that for the linked list algorithm there is a linear search involved, and the algorithm for the doubly linked list only involves\n",
    "# constant operations, the algorith for the doubly linked list is more efficient O(1)-time, versus O(k + m) where k and m are the indexes of \n",
    "# the nodes X and Y"
   ]
  },
  {
   "cell_type": "markdown",
   "metadata": {},
   "source": [
    "R-7.5 Implement a function that counts the number of nodes in a circularly linked list."
   ]
  },
  {
   "cell_type": "code",
   "execution_count": 17,
   "metadata": {},
   "outputs": [
    {
     "name": "stdout",
     "output_type": "stream",
     "text": [
      "Solution 1: 0\n",
      "Solution 2: 0\n",
      "Solution 1: 1\n",
      "Solution 2: 1\n",
      "Solution 1: 10\n",
      "Solution 2: 10\n"
     ]
    }
   ],
   "source": [
    "from data_structures.queue.circular_linked_queue import CircularQueue\n",
    "\n",
    "\"\"\"In this implementation, I am assuming that the elements on the circular linked list\n",
    "don't have to be unique and that they are all stored in  memory at the time of processing. \n",
    "\n",
    "Also, I am using the Queue implementation of the circular linked list because it is what came out of the book\"\"\"\n",
    "\n",
    "def count_nodes(circular_list: CircularQueue):\n",
    "    node = circular_list._tail\n",
    "    tail_id = id(node)\n",
    "\n",
    "    if node is None:\n",
    "        return 0\n",
    "\n",
    "    node = node._next\n",
    "    counter = 1\n",
    "    while tail_id != id(node):\n",
    "        counter += 1\n",
    "        node = node._next\n",
    "\n",
    "    return counter\n",
    "\n",
    "def count_nodes2(node: CircularQueue._Node, tail_id = None):\n",
    "    \"\"\"Initial call needs to pass the tail of the circular list as the node\"\"\"\n",
    "    if tail_id == id(node) or node is None:\n",
    "        return 0\n",
    "    \n",
    "    if tail_id is None:\n",
    "        tail_id = id(node)\n",
    "\n",
    "    return 1 + count_nodes2(node._next, tail_id)\n",
    "\n",
    "for test in [0, 1, 10]:\n",
    "    q = CircularQueue()\n",
    "    [q.enqueue(i) for i in range(test)]\n",
    "    print(\"Solution 1:\", count_nodes(q))\n",
    "    print(\"Solution 2:\", count_nodes2(q._tail))"
   ]
  },
  {
   "cell_type": "markdown",
   "metadata": {},
   "source": [
    "R-7.6 Suppose that x and y are references to nodes of circularly linked lists, although not necessarily the same list. Describe a fast algorithm for telling if x and y belong to the same list."
   ]
  },
  {
   "cell_type": "code",
   "execution_count": null,
   "metadata": {},
   "outputs": [
    {
     "name": "stdout",
     "output_type": "stream",
     "text": [
      "Test 1:  True\n",
      "Test 2:  False\n"
     ]
    }
   ],
   "source": [
    "from data_structures.queue.circular_linked_queue import CircularQueue\n",
    "\n",
    "\n",
    "def is_neighbor(x: CircularQueue._Node, y: CircularQueue._Node) -> bool:\n",
    "    walk = x._next\n",
    "    while walk != x:\n",
    "        if walk == y:\n",
    "            return True\n",
    "        walk = walk._next\n",
    "    return False\n",
    "\n",
    "# Test 1 - Neighbors\n",
    "\n",
    "q = CircularQueue()\n",
    "[q.enqueue(i) for i in range(10)]\n",
    "print(\"Test 1: \", is_neighbor(q._tail, q._tail._next._next))\n",
    "\n",
    "# Test 2 - Not neighbors\n",
    "q2 = CircularQueue()\n",
    "[q.enqueue(i) for i in range(20)]\n",
    "print(\"Test 2: \", is_neighbor(q._tail, q2._tail))\n"
   ]
  },
  {
   "cell_type": "markdown",
   "metadata": {},
   "source": [
    "R-7.7 Our CircularQueue class of Section 7.2.2 provides a rotate() method that has semantics equivalent to Q.enqueue(Q.dequeue()), for a nonempty queue. Implement such a method for the LinkedQueue class of Section 7.1.2 without the creation of any new nodes."
   ]
  },
  {
   "cell_type": "code",
   "execution_count": 8,
   "metadata": {},
   "outputs": [
    {
     "name": "stdout",
     "output_type": "stream",
     "text": [
      "0, 1, 2, 3, 4, 5, 6, 7, 8, 9\n",
      "2, 3, 4, 5, 6, 7, 8, 9, 0, 1\n",
      "3, 4, 5, 6, 7, 8, 9, 0, 1, 2\n",
      "4, 5, 6, 7, 8, 9, 0, 1, 2, 3\n"
     ]
    }
   ],
   "source": [
    "from data_structures.queue.linked_queue import LinkedQueue\n",
    "\n",
    "class RotateLinkedQueue(LinkedQueue):\n",
    "\n",
    "    def rotate(self):\n",
    "        if len(self) > 0:\n",
    "            # Move head to tail\n",
    "            # Set new head\n",
    "            self._tail._next, self._head = self._head, self._head._next\n",
    "            # Set new tail\n",
    "            self._tail = self._tail._next\n",
    "            # Remove reference to the start of the queue\n",
    "            self._tail._next = None\n",
    "\n",
    "\n",
    "    def __iter__(self):\n",
    "        walk = self._head\n",
    "        while walk is not None:\n",
    "            yield walk._element\n",
    "            walk = walk._next\n",
    "    \n",
    "    def __repr__(self) -> str:\n",
    "        return \", \".join(str(i) for i in self)\n",
    "    \n",
    "q = RotateLinkedQueue()\n",
    "[q.enqueue(i) for i in range(10)]\n",
    "print(q)\n",
    "q.rotate()\n",
    "q.rotate()\n",
    "print(q)\n",
    "q.rotate()\n",
    "print(q)\n",
    "q.rotate()\n",
    "print(q)"
   ]
  },
  {
   "cell_type": "markdown",
   "metadata": {},
   "source": [
    "R-7.8 Describe a nonrecursive method for finding, by link hopping, the middle node of a doubly linked list with header and trailer sentinels. In the case of an even number of nodes, report the node slightly left of center as the “middle.” (Note: This method must only use link hopping; it cannot use a counter.) What is the running time of this method?"
   ]
  },
  {
   "cell_type": "code",
   "execution_count": null,
   "metadata": {},
   "outputs": [],
   "source": []
  },
  {
   "cell_type": "markdown",
   "metadata": {},
   "source": [
    "R-7.9 Give a fast algorithm for concatenating two doubly linked lists L and M, with header and trailer sentinel nodes, into a single list L'."
   ]
  },
  {
   "cell_type": "code",
   "execution_count": null,
   "metadata": {},
   "outputs": [],
   "source": []
  },
  {
   "cell_type": "markdown",
   "metadata": {},
   "source": [
    "R-7.10 There seems to be some redundancy in the repertoire of the positional list ADT, as the operation L.add first(e) could be enacted by the alter- native L.add before(L.first(), e). Likewise, L.add last(e) might be per- formed as L.add after(L.last(), e). Explain why the methods add first and add last are necessary."
   ]
  },
  {
   "cell_type": "code",
   "execution_count": null,
   "metadata": {},
   "outputs": [],
   "source": []
  },
  {
   "cell_type": "markdown",
   "metadata": {},
   "source": [
    "R-7.11 Implement a function, with calling syntax max(L), that returns the max- imum element from a PositionalList instance L containing comparable elements."
   ]
  },
  {
   "cell_type": "code",
   "execution_count": null,
   "metadata": {},
   "outputs": [],
   "source": []
  },
  {
   "cell_type": "markdown",
   "metadata": {},
   "source": [
    "R-7.12 Redo the previously problem with max as a method of the PositionalList class, so that calling syntax L.max() is supported."
   ]
  },
  {
   "cell_type": "code",
   "execution_count": null,
   "metadata": {},
   "outputs": [],
   "source": []
  },
  {
   "cell_type": "markdown",
   "metadata": {},
   "source": [
    "R-7.13 Update the PositionalList class to support an additional method find(e), which returns the position of the (first occurrence of ) element e in the list (or None if not found)."
   ]
  },
  {
   "cell_type": "code",
   "execution_count": null,
   "metadata": {},
   "outputs": [],
   "source": []
  },
  {
   "cell_type": "markdown",
   "metadata": {},
   "source": [
    "R-7.14 Repeat the previous process using recursion. Your method should not contain any loops. How much space does your method use in addition to the space used for L?"
   ]
  },
  {
   "cell_type": "code",
   "execution_count": null,
   "metadata": {},
   "outputs": [],
   "source": []
  },
  {
   "cell_type": "markdown",
   "metadata": {},
   "source": [
    "R-7.15 Providesupportfora     reversed     methodofthePositionalListclassthat is similar to the given     iter     , but that iterates the elements in reversed order."
   ]
  },
  {
   "cell_type": "code",
   "execution_count": null,
   "metadata": {},
   "outputs": [],
   "source": []
  },
  {
   "cell_type": "markdown",
   "metadata": {},
   "source": [
    "R-7.16 Describe an implementation of the PositionalList methods add last and add before realized by using only methods in the set {is empty, first, last, prev, next, add after, and add first}."
   ]
  },
  {
   "cell_type": "code",
   "execution_count": null,
   "metadata": {},
   "outputs": [],
   "source": []
  },
  {
   "cell_type": "markdown",
   "metadata": {},
   "source": [
    "R-7.17 IntheFavoritesListMTFclass,werelyonpublicmethodsofthepositional list ADT to move an element of a list at position p to become the first ele- ment of the list, while keeping the relative order of the remaining elements unchanged. Internally, that combination of operations causes one node to be removed and a new node to be inserted. Augment the PositionalList class to support a new method, move to front(p), that accomplishes this goal more directly, by relinking the existing node."
   ]
  },
  {
   "cell_type": "code",
   "execution_count": null,
   "metadata": {},
   "outputs": [],
   "source": []
  },
  {
   "cell_type": "markdown",
   "metadata": {},
   "source": [
    "R-7.18 Given the set of element {a,b,c,d,e,f} stored in a list, show the final state of the list, assuming we use the move-to-front heuristic and access the elements according to the following sequence: (a,b,c,d,e, f,a,c, f,b,d,e)."
   ]
  },
  {
   "cell_type": "code",
   "execution_count": null,
   "metadata": {},
   "outputs": [],
   "source": []
  },
  {
   "cell_type": "markdown",
   "metadata": {},
   "source": [
    "R-7.19 Suppose that we have made kn total accesses to the elements in a list L of n elements, for some integer k ≥ 1. What are the minimum and maximum number of elements that have been accessed fewer than k times?"
   ]
  },
  {
   "cell_type": "code",
   "execution_count": null,
   "metadata": {},
   "outputs": [],
   "source": []
  },
  {
   "cell_type": "markdown",
   "metadata": {},
   "source": [
    "R-7.20 Let L be a list of n items maintained according to the move-to-front heuristic. Describe a series of O(n) accesses that will reverse L."
   ]
  },
  {
   "cell_type": "code",
   "execution_count": null,
   "metadata": {},
   "outputs": [],
   "source": []
  },
  {
   "cell_type": "markdown",
   "metadata": {},
   "source": [
    "R-7.21 Suppose we have an n-element list L maintained according to the move- to-front heuristic. Describe a sequence of n2 accesses that is guaranteed to take Ω(n3) time to perform on L."
   ]
  },
  {
   "cell_type": "code",
   "execution_count": null,
   "metadata": {},
   "outputs": [],
   "source": []
  },
  {
   "cell_type": "markdown",
   "metadata": {},
   "source": [
    "R-7.22 Implementa clear( )method for the FavoritesList class that returns the list to empty."
   ]
  },
  {
   "cell_type": "code",
   "execution_count": null,
   "metadata": {},
   "outputs": [],
   "source": []
  },
  {
   "cell_type": "markdown",
   "metadata": {},
   "source": [
    "R-7.23 Implement a reset counts() method for the FavoritesList class that resets all elements’ access counts to zero (while leaving the order of the list unchanged)."
   ]
  }
 ],
 "metadata": {
  "kernelspec": {
   "display_name": "Python 3",
   "language": "python",
   "name": "python3"
  },
  "language_info": {
   "codemirror_mode": {
    "name": "ipython",
    "version": 3
   },
   "file_extension": ".py",
   "mimetype": "text/x-python",
   "name": "python",
   "nbconvert_exporter": "python",
   "pygments_lexer": "ipython3",
   "version": "3.10.7"
  }
 },
 "nbformat": 4,
 "nbformat_minor": 2
}
