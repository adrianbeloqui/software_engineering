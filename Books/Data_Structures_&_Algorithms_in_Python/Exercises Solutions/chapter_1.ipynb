{
 "cells": [
  {
   "cell_type": "markdown",
   "metadata": {},
   "source": [
    "# Reinforcement"
   ]
  },
  {
   "cell_type": "markdown",
   "metadata": {},
   "source": [
    "R-1.1 Write a short Python function, is multiple(n, m), that takes two integer values and returns True if n is a multiple of m, that is, n = mi for some integer i, and False otherwise."
   ]
  },
  {
   "cell_type": "code",
   "execution_count": 5,
   "metadata": {},
   "outputs": [
    {
     "name": "stdout",
     "output_type": "stream",
     "text": [
      "True\n",
      "False\n",
      "True\n",
      "False\n"
     ]
    }
   ],
   "source": [
    "def is_multiple(n, m):\n",
    "    return n % m == 0 if m != 0 else False\n",
    "\n",
    "print(is_multiple(10, 2))\n",
    "print(is_multiple(5,3))\n",
    "print(is_multiple(1, -1))\n",
    "print(is_multiple(1,0))"
   ]
  },
  {
   "cell_type": "markdown",
   "metadata": {},
   "source": [
    "R-1.2 Write a short Python function, is even(k), that takes an integer value and returns True if k is even, and False otherwise. However, your function cannot use the multiplication, modulo, or division operators."
   ]
  },
  {
   "cell_type": "code",
   "execution_count": 10,
   "metadata": {},
   "outputs": [
    {
     "name": "stdout",
     "output_type": "stream",
     "text": [
      "True\n",
      "False\n",
      "True\n",
      "False\n",
      "True\n"
     ]
    }
   ],
   "source": [
    "def is_even2(k):\n",
    "    # not a great implementation\n",
    "    str_k = str(k)\n",
    "    insignificant_digit = int(str_k[-1])\n",
    "    return insignificant_digit in [0,2,4,6,8]\n",
    "\n",
    "def is_even(k):\n",
    "    return k & 1 == 0\n",
    "\n",
    "print(is_even(0))\n",
    "print(is_even(1))\n",
    "print(is_even(6))\n",
    "print(is_even(777))\n",
    "print(is_even(-102948))"
   ]
  },
  {
   "cell_type": "markdown",
   "metadata": {},
   "source": [
    "R-1.3 Write a short Python function, minmax(data), that takes a sequence of one or more numbers, and returns the smallest and largest numbers, in the form of a tuple of length two. Do not use the built-in functions min or max in implementing your solution."
   ]
  },
  {
   "cell_type": "code",
   "execution_count": 14,
   "metadata": {},
   "outputs": [
    {
     "name": "stdout",
     "output_type": "stream",
     "text": [
      "(1, 99)\n",
      "(-50, 101010)\n",
      "None\n",
      "(999, 999)\n"
     ]
    }
   ],
   "source": [
    "def minmax(data):\n",
    "    if not data:\n",
    "        return\n",
    "\n",
    "    min_n = max_n = data[0]\n",
    "    for i in data:\n",
    "        min_n = i if i < min_n else min_n\n",
    "        max_n = i if i > max_n else max_n\n",
    "    return min_n, max_n\n",
    "\n",
    "print(minmax([i for i in range(1,100)]))\n",
    "print(minmax([999,-50,101010,5,87,8,54,3,2]))\n",
    "print(minmax([]))\n",
    "print(minmax([999]))"
   ]
  },
  {
   "cell_type": "markdown",
   "metadata": {},
   "source": [
    "R-1.4 Write a short Python function that takes a positive integer n and returns the sum of the squares of all the positive integers smaller than n.\n",
    "R-1.5 Give a single command that computes the sum from Exercise R-1.4, rely- ing on Python’s comprehension syntax and the built-in sum function."
   ]
  },
  {
   "cell_type": "code",
   "execution_count": 21,
   "metadata": {},
   "outputs": [
    {
     "name": "stdout",
     "output_type": "stream",
     "text": [
      "1\n",
      "5\n",
      "285\n"
     ]
    }
   ],
   "source": [
    "def sum_squares(n):\n",
    "    return sum(i*i for i in range(1, n))\n",
    "\n",
    "print(sum_squares(2))\n",
    "print(sum_squares(3))\n",
    "print(sum_squares(10))"
   ]
  },
  {
   "cell_type": "markdown",
   "metadata": {},
   "source": [
    "R-1.6 Write a short Python function that takes a positive integer n and returns the sum of the squares of all the odd positive integers smaller than n.\n",
    "R-1.7 Give a single command that computes the sum from Exercise R-1.6, rely- ing on Python’s comprehension syntax and the built-in sum function."
   ]
  },
  {
   "cell_type": "code",
   "execution_count": 27,
   "metadata": {},
   "outputs": [
    {
     "name": "stdout",
     "output_type": "stream",
     "text": [
      "1\n",
      "1\n",
      "165\n"
     ]
    }
   ],
   "source": [
    "def sum_odd_squares(n):\n",
    "    return sum(i*i for i in range(1,n,2))\n",
    "\n",
    "print(sum_odd_squares(2))\n",
    "print(sum_odd_squares(3))\n",
    "print(sum_odd_squares(10))"
   ]
  },
  {
   "cell_type": "markdown",
   "metadata": {},
   "source": [
    "R-1.8 Python allows negative integers to be used as indices into a sequence, such as a string. If string s has length n, and expression s[k] is used for index −n ≤ k < 0, what is the equivalent index j ≥ 0 such that s[j] references the same element?"
   ]
  },
  {
   "cell_type": "code",
   "execution_count": 3,
   "metadata": {},
   "outputs": [
    {
     "name": "stdout",
     "output_type": "stream",
     "text": [
      "t -1\n",
      "t 3\n",
      "t -4\n",
      "t 7\n"
     ]
    }
   ],
   "source": [
    "def neg2positive_index(s, k):\n",
    "    print(s[k], k)\n",
    "    pos = k + len(s) # n > pos >= 0\n",
    "    print(s[pos], pos)\n",
    "\n",
    "neg2positive_index(\"test\", -1)\n",
    "neg2positive_index(\"second test\", -4)"
   ]
  },
  {
   "cell_type": "markdown",
   "metadata": {},
   "source": [
    "R-1.9 What parameters should be sent to the range constructor, to produce a range with values 50, 60, 70, 80?"
   ]
  },
  {
   "cell_type": "code",
   "execution_count": 6,
   "metadata": {},
   "outputs": [
    {
     "name": "stdout",
     "output_type": "stream",
     "text": [
      "[50, 60, 70, 80]\n"
     ]
    }
   ],
   "source": [
    "print([x for x in range(50,90,10)])"
   ]
  },
  {
   "cell_type": "markdown",
   "metadata": {},
   "source": [
    "R-1.10 What parameters should be sent to the range constructor, to produce a range with values 8, 6, 4, 2, 0, −2, −4, −6, −8?"
   ]
  },
  {
   "cell_type": "code",
   "execution_count": 7,
   "metadata": {},
   "outputs": [
    {
     "name": "stdout",
     "output_type": "stream",
     "text": [
      "[8, 6, 4, 2, 0, -2, -4, -6, -8]\n"
     ]
    }
   ],
   "source": [
    "print([x for x in range(8, -10, -2)])"
   ]
  },
  {
   "cell_type": "markdown",
   "metadata": {},
   "source": [
    "R-1.11 Demonstrate how to use Python’s list comprehension syntax to produce the list [1, 2, 4, 8, 16, 32, 64, 128, 256]."
   ]
  },
  {
   "cell_type": "code",
   "execution_count": 9,
   "metadata": {},
   "outputs": [
    {
     "name": "stdout",
     "output_type": "stream",
     "text": [
      "[1, 2, 4, 8, 16, 32, 64, 128, 256]\n"
     ]
    }
   ],
   "source": [
    "print([2**x for x in range(9)])"
   ]
  },
  {
   "cell_type": "markdown",
   "metadata": {},
   "source": [
    "R-1.12 Python’s random module includes a function choice(data) that returns a random element from a non-empty sequence. The random module includes a more basic function randrange, with parameterization similar to the built-in range function, that return a random choice from the given range. Using only the randrange function, implement your own version of the choice function."
   ]
  },
  {
   "cell_type": "code",
   "execution_count": 14,
   "metadata": {},
   "outputs": [
    {
     "name": "stdout",
     "output_type": "stream",
     "text": [
      "w\n",
      "i\n",
      "T\n",
      "None\n"
     ]
    }
   ],
   "source": [
    "from random import randrange\n",
    "\n",
    "def custom_choice(data):\n",
    "    if not data:\n",
    "        return None\n",
    "    return data[randrange(0, len(data))]\n",
    "\n",
    "print(custom_choice(\"hello world\"))\n",
    "print(custom_choice(\"This is a small test\"))\n",
    "print(custom_choice(\"T\"))\n",
    "print(custom_choice(\"\"))"
   ]
  },
  {
   "cell_type": "markdown",
   "metadata": {},
   "source": [
    "# Creativity"
   ]
  },
  {
   "cell_type": "markdown",
   "metadata": {},
   "source": [
    "C1.13 Write a pseudo-code description of a function that reverses a list of n integers, so that the numbers are listed in the opposite order than they were before, and compare this method to an equivalent Python function for doing the same thing."
   ]
  },
  {
   "cell_type": "code",
   "execution_count": 17,
   "metadata": {},
   "outputs": [
    {
     "name": "stdout",
     "output_type": "stream",
     "text": [
      "[5, 4, 3, 2, 1]\n",
      "[4, 3, 2, 1]\n",
      "[]\n",
      "[1]\n"
     ]
    }
   ],
   "source": [
    "def reverse(l):\n",
    "    i, j = 0, len(l) - 1\n",
    "    while i < j:\n",
    "        l[i], l[j] = l[j], l[i]\n",
    "        i += 1\n",
    "        j -= 1\n",
    "\n",
    "for t in [[1,2,3,4,5], [1,2,3,4],[],[1]]:\n",
    "    reverse(t)\n",
    "    print(t)"
   ]
  },
  {
   "cell_type": "markdown",
   "metadata": {},
   "source": [
    "C1.14 Write a short Python function that takes a sequence of integer values and determines if there is a distinct pair of numbers in the sequence whose product is odd."
   ]
  },
  {
   "cell_type": "code",
   "execution_count": 18,
   "metadata": {},
   "outputs": [
    {
     "name": "stdout",
     "output_type": "stream",
     "text": [
      "None None\n",
      "[1, 3] 3\n",
      "None None\n"
     ]
    }
   ],
   "source": [
    "def distinct_pair(seq):\n",
    "    first_odd = None\n",
    "    for n in seq:\n",
    "        if n % 2 == 0:\n",
    "            continue\n",
    "        else:\n",
    "            if first_odd is None:\n",
    "                first_odd = n\n",
    "            else:\n",
    "                return [first_odd, n], first_odd * n\n",
    "    return first_odd, None\n",
    "\n",
    "for t in [[2,4,6,8], [1,2,3,4,5,6,7,8], []]:\n",
    "    pair, total = distinct_pair(t)\n",
    "    print(pair, total)"
   ]
  },
  {
   "cell_type": "markdown",
   "metadata": {},
   "source": [
    "C1.15 Write a Python function that takes a sequence of numbers and determines if all the numbers are different from each other (that is, they are distinct)."
   ]
  },
  {
   "cell_type": "code",
   "execution_count": 14,
   "metadata": {},
   "outputs": [
    {
     "name": "stdout",
     "output_type": "stream",
     "text": [
      "False False\n",
      "True True\n",
      "False False\n",
      "True True\n",
      "True True\n"
     ]
    }
   ],
   "source": [
    "def are_dinstint(l):\n",
    "    # Utilizing sets\n",
    "    # O(n) approach but with extra O(n) space\n",
    "    s = set(l)\n",
    "    return len(l) == len(s)\n",
    "\n",
    "def are_dinstint2(l):\n",
    "    # O(n^2)\n",
    "    # An improvement could be to iterate over the list and for each element do a binary search\n",
    "    # This would improve the time complexity to O(n log n)\n",
    "    # O(1) space complexity\n",
    "    for i in range(0, len(l)):\n",
    "        for x in range(0, len(l)):\n",
    "            if i != x and l[i] == l[x]:\n",
    "                return False\n",
    "    return True\n",
    "\n",
    "def all_unique(array):\n",
    "    # O(n) approach but with extra O(n) space\n",
    "    number_set = set()\n",
    "    for number in array:\n",
    "        if number in number_set: return False\n",
    "        else: number_set.add(number)\n",
    "    return True\n",
    "\n",
    "for t in [[2,4,4,8], [1,2,3,4,5,6,7,8], [1,2,3,4,5,6,1],[],[3]]:\n",
    "    print(are_dinstint(t), are_dinstint2(t))"
   ]
  },
  {
   "cell_type": "markdown",
   "metadata": {},
   "source": [
    "C-1.16 In our implementation of the scale function (page25),the body of the loop executes the command data[j] *= factor. We have discussed that numeric types are immutable, and that use of the *= operator in this context causes the creation of a new instance (not the mutation of an existing instance). How is it still possible, then, that our implementation of scale changes the actual parameter sent by the caller?"
   ]
  },
  {
   "cell_type": "markdown",
   "metadata": {},
   "source": [
    "The parameter sent is a mutable list that holds references to the objects, when the objects get modified and a new instance is created, the reference in the list is updated to point to the new instance of the object. Therefore, after executing the function, the list would have references that point to brand new numeric objects."
   ]
  },
  {
   "cell_type": "markdown",
   "metadata": {},
   "source": [
    "C-1.17 Had we implemented the scale function (page 25) as follows, does it work properly?\n",
    "\n",
    "def scale(data, factor):\n",
    "    for val in data:\n",
    "        val *= factor\n",
    "\n",
    "Explain why or why not."
   ]
  },
  {
   "cell_type": "markdown",
   "metadata": {},
   "source": [
    "This wouldn't have worked because what is being updated in this code is the referecen `val` not the reference that is in the list `data`."
   ]
  },
  {
   "cell_type": "markdown",
   "metadata": {},
   "source": [
    "C-1.18 Demonstrate how to use Python’s list comprehension syntax to produce the list [0, 2, 6, 12, 20, 30, 42, 56, 72, 90]."
   ]
  },
  {
   "cell_type": "code",
   "execution_count": 2,
   "metadata": {},
   "outputs": [
    {
     "name": "stdout",
     "output_type": "stream",
     "text": [
      "[0, 2, 6, 12, 20, 30, 42, 56, 72, 90]\n"
     ]
    }
   ],
   "source": [
    "def custom_stepper(start, end):\n",
    "    next_step = 0\n",
    "    last_n = start\n",
    "    for i in range(start, end):\n",
    "        if i == next_step + last_n:\n",
    "            next_step += 2\n",
    "            last_n = i\n",
    "            yield(i)\n",
    "\n",
    "def sum_of_increasing_twos():\n",
    "    # not my solution, just another interpretation of the question\n",
    "    a = 0\n",
    "    factor = 0\n",
    "    while True:\n",
    "        yield a\n",
    "        factor += 1\n",
    "        a += 2*factor\n",
    "\n",
    "print([x for x in custom_stepper(0,91)])"
   ]
  },
  {
   "cell_type": "markdown",
   "metadata": {},
   "source": [
    "C-1.19 Demonstrate how to use Python’s list comprehension syntax to produce thelist[ a , b , c ,..., z ],but without having to type all 26 such characters literally."
   ]
  },
  {
   "cell_type": "code",
   "execution_count": 9,
   "metadata": {},
   "outputs": [
    {
     "name": "stdout",
     "output_type": "stream",
     "text": [
      "['a', 'b', 'c', 'd', 'e', 'f', 'g', 'h', 'i', 'j', 'k', 'l', 'm', 'n', 'o', 'p', 'q', 'r', 's', 't', 'u', 'v', 'w', 'x', 'y', 'z']\n",
      "['a', 'b', 'c', 'd', 'e', 'f', 'g', 'h', 'i', 'j', 'k', 'l', 'm', 'n', 'o', 'p', 'q', 'r', 's', 't', 'u', 'v', 'w', 'x', 'y', 'z']\n"
     ]
    }
   ],
   "source": [
    "print([chr(x) for x in range(97, 123)])\n",
    "print([chr(97+x) for x in range(26)])  # not my solution"
   ]
  },
  {
   "cell_type": "markdown",
   "metadata": {},
   "source": [
    "C-1.20 Python’s random module includes a function shuffle(data) that accepts a list of elements and randomly reorders the elements so that each possible order occurs with equal probability. The random module includes a more basic function randint(a, b) that returns a uniformly random integer from a to b (including both endpoints). Using only the randint function, implement your own version of the shuffle function."
   ]
  },
  {
   "cell_type": "code",
   "execution_count": 12,
   "metadata": {},
   "outputs": [
    {
     "name": "stdout",
     "output_type": "stream",
     "text": [
      "Before: [2, 4, 4, 8]\n",
      "After: [4, 4, 8, 2]\n",
      "Before: [1, 2, 3, 4, 5, 6, 7, 8]\n",
      "After: [1, 6, 7, 5, 3, 2, 8, 4]\n",
      "Before: [1, 2, 3, 4, 5, 6, 1]\n",
      "After: [4, 1, 2, 1, 5, 6, 3]\n",
      "Before: []\n",
      "After: []\n",
      "Before: [3]\n",
      "After: [3]\n"
     ]
    }
   ],
   "source": [
    "from random import randint\n",
    "\n",
    "\n",
    "def custom_shuffle(data):\n",
    "    length = len(data) - 1\n",
    "    for i in range(length):\n",
    "        a = randint(0, length)\n",
    "        b = randint(0, length)\n",
    "        data[a], data[b] = data[b], data[a]\n",
    "\n",
    "for t in [[2,4,4,8], [1,2,3,4,5,6,7,8], [1,2,3,4,5,6,1],[],[3]]:\n",
    "    print(\"Before:\", t)\n",
    "    custom_shuffle(t)\n",
    "    print(\"After:\", t)"
   ]
  },
  {
   "cell_type": "markdown",
   "metadata": {},
   "source": [
    "C-1.21 Write a Python program that repeatedly reads lines from standard input until an EOFError is raised, and then outputs those lines in reverse order (a user can indicate end of input by typing ctrl-D)."
   ]
  },
  {
   "cell_type": "code",
   "execution_count": 1,
   "metadata": {},
   "outputs": [],
   "source": [
    "def read():\n",
    "    continue_reading = True\n",
    "    lines = []\n",
    "    while continue_reading:\n",
    "        try:\n",
    "            line = lines.append(input(\"Enter next line or exit with ctrl+D: \"))\n",
    "        except EOFError:\n",
    "            continue_reading = False\n",
    "    \n",
    "    # Two different interpretations of the question\n",
    "    print(\"\", end=\"\\n\")\n",
    "    print(\"Reversed content:\", end=\"\\n\\n\")\n",
    "    for line in lines:\n",
    "        print(\"\".join(list(reversed(line))))\n",
    "\n",
    "    print(\"\", end=\"\\n\")\n",
    "    print(\"Reversed input order:\", end=\"\\n\\n\")\n",
    "    for line in reversed(lines):\n",
    "        print(line)\n",
    "\n",
    "read()"
   ]
  },
  {
   "cell_type": "markdown",
   "metadata": {},
   "source": [
    "C-1.22 Write a short Python program that takes two arrays a and b of length n storing int values, and returns the dot product of a and b. That is, it returns an array c of length n such that c[i] = a[i]·b[i], for i = 0,...,n−1."
   ]
  },
  {
   "cell_type": "code",
   "execution_count": 7,
   "metadata": {},
   "outputs": [
    {
     "name": "stdout",
     "output_type": "stream",
     "text": [
      "[2, 2] 0.6735420249997333\n"
     ]
    }
   ],
   "source": [
    "import timeit\n",
    "\n",
    "\n",
    "def calculate_product(a, b):\n",
    "    return [a[i]*b[i] for i in range(len(a))]\n",
    "\n",
    "for t in [[(1,2),(2,1)]]:\n",
    "    print(calculate_product(t[0], t[1]), timeit.Timer(lambda: calculate_product(t[0], t[1])).timeit())"
   ]
  },
  {
   "cell_type": "markdown",
   "metadata": {},
   "source": [
    "C-1.23 Give an example of a Python code fragment that attempts to write an element to a list based on an index that may be out of bounds. If that index is out of bounds, the program should catch the exception that results, and print the following error message:\n",
    "“Don’t try buffer overflow attacks in Python!”"
   ]
  },
  {
   "cell_type": "code",
   "execution_count": 2,
   "metadata": {},
   "outputs": [
    {
     "name": "stdout",
     "output_type": "stream",
     "text": [
      "Don’t try buffer overflow attacks in Python!\n",
      "[1, 2, 3]\n",
      "[0, 2, 3]\n"
     ]
    }
   ],
   "source": [
    "def insert(array, el, idx):\n",
    "    try:\n",
    "        array[idx] = el\n",
    "    except IndexError:\n",
    "        print(\"Don’t try buffer overflow attacks in Python!\")\n",
    "\n",
    "a = [1,2,3]\n",
    "insert(a, 4, 3)\n",
    "print(a)\n",
    "insert(a, 0, 0)\n",
    "print(a)"
   ]
  },
  {
   "cell_type": "markdown",
   "metadata": {},
   "source": [
    "C-1.24 Write a short Python function that counts the number of vowels in a given character string."
   ]
  },
  {
   "cell_type": "code",
   "execution_count": 8,
   "metadata": {},
   "outputs": [
    {
     "name": "stdout",
     "output_type": "stream",
     "text": [
      "3\n"
     ]
    }
   ],
   "source": [
    "def count_vowels(a: str, vowels = ['a', 'e', 'i', 'o', 'u']):\n",
    "    count = 0\n",
    "    for el in a.lower():\n",
    "        if el in vowels:\n",
    "            count += 1\n",
    "    return count\n",
    "\n",
    "print(count_vowels(\"Adrian\"))"
   ]
  },
  {
   "cell_type": "markdown",
   "metadata": {},
   "source": [
    "C-1.25 Write a short Python function that takes a strings, representing a sentence, and returns a copy of the string with all punctuation removed. For example, if given the string \"Let s try, Mike.\", this function would return \"Lets try Mike\"."
   ]
  },
  {
   "cell_type": "code",
   "execution_count": 11,
   "metadata": {},
   "outputs": [
    {
     "name": "stdout",
     "output_type": "stream",
     "text": [
      "Lets try Mike\n"
     ]
    }
   ],
   "source": [
    "def remove_punctuation(string: str, punctuation = [',', '.', \"'\", ';', ':', '?', '!', '\"']):\n",
    "    return \"\".join([x for x in string if x not in punctuation])\n",
    "\n",
    "print(remove_punctuation(\"Let's try, Mike.\"))"
   ]
  },
  {
   "cell_type": "markdown",
   "metadata": {},
   "source": [
    "C-1.26 Write a short program that takes as input three integers, a, b, and c, from the console and determines if they can be used in a correct arithmetic formula (in the given order), like “a+b = c,” “a = b−c,” or “a∗b = c.”"
   ]
  },
  {
   "cell_type": "code",
   "execution_count": 14,
   "metadata": {},
   "outputs": [
    {
     "name": "stdout",
     "output_type": "stream",
     "text": [
      "True\n",
      "True\n",
      "True\n",
      "False\n"
     ]
    }
   ],
   "source": [
    "def can_they_do_arithmetic(a, b, c):\n",
    "    if a+b == c or b - c == a or c == a*b:\n",
    "        return True\n",
    "    return False\n",
    "\n",
    "for t in [ [1,2,3], [2,4,6], [3,2,6], [1,50,75] ]:\n",
    "    print(can_they_do_arithmetic(t[0], t[1], t[2]))"
   ]
  },
  {
   "cell_type": "markdown",
   "metadata": {},
   "source": [
    "C-1.27 In Section 1.8, we provided three different implementations of a generator that computes factors of a given integer. The third of those implementations, from page 41, was the most efficient, but we noted that it did not yield the factors in increasing order. Modify the generator so that it reports factors in increasing order, while maintaining its general performance advantages."
   ]
  },
  {
   "cell_type": "code",
   "execution_count": 3,
   "metadata": {},
   "outputs": [
    {
     "name": "stdout",
     "output_type": "stream",
     "text": [
      "[1, 2, 4, 5, 10, 20, 25, 50, 100]\n"
     ]
    }
   ],
   "source": [
    "def factors(n):\n",
    "    k = 1\n",
    "    high_factors = []\n",
    "    while k * k < n:\n",
    "        if n % k == 0:\n",
    "            yield k\n",
    "            high_factors.append(n // k)\n",
    "        k += 1\n",
    "\n",
    "    if k * k == n:\n",
    "        yield k\n",
    "    \n",
    "    for f in reversed(high_factors):\n",
    "        yield f\n",
    "\n",
    "print([x for x in factors(100)])"
   ]
  },
  {
   "cell_type": "markdown",
   "metadata": {},
   "source": [
    "C-1.28 The p-norm of a vector v = (v1,v2,...,vn) in n-dimensional space is defined as (see equation on book).\n",
    "For the special case of p = 2, this results in the traditional Euclidean norm, which represents the length of the vector. For example, the Euclidean norm of a two-dimensional vector with coordinates (4,3) has a Euclidean norm of 42 +32 = 16+9 = 25 = 5. Give an implementation of a function named norm such that norm(v, p) returns the p-norm value of v and norm(v) returns the Euclidean norm of v. You may assume that v is a list of numbers."
   ]
  },
  {
   "cell_type": "code",
   "execution_count": 7,
   "metadata": {},
   "outputs": [
    {
     "name": "stdout",
     "output_type": "stream",
     "text": [
      "5.0\n",
      "6.307993548663267\n"
     ]
    }
   ],
   "source": [
    "def norm(v, p=2):\n",
    "    inner = 0\n",
    "    for n in v:\n",
    "        inner += n**p\n",
    "    return inner**(1/p)\n",
    "\n",
    "print(norm([4,3]))\n",
    "print(norm([2,3,6], 3))"
   ]
  },
  {
   "cell_type": "markdown",
   "metadata": {},
   "source": [
    "# Projects"
   ]
  },
  {
   "cell_type": "markdown",
   "metadata": {},
   "source": [
    "P-1.29 Write a Python program that outputs all possible strings formed by using thecharacters c , a , t , d , o ,and g exactlyonce."
   ]
  },
  {
   "cell_type": "code",
   "execution_count": 27,
   "metadata": {},
   "outputs": [
    {
     "name": "stdout",
     "output_type": "stream",
     "text": [
      "catdog\n",
      "catdgo\n",
      "catodg\n",
      "catogd\n",
      "catgdo\n",
      "catgod\n",
      "cadtog\n",
      "cadtgo\n",
      "cadotg\n",
      "cadogt\n",
      "cadgto\n",
      "cadgot\n",
      "caotdg\n",
      "caotgd\n",
      "caodtg\n",
      "caodgt\n",
      "caogtd\n",
      "caogdt\n",
      "cagtdo\n",
      "cagtod\n",
      "cagdto\n",
      "cagdot\n",
      "cagotd\n",
      "cagodt\n",
      "ctadog\n",
      "ctadgo\n",
      "ctaodg\n",
      "ctaogd\n",
      "ctagdo\n",
      "ctagod\n",
      "ctdaog\n",
      "ctdago\n",
      "ctdoag\n",
      "ctdoga\n",
      "ctdgao\n",
      "ctdgoa\n",
      "ctoadg\n",
      "ctoagd\n",
      "ctodag\n",
      "ctodga\n",
      "ctogad\n",
      "ctogda\n",
      "ctgado\n",
      "ctgaod\n",
      "ctgdao\n",
      "ctgdoa\n",
      "ctgoad\n",
      "ctgoda\n",
      "cdatog\n",
      "cdatgo\n",
      "cdaotg\n",
      "cdaogt\n",
      "cdagto\n",
      "cdagot\n",
      "cdtaog\n",
      "cdtago\n",
      "cdtoag\n",
      "cdtoga\n",
      "cdtgao\n",
      "cdtgoa\n",
      "cdoatg\n",
      "cdoagt\n",
      "cdotag\n",
      "cdotga\n",
      "cdogat\n",
      "cdogta\n",
      "cdgato\n",
      "cdgaot\n",
      "cdgtao\n",
      "cdgtoa\n",
      "cdgoat\n",
      "cdgota\n",
      "coatdg\n",
      "coatgd\n",
      "coadtg\n",
      "coadgt\n",
      "coagtd\n",
      "coagdt\n",
      "cotadg\n",
      "cotagd\n",
      "cotdag\n",
      "cotdga\n",
      "cotgad\n",
      "cotgda\n",
      "codatg\n",
      "codagt\n",
      "codtag\n",
      "codtga\n",
      "codgat\n",
      "codgta\n",
      "cogatd\n",
      "cogadt\n",
      "cogtad\n",
      "cogtda\n",
      "cogdat\n",
      "cogdta\n",
      "cgatdo\n",
      "cgatod\n",
      "cgadto\n",
      "cgadot\n",
      "cgaotd\n",
      "cgaodt\n",
      "cgtado\n",
      "cgtaod\n",
      "cgtdao\n",
      "cgtdoa\n",
      "cgtoad\n",
      "cgtoda\n",
      "cgdato\n",
      "cgdaot\n",
      "cgdtao\n",
      "cgdtoa\n",
      "cgdoat\n",
      "cgdota\n",
      "cgoatd\n",
      "cgoadt\n",
      "cgotad\n",
      "cgotda\n",
      "cgodat\n",
      "cgodta\n",
      "actdog\n",
      "actdgo\n",
      "actodg\n",
      "actogd\n",
      "actgdo\n",
      "actgod\n",
      "acdtog\n",
      "acdtgo\n",
      "acdotg\n",
      "acdogt\n",
      "acdgto\n",
      "acdgot\n",
      "acotdg\n",
      "acotgd\n",
      "acodtg\n",
      "acodgt\n",
      "acogtd\n",
      "acogdt\n",
      "acgtdo\n",
      "acgtod\n",
      "acgdto\n",
      "acgdot\n",
      "acgotd\n",
      "acgodt\n",
      "atcdog\n",
      "atcdgo\n",
      "atcodg\n",
      "atcogd\n",
      "atcgdo\n",
      "atcgod\n",
      "atdcog\n",
      "atdcgo\n",
      "atdocg\n",
      "atdogc\n",
      "atdgco\n",
      "atdgoc\n",
      "atocdg\n",
      "atocgd\n",
      "atodcg\n",
      "atodgc\n",
      "atogcd\n",
      "atogdc\n",
      "atgcdo\n",
      "atgcod\n",
      "atgdco\n",
      "atgdoc\n",
      "atgocd\n",
      "atgodc\n",
      "adctog\n",
      "adctgo\n",
      "adcotg\n",
      "adcogt\n",
      "adcgto\n",
      "adcgot\n",
      "adtcog\n",
      "adtcgo\n",
      "adtocg\n",
      "adtogc\n",
      "adtgco\n",
      "adtgoc\n",
      "adoctg\n",
      "adocgt\n",
      "adotcg\n",
      "adotgc\n",
      "adogct\n",
      "adogtc\n",
      "adgcto\n",
      "adgcot\n",
      "adgtco\n",
      "adgtoc\n",
      "adgoct\n",
      "adgotc\n",
      "aoctdg\n",
      "aoctgd\n",
      "aocdtg\n",
      "aocdgt\n",
      "aocgtd\n",
      "aocgdt\n",
      "aotcdg\n",
      "aotcgd\n",
      "aotdcg\n",
      "aotdgc\n",
      "aotgcd\n",
      "aotgdc\n",
      "aodctg\n",
      "aodcgt\n",
      "aodtcg\n",
      "aodtgc\n",
      "aodgct\n",
      "aodgtc\n",
      "aogctd\n",
      "aogcdt\n",
      "aogtcd\n",
      "aogtdc\n",
      "aogdct\n",
      "aogdtc\n",
      "agctdo\n",
      "agctod\n",
      "agcdto\n",
      "agcdot\n",
      "agcotd\n",
      "agcodt\n",
      "agtcdo\n",
      "agtcod\n",
      "agtdco\n",
      "agtdoc\n",
      "agtocd\n",
      "agtodc\n",
      "agdcto\n",
      "agdcot\n",
      "agdtco\n",
      "agdtoc\n",
      "agdoct\n",
      "agdotc\n",
      "agoctd\n",
      "agocdt\n",
      "agotcd\n",
      "agotdc\n",
      "agodct\n",
      "agodtc\n",
      "tcadog\n",
      "tcadgo\n",
      "tcaodg\n",
      "tcaogd\n",
      "tcagdo\n",
      "tcagod\n",
      "tcdaog\n",
      "tcdago\n",
      "tcdoag\n",
      "tcdoga\n",
      "tcdgao\n",
      "tcdgoa\n",
      "tcoadg\n",
      "tcoagd\n",
      "tcodag\n",
      "tcodga\n",
      "tcogad\n",
      "tcogda\n",
      "tcgado\n",
      "tcgaod\n",
      "tcgdao\n",
      "tcgdoa\n",
      "tcgoad\n",
      "tcgoda\n",
      "tacdog\n",
      "tacdgo\n",
      "tacodg\n",
      "tacogd\n",
      "tacgdo\n",
      "tacgod\n",
      "tadcog\n",
      "tadcgo\n",
      "tadocg\n",
      "tadogc\n",
      "tadgco\n",
      "tadgoc\n",
      "taocdg\n",
      "taocgd\n",
      "taodcg\n",
      "taodgc\n",
      "taogcd\n",
      "taogdc\n",
      "tagcdo\n",
      "tagcod\n",
      "tagdco\n",
      "tagdoc\n",
      "tagocd\n",
      "tagodc\n",
      "tdcaog\n",
      "tdcago\n",
      "tdcoag\n",
      "tdcoga\n",
      "tdcgao\n",
      "tdcgoa\n",
      "tdacog\n",
      "tdacgo\n",
      "tdaocg\n",
      "tdaogc\n",
      "tdagco\n",
      "tdagoc\n",
      "tdocag\n",
      "tdocga\n",
      "tdoacg\n",
      "tdoagc\n",
      "tdogca\n",
      "tdogac\n",
      "tdgcao\n",
      "tdgcoa\n",
      "tdgaco\n",
      "tdgaoc\n",
      "tdgoca\n",
      "tdgoac\n",
      "tocadg\n",
      "tocagd\n",
      "tocdag\n",
      "tocdga\n",
      "tocgad\n",
      "tocgda\n",
      "toacdg\n",
      "toacgd\n",
      "toadcg\n",
      "toadgc\n",
      "toagcd\n",
      "toagdc\n",
      "todcag\n",
      "todcga\n",
      "todacg\n",
      "todagc\n",
      "todgca\n",
      "todgac\n",
      "togcad\n",
      "togcda\n",
      "togacd\n",
      "togadc\n",
      "togdca\n",
      "togdac\n",
      "tgcado\n",
      "tgcaod\n",
      "tgcdao\n",
      "tgcdoa\n",
      "tgcoad\n",
      "tgcoda\n",
      "tgacdo\n",
      "tgacod\n",
      "tgadco\n",
      "tgadoc\n",
      "tgaocd\n",
      "tgaodc\n",
      "tgdcao\n",
      "tgdcoa\n",
      "tgdaco\n",
      "tgdaoc\n",
      "tgdoca\n",
      "tgdoac\n",
      "tgocad\n",
      "tgocda\n",
      "tgoacd\n",
      "tgoadc\n",
      "tgodca\n",
      "tgodac\n",
      "dcatog\n",
      "dcatgo\n",
      "dcaotg\n",
      "dcaogt\n",
      "dcagto\n",
      "dcagot\n",
      "dctaog\n",
      "dctago\n",
      "dctoag\n",
      "dctoga\n",
      "dctgao\n",
      "dctgoa\n",
      "dcoatg\n",
      "dcoagt\n",
      "dcotag\n",
      "dcotga\n",
      "dcogat\n",
      "dcogta\n",
      "dcgato\n",
      "dcgaot\n",
      "dcgtao\n",
      "dcgtoa\n",
      "dcgoat\n",
      "dcgota\n",
      "dactog\n",
      "dactgo\n",
      "dacotg\n",
      "dacogt\n",
      "dacgto\n",
      "dacgot\n",
      "datcog\n",
      "datcgo\n",
      "datocg\n",
      "datogc\n",
      "datgco\n",
      "datgoc\n",
      "daoctg\n",
      "daocgt\n",
      "daotcg\n",
      "daotgc\n",
      "daogct\n",
      "daogtc\n",
      "dagcto\n",
      "dagcot\n",
      "dagtco\n",
      "dagtoc\n",
      "dagoct\n",
      "dagotc\n",
      "dtcaog\n",
      "dtcago\n",
      "dtcoag\n",
      "dtcoga\n",
      "dtcgao\n",
      "dtcgoa\n",
      "dtacog\n",
      "dtacgo\n",
      "dtaocg\n",
      "dtaogc\n",
      "dtagco\n",
      "dtagoc\n",
      "dtocag\n",
      "dtocga\n",
      "dtoacg\n",
      "dtoagc\n",
      "dtogca\n",
      "dtogac\n",
      "dtgcao\n",
      "dtgcoa\n",
      "dtgaco\n",
      "dtgaoc\n",
      "dtgoca\n",
      "dtgoac\n",
      "docatg\n",
      "docagt\n",
      "doctag\n",
      "doctga\n",
      "docgat\n",
      "docgta\n",
      "doactg\n",
      "doacgt\n",
      "doatcg\n",
      "doatgc\n",
      "doagct\n",
      "doagtc\n",
      "dotcag\n",
      "dotcga\n",
      "dotacg\n",
      "dotagc\n",
      "dotgca\n",
      "dotgac\n",
      "dogcat\n",
      "dogcta\n",
      "dogact\n",
      "dogatc\n",
      "dogtca\n",
      "dogtac\n",
      "dgcato\n",
      "dgcaot\n",
      "dgctao\n",
      "dgctoa\n",
      "dgcoat\n",
      "dgcota\n",
      "dgacto\n",
      "dgacot\n",
      "dgatco\n",
      "dgatoc\n",
      "dgaoct\n",
      "dgaotc\n",
      "dgtcao\n",
      "dgtcoa\n",
      "dgtaco\n",
      "dgtaoc\n",
      "dgtoca\n",
      "dgtoac\n",
      "dgocat\n",
      "dgocta\n",
      "dgoact\n",
      "dgoatc\n",
      "dgotca\n",
      "dgotac\n",
      "ocatdg\n",
      "ocatgd\n",
      "ocadtg\n",
      "ocadgt\n",
      "ocagtd\n",
      "ocagdt\n",
      "octadg\n",
      "octagd\n",
      "octdag\n",
      "octdga\n",
      "octgad\n",
      "octgda\n",
      "ocdatg\n",
      "ocdagt\n",
      "ocdtag\n",
      "ocdtga\n",
      "ocdgat\n",
      "ocdgta\n",
      "ocgatd\n",
      "ocgadt\n",
      "ocgtad\n",
      "ocgtda\n",
      "ocgdat\n",
      "ocgdta\n",
      "oactdg\n",
      "oactgd\n",
      "oacdtg\n",
      "oacdgt\n",
      "oacgtd\n",
      "oacgdt\n",
      "oatcdg\n",
      "oatcgd\n",
      "oatdcg\n",
      "oatdgc\n",
      "oatgcd\n",
      "oatgdc\n",
      "oadctg\n",
      "oadcgt\n",
      "oadtcg\n",
      "oadtgc\n",
      "oadgct\n",
      "oadgtc\n",
      "oagctd\n",
      "oagcdt\n",
      "oagtcd\n",
      "oagtdc\n",
      "oagdct\n",
      "oagdtc\n",
      "otcadg\n",
      "otcagd\n",
      "otcdag\n",
      "otcdga\n",
      "otcgad\n",
      "otcgda\n",
      "otacdg\n",
      "otacgd\n",
      "otadcg\n",
      "otadgc\n",
      "otagcd\n",
      "otagdc\n",
      "otdcag\n",
      "otdcga\n",
      "otdacg\n",
      "otdagc\n",
      "otdgca\n",
      "otdgac\n",
      "otgcad\n",
      "otgcda\n",
      "otgacd\n",
      "otgadc\n",
      "otgdca\n",
      "otgdac\n",
      "odcatg\n",
      "odcagt\n",
      "odctag\n",
      "odctga\n",
      "odcgat\n",
      "odcgta\n",
      "odactg\n",
      "odacgt\n",
      "odatcg\n",
      "odatgc\n",
      "odagct\n",
      "odagtc\n",
      "odtcag\n",
      "odtcga\n",
      "odtacg\n",
      "odtagc\n",
      "odtgca\n",
      "odtgac\n",
      "odgcat\n",
      "odgcta\n",
      "odgact\n",
      "odgatc\n",
      "odgtca\n",
      "odgtac\n",
      "ogcatd\n",
      "ogcadt\n",
      "ogctad\n",
      "ogctda\n",
      "ogcdat\n",
      "ogcdta\n",
      "ogactd\n",
      "ogacdt\n",
      "ogatcd\n",
      "ogatdc\n",
      "ogadct\n",
      "ogadtc\n",
      "ogtcad\n",
      "ogtcda\n",
      "ogtacd\n",
      "ogtadc\n",
      "ogtdca\n",
      "ogtdac\n",
      "ogdcat\n",
      "ogdcta\n",
      "ogdact\n",
      "ogdatc\n",
      "ogdtca\n",
      "ogdtac\n",
      "gcatdo\n",
      "gcatod\n",
      "gcadto\n",
      "gcadot\n",
      "gcaotd\n",
      "gcaodt\n",
      "gctado\n",
      "gctaod\n",
      "gctdao\n",
      "gctdoa\n",
      "gctoad\n",
      "gctoda\n",
      "gcdato\n",
      "gcdaot\n",
      "gcdtao\n",
      "gcdtoa\n",
      "gcdoat\n",
      "gcdota\n",
      "gcoatd\n",
      "gcoadt\n",
      "gcotad\n",
      "gcotda\n",
      "gcodat\n",
      "gcodta\n",
      "gactdo\n",
      "gactod\n",
      "gacdto\n",
      "gacdot\n",
      "gacotd\n",
      "gacodt\n",
      "gatcdo\n",
      "gatcod\n",
      "gatdco\n",
      "gatdoc\n",
      "gatocd\n",
      "gatodc\n",
      "gadcto\n",
      "gadcot\n",
      "gadtco\n",
      "gadtoc\n",
      "gadoct\n",
      "gadotc\n",
      "gaoctd\n",
      "gaocdt\n",
      "gaotcd\n",
      "gaotdc\n",
      "gaodct\n",
      "gaodtc\n",
      "gtcado\n",
      "gtcaod\n",
      "gtcdao\n",
      "gtcdoa\n",
      "gtcoad\n",
      "gtcoda\n",
      "gtacdo\n",
      "gtacod\n",
      "gtadco\n",
      "gtadoc\n",
      "gtaocd\n",
      "gtaodc\n",
      "gtdcao\n",
      "gtdcoa\n",
      "gtdaco\n",
      "gtdaoc\n",
      "gtdoca\n",
      "gtdoac\n",
      "gtocad\n",
      "gtocda\n",
      "gtoacd\n",
      "gtoadc\n",
      "gtodca\n",
      "gtodac\n",
      "gdcato\n",
      "gdcaot\n",
      "gdctao\n",
      "gdctoa\n",
      "gdcoat\n",
      "gdcota\n",
      "gdacto\n",
      "gdacot\n",
      "gdatco\n",
      "gdatoc\n",
      "gdaoct\n",
      "gdaotc\n",
      "gdtcao\n",
      "gdtcoa\n",
      "gdtaco\n",
      "gdtaoc\n",
      "gdtoca\n",
      "gdtoac\n",
      "gdocat\n",
      "gdocta\n",
      "gdoact\n",
      "gdoatc\n",
      "gdotca\n",
      "gdotac\n",
      "gocatd\n",
      "gocadt\n",
      "goctad\n",
      "goctda\n",
      "gocdat\n",
      "gocdta\n",
      "goactd\n",
      "goacdt\n",
      "goatcd\n",
      "goatdc\n",
      "goadct\n",
      "goadtc\n",
      "gotcad\n",
      "gotcda\n",
      "gotacd\n",
      "gotadc\n",
      "gotdca\n",
      "gotdac\n",
      "godcat\n",
      "godcta\n",
      "godact\n",
      "godatc\n",
      "godtca\n",
      "godtac\n"
     ]
    }
   ],
   "source": [
    "def get_combos_v1(sub_data, string):\n",
    "    if len(sub_data) == 0:\n",
    "        print(\"\".join(string))\n",
    "    else:\n",
    "        for i in sub_data:\n",
    "            new_sub_data = [x for x in sub_data if x != i]\n",
    "            get_combos_v1(new_sub_data, string + [i])\n",
    "\n",
    "def all_combinations(l):\n",
    "    if not l:\n",
    "        return None\n",
    "    if not isinstance(l, list):\n",
    "        l = list(l)\n",
    "\n",
    "    get_combos_v1(l, [])\n",
    "\n",
    "all_combinations('catdog')\n"
   ]
  },
  {
   "cell_type": "markdown",
   "metadata": {},
   "source": [
    "P-1.30 Write a Python program that can take a positive integer greater than 2 as input and write out the number of times one must repeatedly divide this number by 2 before getting a value less than 2."
   ]
  },
  {
   "cell_type": "code",
   "execution_count": 38,
   "metadata": {},
   "outputs": [
    {
     "name": "stdout",
     "output_type": "stream",
     "text": [
      "5\n"
     ]
    }
   ],
   "source": [
    "def count_division(i):\n",
    "    if not isinstance(i, int) or i <= 2: raise Exception('Input must be an integer greater than 2')\n",
    "    count = 0\n",
    "    while i > 2:\n",
    "        i /= 2\n",
    "        count += 1\n",
    "    return count\n",
    "\n",
    "import math \n",
    "\n",
    "def count_division_v2(i):\n",
    "    if not isinstance(i, int) or i <= 2: raise Exception('Input must be an integer greater than 2')\n",
    "    return int(math.log(i, 2) // 1)\n",
    "\n",
    "print(count_division_v2(50))"
   ]
  },
  {
   "cell_type": "markdown",
   "metadata": {},
   "source": [
    "P-1.31 Write a Python program that can “make change.” Your program should take two numbers as input, one that is a monetary amount charged and the other that is a monetary amount given. It should then return the number of each kind of bill and coin to give back as change for the difference between the amount given and the amount charged. The values assigned to the bills and coins can be based on the monetary system of any current or former government. Try to design your program so that it returns as few bills and coins as possible."
   ]
  },
  {
   "cell_type": "code",
   "execution_count": 22,
   "metadata": {},
   "outputs": [
    {
     "name": "stdout",
     "output_type": "stream",
     "text": [
      "Change expected: $46.73\n",
      "{'bills': {20: 2, 5: 1, 1: 1}, 'coins': {0.5: 1, 0.1: 2, 0.01: 3}}\n"
     ]
    }
   ],
   "source": [
    "import math\n",
    "\n",
    "def make_change(charge, payment, bills=[100, 50, 20, 10, 5, 1], coins=[0.5, 0.25, 0.10, 0.05,0.01]):\n",
    "    if payment < charge:\n",
    "        raise Exception(\"Not enough money\")\n",
    "\n",
    "    change = round(payment - charge, 2)\n",
    "    print(\"Change expected: ${}\".format(change))\n",
    "\n",
    "    change_breakdown = {\"bills\":{}, \"coins\": {}}\n",
    "\n",
    "    def calc(currency_set,set_type):\n",
    "        nonlocal change\n",
    "        nonlocal change_breakdown\n",
    "        for bill in currency_set:\n",
    "            total_bills = int(change / bill)\n",
    "            if total_bills:\n",
    "                change_breakdown[set_type][bill] = total_bills\n",
    "                change = round(change - bill * total_bills, 2)\n",
    "    \n",
    "    calc(bills, \"bills\")\n",
    "    calc(coins, \"coins\")\n",
    "\n",
    "    return change_breakdown\n",
    "\n",
    "print(make_change(153.27, 200))\n",
    "\n",
    "# Not my solution\n",
    "def make_change(given, charged, denominations = [100, 20, 10, 5, 2, 1, 0.25, 0.10, 0.05, 0.01]):\n",
    "    assert given >= charged, 'The customer has not given enough!'\n",
    "    change = {}\n",
    "    residual = given-charged\n",
    "    for denomination in denominations:\n",
    "        amount, residual = divmod(residual, denomination)\n",
    "        if amount: change[denomination] = int(amount) #This will only add non-zero amounts to the dictionary\n",
    "    return change\n"
   ]
  },
  {
   "cell_type": "markdown",
   "metadata": {},
   "source": [
    "P-1.32 Write a Python program that can simulate a simple calculator, using the console as the exclusive input and output device. That is, each input to the calculator, be it a number, like 12.34 or 1034, or an operator, like + or =, can be done on a separate line. After each such input, you should output to the Python console what would be displayed on your calculator."
   ]
  },
  {
   "cell_type": "code",
   "execution_count": 35,
   "metadata": {},
   "outputs": [
    {
     "data": {
      "text/plain": [
       "10"
      ]
     },
     "execution_count": 35,
     "metadata": {},
     "output_type": "execute_result"
    }
   ],
   "source": [
    "# Shitty interpretation of the problem\n",
    "def calculator(calc_input):\n",
    "    if not isinstance(calc_input, list):\n",
    "        calc_input = calc_input.split(\" \")\n",
    "\n",
    "    total = 0\n",
    "    first_run = True\n",
    "    for el in calc_input:\n",
    "        if el not in [\"+\", \"=\", ' ']:\n",
    "            if '.' in el:\n",
    "                el = float(el)\n",
    "            else:\n",
    "                el = int(el)\n",
    "\n",
    "            if first_run:\n",
    "                total = el\n",
    "                first_run = False\n",
    "            else:\n",
    "                total += el\n",
    "        elif el == \"+\" or el == ' ':\n",
    "            continue\n",
    "        elif el == \"=\":\n",
    "            return round(total, 2)\n",
    "        \n",
    "    return 'Mal formed input'\n",
    "\n",
    "calculator('5 + 5 =')"
   ]
  },
  {
   "cell_type": "markdown",
   "metadata": {},
   "source": [
    "P-1.33 Write a Python program that simulates a handheld calculator. Your pro- gram should process input from the Python console representing buttons that are “pushed,” and then output the contents of the screen after each op- eration is performed. Minimally, your calculator should be able to process the basic arithmetic operations and a reset/clear operation."
   ]
  },
  {
   "cell_type": "code",
   "execution_count": 1,
   "metadata": {},
   "outputs": [
    {
     "name": "stdout",
     "output_type": "stream",
     "text": [
      "10 / 2 = 5.0\n"
     ]
    }
   ],
   "source": [
    "def do_arithmetic(l_num, op, r_num):\n",
    "    if op == '+': return l_num + r_num\n",
    "    if op == '-': return l_num - r_num\n",
    "    if op == '*': return l_num * r_num\n",
    "    if op == '/': return l_num / r_num\n",
    "\n",
    "def convert_num(num):\n",
    "    try:\n",
    "        if '.' in num:\n",
    "            num = float(num)\n",
    "        else:\n",
    "            num = int(num)\n",
    "    except Exception as e:\n",
    "        raise e\n",
    "    return num\n",
    "\n",
    "def simple_calculator():\n",
    "    l_num = r_num = op = input_str = msg = None\n",
    "    while True:\n",
    "        if l_num is None:\n",
    "            msg = 'Enter first number'\n",
    "        elif op is None:\n",
    "            msg = 'Enter operator'\n",
    "        elif r_num is None:\n",
    "            msg = 'Enter second number'\n",
    "        input_str = input(msg)\n",
    "        if input_str == 'exit':\n",
    "            break\n",
    "        elif input_str == 'clr':\n",
    "            l_num = r_num = op = input_str = None\n",
    "        elif l_num is None:\n",
    "            l_num = convert_num(input_str)\n",
    "        elif op is None:\n",
    "            if l_num is None:\n",
    "                print(\"You must first enter a number to perform an operation on!\") \n",
    "                continue\n",
    "            else:\n",
    "                op = input_str\n",
    "        elif r_num is None:\n",
    "            r_num = convert_num(input_str)\n",
    "            value = do_arithmetic(l_num, op, r_num)\n",
    "            print(\"{} {} {} = {}\".format(l_num, op, r_num, value))\n",
    "            l_num = value\n",
    "            op = r_num = None\n",
    "        else:\n",
    "            print(\"Operation unknown. Try again\")\n",
    "\n",
    "simple_calculator()"
   ]
  },
  {
   "cell_type": "markdown",
   "metadata": {},
   "source": [
    "P-1.34 A common punishment for school children is to write out a sentence multiple times. Write a Python stand-alone program that will write out the following sentence one hundred times: “I will never spam my friends again.” Your program should number each of the sentences and it should make eight different random-looking typos."
   ]
  },
  {
   "cell_type": "code",
   "execution_count": 20,
   "metadata": {},
   "outputs": [
    {
     "name": "stdout",
     "output_type": "stream",
     "text": [
      "1 - I will never spam my friends again.\n",
      "2 - I will never spam my friends again.\n",
      "3 - I will never spam my friends again.\n",
      "4 - I will never spam my friends again.\n",
      "5 - I will never spam ny friends again.  <-- This is a typo\n",
      "6 - I will never spam my friends again.\n",
      "7 - I will never spam my friends again.\n",
      "8 - I will never spam my friends again.\n",
      "9 - I will never spam my friends again.\n",
      "10 - I will never spam my friends again.\n",
      "11 - I will never spam my friends again.\n",
      "12 - I will never spam my friends again.\n",
      "13 - I will never spam my friends again.\n",
      "14 - I will never spam my friends again.\n",
      "15 - I will never spam my friends again.\n",
      "16 - I will never spam my friends again.\n",
      "17 - I will never spbm my friends again.  <-- This is a typo\n",
      "18 - I will never spam my friends again.\n",
      "19 - I will never spam my friends again.\n",
      "20 - I will never spam my friends again.\n",
      "21 - I will never spam my friends again.\n",
      "22 - I will never spam my friends again.\n",
      "23 - I will never spam my fsiends again.  <-- This is a typo\n",
      "24 - I will never spam my friends again.\n",
      "25 - I will never spam my friends again.\n",
      "26 - I will never spam my friends again.\n",
      "27 - I will never spam my friends again.\n",
      "28 - I will never spam my friends again.\n",
      "29 - I will never spam my friends again.\n",
      "30 - I will never spam my friends again.\n",
      "31 - I will never spam my friends again.\n",
      "32 - I will never spam my friends again.\n",
      "33 - I will never spam my friends again.\n",
      "34 - I will never spam my friends again.\n",
      "35 - I will never spam my friends again.\n",
      "36 - I will never sqam my friends again.  <-- This is a typo\n",
      "37 - I will never spam my friends again.\n",
      "38 - I will never spam my friends again.\n",
      "39 - I will never spam my friends again.\n",
      "40 - I will never spam my friends again.\n",
      "41 - I will never spam my frifnds again.  <-- This is a typo\n",
      "42 - I will never spam my friends again.\n",
      "43 - I will never spam my friends again.\n",
      "44 - I will never spam my friends again.\n",
      "45 - I will never spam my friends again.\n",
      "46 - I will never spam my friends again.\n",
      "47 - I will never spam my friends again.\n",
      "48 - I will never spam my friends again.\n",
      "49 - I will never spam my friends again.\n",
      "50 - I will never spam my friends again.\n",
      "51 - I will never spam my friends again.\n",
      "52 - I will never spam my friends again.\n",
      "53 - I will oever spam my friends again.  <-- This is a typo\n",
      "54 - I will never spam my friends again.\n",
      "55 - I will never spam my friends again.\n",
      "56 - I will never spam my friends again.\n",
      "57 - I will never spam my friends again.\n",
      "58 - I will never spam my friends again.\n",
      "59 - I will never spam my friends again.\n",
      "60 - I will never spam my friends again.\n",
      "61 - I will never spam my friends again.\n",
      "62 - I will never spam my friends again.\n",
      "63 - I will never spam my friends again.\n",
      "64 - I will never spam my friends again.\n",
      "65 - I will never spam my friends again.\n",
      "66 - I will never spam my friends again.\n",
      "67 - I will never spam my friends again.\n",
      "68 - I will never spam my friends again.\n",
      "69 - I will never spam my friends again.\n",
      "70 - I will never span my friends again.  <-- This is a typo\n",
      "71 - I will never spam my friends again.\n",
      "72 - I will never spam my friends again.\n",
      "73 - I will never spam my friends again.\n",
      "74 - I will never spam my friends again.\n",
      "75 - I will never spam my friends again.\n",
      "76 - I will never spam my friends again.\n",
      "77 - I will neves spam my friends again.  <-- This is a typo\n",
      "78 - I will never spam my friends again.\n",
      "79 - I will never spam my friends again.\n",
      "80 - I will never spam my friends again.\n",
      "81 - I will never spam my friends again.\n",
      "82 - I will never spam my friends again.\n",
      "83 - I will never spam my friends again.\n",
      "84 - I will never spam my friends again.\n",
      "85 - I will never spam my friends again.\n",
      "86 - I will never spam my friends again.\n",
      "87 - I will never spam my friends again.\n",
      "88 - I will never spam my friends again.\n",
      "89 - I will never spam my friends again.\n",
      "90 - I will never spam my friends again.\n",
      "91 - I will never spam my friends again.\n",
      "92 - I will never spam my friends again.\n",
      "93 - I will never spam my friends again.\n",
      "94 - I will never spam my friends again.\n",
      "95 - I will never spam my friends again.\n",
      "96 - I will never spam my friends again.\n",
      "97 - I will never spam my friends again.\n",
      "98 - I will never spam my friends again.\n",
      "99 - I will never spam my friends again.\n",
      "100 - I will never spam my friends again.\n"
     ]
    }
   ],
   "source": [
    "from random import randint\n",
    "\n",
    "def make_typo(str, typos_done):\n",
    "    random = randint(0, len(str)-1)\n",
    "    l = list(str)\n",
    "    while (random in typos_done) or (l[random] == \" \"):\n",
    "        random = randint(0, len(str)-1)\n",
    "\n",
    "    typos_done.append(random)\n",
    "    l[random] = chr(ord(l[random]) + 1)\n",
    "    return \"\".join(l) + \"  <-- This is a typo\"\n",
    "\n",
    "\n",
    "def punishment():\n",
    "    count = 0\n",
    "    typos = 8\n",
    "    typos_idxs = []\n",
    "    next_typo_itr = 10\n",
    "    next_typo = randint(0, next_typo_itr)\n",
    "    phrase = \"I will never spam my friends again.\"\n",
    "    while count < 100:\n",
    "        tmp_phrase = phrase\n",
    "        if (next_typo == count and typos > 0) or (count > 90 and typos > 0):\n",
    "            tmp_phrase = make_typo(phrase, typos_idxs)\n",
    "            next_typo_itr += 10\n",
    "            next_typo = randint(next_typo_itr - 10, next_typo_itr)\n",
    "            typos -= 1\n",
    "        count += 1\n",
    "        print(\"{} - {}\".format(count, tmp_phrase))\n",
    "\n",
    "\n",
    "punishment()"
   ]
  },
  {
   "cell_type": "markdown",
   "metadata": {},
   "source": [
    "P-1.35 The birthday paradox says that the probability that two people in a room will have the same birthday is more than half, provided n, the number of people in the room, is more than 23. This property is not really a paradox, but many people find it surprising. Design a Python program that can test this paradox by a series of experiments on randomly generated birthdays, which test this paradox for n = 5,10,15,20,...,100."
   ]
  },
  {
   "cell_type": "code",
   "execution_count": 27,
   "metadata": {},
   "outputs": [
    {
     "name": "stdout",
     "output_type": "stream",
     "text": [
      "For 5 people, the probability is approximatelly: 0.02, parados is False\n",
      "For 10 people, the probability is approximatelly: 0.07, parados is True\n",
      "For 15 people, the probability is approximatelly: 0.31, parados is True\n",
      "For 20 people, the probability is approximatelly: 0.38, parados is True\n",
      "For 25 people, the probability is approximatelly: 0.64, parados is True\n",
      "For 30 people, the probability is approximatelly: 0.71, parados is True\n",
      "For 35 people, the probability is approximatelly: 0.86, parados is True\n",
      "For 40 people, the probability is approximatelly: 0.86, parados is True\n",
      "For 45 people, the probability is approximatelly: 0.9, parados is True\n",
      "For 50 people, the probability is approximatelly: 0.98, parados is True\n",
      "For 55 people, the probability is approximatelly: 0.98, parados is True\n",
      "For 60 people, the probability is approximatelly: 0.99, parados is True\n",
      "For 65 people, the probability is approximatelly: 1.0, parados is True\n",
      "For 70 people, the probability is approximatelly: 1.0, parados is True\n",
      "For 75 people, the probability is approximatelly: 1.0, parados is True\n",
      "For 80 people, the probability is approximatelly: 1.0, parados is True\n",
      "For 85 people, the probability is approximatelly: 1.0, parados is True\n",
      "For 90 people, the probability is approximatelly: 1.0, parados is True\n",
      "For 95 people, the probability is approximatelly: 1.0, parados is True\n",
      "For 100 people, the probability is approximatelly: 1.0, parados is True\n"
     ]
    }
   ],
   "source": [
    "def bday_paradox(n):\n",
    "    bdays = []\n",
    "    for i in range(n):\n",
    "        bday = randint(0, 365)\n",
    "        if bday not in bdays:\n",
    "            bdays.append(bday)\n",
    "        else:\n",
    "            return True\n",
    "    return False\n",
    "\n",
    "def test_paradox(n):\n",
    "    successes = 0\n",
    "    trials = 0\n",
    "    for trial in range(100):\n",
    "        if bday_paradox(n):\n",
    "            successes += 1\n",
    "        trials += 1\n",
    "    return successes/trials\n",
    "\n",
    "for test in range(5, 101, 5):\n",
    "    prob = test_paradox(test)\n",
    "    # Not sure if the probability math is correct\n",
    "    print(\"For {} people, the probability is approximatelly: {}, parados is {}\".format(test, prob, prob*100 > test/2))"
   ]
  },
  {
   "cell_type": "markdown",
   "metadata": {},
   "source": [
    "P-1.36 Write a Python program that inputs a list of words, separated by white-space, and outputs how many times each word appears in the list. You need not worry about efficiency at this point, however, as this topic is something that will be addressed later in this book."
   ]
  },
  {
   "cell_type": "code",
   "execution_count": 29,
   "metadata": {},
   "outputs": [
    {
     "name": "stdout",
     "output_type": "stream",
     "text": [
      "{'this': 2, 'is': 2, 'my': 1, 'test': 1, 'because': 1, 'a': 1, 'simple': 1, 'exercise': 1}\n"
     ]
    }
   ],
   "source": [
    "def count_words(l):\n",
    "    l = l.split(\",\")\n",
    "    counter = {}\n",
    "    for word in l:\n",
    "        if counter.get(word, None) is None:\n",
    "            counter[word] = 1\n",
    "        else:\n",
    "            counter[word] += 1\n",
    "    return counter\n",
    "\n",
    "print(count_words('this,is,my,test,because,this,is,a,simple,exercise'))"
   ]
  }
 ],
 "metadata": {
  "kernelspec": {
   "display_name": "Python 3",
   "language": "python",
   "name": "python3"
  },
  "language_info": {
   "codemirror_mode": {
    "name": "ipython",
    "version": 3
   },
   "file_extension": ".py",
   "mimetype": "text/x-python",
   "name": "python",
   "nbconvert_exporter": "python",
   "pygments_lexer": "ipython3",
   "version": "3.10.13"
  }
 },
 "nbformat": 4,
 "nbformat_minor": 2
}
