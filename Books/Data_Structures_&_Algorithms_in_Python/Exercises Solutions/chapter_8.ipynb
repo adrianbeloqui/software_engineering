{
 "cells": [
  {
   "cell_type": "markdown",
   "metadata": {},
   "source": [
    "# Reinforcement"
   ]
  },
  {
   "cell_type": "code",
   "execution_count": 2,
   "metadata": {},
   "outputs": [],
   "source": [
    "# Import data structures folder\n",
    "import sys\n",
    "import os\n",
    "\n",
    "# Go to root software_engineering\n",
    "module_path = os.path.abspath(os.path.join('../../..'))\n",
    "if module_path not in sys.path:\n",
    "    sys.path.append(module_path)\n"
   ]
  },
  {
   "cell_type": "markdown",
   "metadata": {},
   "source": [
    "R-8.1 The following questions refer to the tree of Figure 8.3.\n",
    "\n",
    "a. Which node is the root?\n",
    "b. What are the internal nodes?\n",
    "c. How many descendants does node cs016/ have?\n",
    "d. How many ancestors does node cs016/ have?\n",
    "e. What are the siblings of node homeworks/?\n",
    "f. Which nodes are in the subtree rooted at node projects/?\n",
    "g. What is the depth of node papers/?\n",
    "h. What is the height of the tree?"
   ]
  },
  {
   "cell_type": "markdown",
   "metadata": {},
   "source": [
    "a. `/user/rt/courses/` is the root node\n",
    "b. Internal nodes are those nodes that have one or more children (cs016, cs252, homeworks, programs, projects, papers, demos)\n",
    "c. 9 descendants\n",
    "d. 1 ancestor\n",
    "e. the siblings are: grades and programs\n",
    "f. papers, demos, buylow, sellhigh, market\n",
    "g. Depth of papers is 3\n",
    "h. The height of the tree is 4"
   ]
  },
  {
   "cell_type": "markdown",
   "metadata": {},
   "source": [
    "R-8.2 Show a tree achieving the worst-case running time for algorithm depth."
   ]
  },
  {
   "cell_type": "markdown",
   "metadata": {},
   "source": [
    "root \n",
    " \\\n",
    " node a\n",
    "    \\\n",
    "    node b\n",
    "        \\\n",
    "        node c\n",
    "            \\\n",
    "            node d\n",
    "                \\\n",
    "                node e\n",
    "                    .\n",
    "                    .\n",
    "                    .\n",
    "                    \\\n",
    "                    node n"
   ]
  },
  {
   "cell_type": "markdown",
   "metadata": {},
   "source": [
    "R-8.3 Give a justification of Proposition 8.4."
   ]
  },
  {
   "cell_type": "markdown",
   "metadata": {},
   "source": [
    "Proposition 8.4: The height of a nonempty tree T is equal to the maximum of the depths of its leaf positions\n",
    "\n",
    "Justification:\n",
    "\n",
    "Assuming a nonempty tree has 1 node, by definition the depth of this node is 0. According to the definition of height, the height is also 0.\n",
    "According to the height definition, the height of a node p is one more than the maximum of the heights of p's children:\n",
    "\n",
    "height(p) = 1 + max(height(p.children()))\n",
    "\n",
    "According to the depth definition, the depth of p is one plus the depth of the parent of p:\n",
    "\n",
    "depth(p) = 1 + depth(p.parent())\n",
    "\n",
    "Assuming that the height of a nonempty tree T is determined by the longest path from the root node to an external note, we can establish that\n",
    "we need to use the maximum value of the calculation.\n",
    "\n",
    "If we take a node with the root having a single child, we can establish that the depth of the child is 1 by definition, and that the height is 1 by definition.\n",
    "Thus, if we have a tree T with the longest path from root to a node n, we can say that the height of the tree T is equal to the depth of n. Thus, we conclude\n",
    "that the height of a tree T is equal to the maximum of the depths of its leaf positions."
   ]
  },
  {
   "cell_type": "markdown",
   "metadata": {},
   "source": [
    "R-8.4 What is the running time of a call to T._height2(p) when called on a position p distinct from the root of T? (See Code Fragment 8.5.)"
   ]
  },
  {
   "cell_type": "markdown",
   "metadata": {},
   "source": [
    "O(children(p)).\n",
    "\n",
    "Or another way to put it is as it was told in the given solution. Where there is n<sub>p</sub> that refers to the number of positions in the subtree rooted at position p, so\n",
    "the running time would be O(n<sub>p</sub>)"
   ]
  },
  {
   "cell_type": "markdown",
   "metadata": {},
   "source": [
    "R-8.5 Describe an algorithm, relying only on the BinaryTree operations, that counts the number of leaves in a binary tree that are the left child of their respective parent."
   ]
  },
  {
   "cell_type": "code",
   "execution_count": null,
   "metadata": {},
   "outputs": [],
   "source": [
    "from data_structures.trees.binary_tree_adt import BinaryTree\n",
    "\n",
    "class CountLeftBinaryTree(BinaryTree):\n",
    "    def count_left(self):\n",
    "        return self._count_left(self.root())\n",
    "    \n",
    "    def _count_left(self, p):\n",
    "        if self.is_leaf(p):\n",
    "            return 1\n",
    "        return 0 + sum(self._count_left(c) for c in self.children(p))\n"
   ]
  },
  {
   "cell_type": "markdown",
   "metadata": {},
   "source": [
    "R-8.6 Let T be an n-node binary tree that may be improper. Describe how to represent T by means of a proper binary tree T′ with O(n) nodes."
   ]
  },
  {
   "cell_type": "markdown",
   "metadata": {},
   "source": [
    "Use dummy nodes.\n",
    "\n",
    "Traverse the tree using in order traversal.\n",
    "Check if the node is leaf or has both children.\n",
    "If only one child is found (left or right), add a dummy node as a child on the corresponding side\n",
    "\n",
    "Pseudocode:\n",
    "\n",
    "properize(root):\n",
    "    is root a leaf node = root.is_leaf()\n",
    "    if root has lc then\n",
    "        properize(lc)\n",
    "    elif root is not a leaf then\n",
    "        # no left child and not leaf, must have right child\n",
    "        add_dummy_node(root.left)\n",
    "    if root has rc then\n",
    "        properize(rc)\n",
    "    elif root is not a leaf then\n",
    "        # no right child and not leaf, must have left child\n",
    "        add_dummy_node(root.right)"
   ]
  },
  {
   "cell_type": "markdown",
   "metadata": {},
   "source": [
    "R-8.7 What are the minimum and maximum number of internal and external nodes in an improper binary tree with n nodes?"
   ]
  },
  {
   "cell_type": "markdown",
   "metadata": {},
   "source": [
    "The minimum number of external nodes is 1.\n",
    "The maximum number of internal nodes is n - 1. \n",
    "\n",
    "Unable to produce the remaining part of the answer. The book says:\n",
    "\n",
    "A tree that is proper (and thus odd n) would\n",
    "have n-1/2 internal nodes and n+1/2 external nodes."
   ]
  },
  {
   "cell_type": "markdown",
   "metadata": {},
   "source": [
    "R-8.8 Answer the following questions so as to justify Proposition 8.8.\n",
    "\n",
    "a. What is the minimum number of external nodes for a proper binary tree with height h? Justify your answer.\n",
    "\n",
    "b. What is the maximum number of external nodes for a proper binary tree with height h? Justify your answer.\n",
    "\n",
    "c. Let T be a proper binary tree with height h and n nodes. Show that log(n + 1) − 1 ≤ h ≤ (n− 1)/2.\n",
    "\n",
    "d. For which values of n and h can the above lower and upper bounds on h be attained with equality?"
   ]
  },
  {
   "cell_type": "markdown",
   "metadata": {},
   "source": [
    "a. In a nonempty tree T, the minimum number of external nodes is 1 because the base case would be a proper binary tree with a single node.\n",
    "b. In a nonempty tree T, the maximum number of external nodes is 2^h, because given that a specific level of the tree T there are 2^depth nodes, if h is the height of tree T, which is equal to the maximum depth of a tree T, then 2^h is the maximum number of nodes in the lower level of the tree.\n",
    "\n",
    "\n",
    "c. \n",
    "d. "
   ]
  },
  {
   "cell_type": "markdown",
   "metadata": {},
   "source": [
    "R-8.9 Give a proof by induction of Proposition 8.9."
   ]
  },
  {
   "cell_type": "markdown",
   "metadata": {},
   "source": [
    "A justification was given in the book already, skipping this exercise."
   ]
  },
  {
   "cell_type": "markdown",
   "metadata": {},
   "source": [
    "R-8.10 Give a direct implementation of the num_children method within the class BinaryTree."
   ]
  },
  {
   "cell_type": "code",
   "execution_count": null,
   "metadata": {},
   "outputs": [],
   "source": [
    "from data_structures.trees.binary_tree_adt import BinaryTree\n",
    "\n",
    "\n",
    "class NumChildrenBinaryTree(BinaryTree):\n",
    "    def num_children(self, p):\n",
    "        num = 0\n",
    "        for c in self.children(p):\n",
    "            num += 1\n",
    "        return num"
   ]
  },
  {
   "cell_type": "markdown",
   "metadata": {},
   "source": [
    "R-8.11 Find the value of the arithmetic expression associated with each subtree of the binary tree of Figure 8.8."
   ]
  },
  {
   "cell_type": "markdown",
   "metadata": {},
   "source": [
    "                             2 - 15 = -13\n",
    "                    /                       \\\n",
    "            12 / 6 = 2                    9 + 6 = 15\n",
    "        /              \\                    /\n",
    "    4 x 3 = 12      4 + 2 = 6           3 x 3 = 9\n",
    "    /               \\                       \\\n",
    "3 + 1 = 4           9 - 5 = 4               7 - 4 = 3\n",
    "\n",
    "The result is -13."
   ]
  },
  {
   "cell_type": "markdown",
   "metadata": {},
   "source": [
    "R-8.12 Draw an arithmetic expression tree that has four external nodes, storing the numbers 1, 5, 6, and 7 (with each number stored in a distinct external node, but not necessarily in this order), and has three internal nodes, each storing an operator from the set {+,−,×,/}, so that the value of the root is 21. The operators may return and act on fractions, and an operator may be used more than once."
   ]
  },
  {
   "cell_type": "markdown",
   "metadata": {},
   "source": [
    "I couldn't seem to find a solution for this problem, I had to look at the solutions:\n",
    "\n",
    "  {/}\n",
    " /   \\\n",
    "6     {-}\n",
    "    /   \\\n",
    "   1     {/}\n",
    "        /   \\\n",
    "       7     5"
   ]
  },
  {
   "cell_type": "markdown",
   "metadata": {},
   "source": [
    "R-8.13 Draw the binary tree representation of the following arithmetic expression: “(((5 + 2) ∗ (2− 1))/((2 + 9) + ((7− 2)− 1)) ∗ 8)”."
   ]
  },
  {
   "cell_type": "markdown",
   "metadata": {},
   "source": [
    "                        *\n",
    "                    /        \\\n",
    "                  {/}            8\n",
    "                /       \\\n",
    "                *          +\n",
    "            /      \\       |   \\    \n",
    "        +           -     +      -\n",
    "    /   \\         /   \\   | \\    |  \\\n",
    "    5   2         2   1   2 9    -   1\n",
    "                                / \\\n",
    "                                7  2"
   ]
  },
  {
   "cell_type": "markdown",
   "metadata": {},
   "source": [
    "R-8.14 Justify Table 8.2, summarizing the running time of the methods of a tree represented with a linked structure, by providing, for each method, a description of its implementation, and an analysis of its running time."
   ]
  },
  {
   "cell_type": "code",
   "execution_count": null,
   "metadata": {},
   "outputs": [],
   "source": [
    "# Refer to data_structures.trees.linked_general_tree.LinkedGeneralTree to see the implementation of these methods\n",
    "\n",
    "# len() - see comments in implemented code\n",
    "# is_empty() - This performs a constant time comparison of the value of len(), which takes constant time, thus this runs in O(1) time\n",
    "# root() - see comments in implemented code\n",
    "# parent() - Both function calls and the access to the property _parent takes contant time, thus this runs in constant time O(1)\n",
    "# is_root() - This performs a constant time comparison of the value of root() and the object p, which takes constant time, does this runs in O(1)\n",
    "# is_leaf() - This gets the length of the node's children list, which takes constant time and compares it to zero, which takes constant time, thus this runs in O(1) time\n",
    "# children(p) - This runs in O(Cp + 1) where Cp is the number of children of P and + 1 makes reference to the iteration of the call for p.\n",
    "# depth(p) - This runs in O(depth of p + 1) given that you need to iterate through the ancestors of p plus p itself\n",
    "# height() - This implementation will visit each node of the tree once, thus the worst case time is O(n)"
   ]
  },
  {
   "cell_type": "markdown",
   "metadata": {},
   "source": [
    "R-8.15 The LinkedBinaryTree class provides only nonpublic versions of the update methods discussed on page 319. Implement a simple subclass named MutableLinkedBinaryTree that provides public wrapper functions for each of the inherited nonpublic update methods."
   ]
  },
  {
   "cell_type": "code",
   "execution_count": null,
   "metadata": {},
   "outputs": [],
   "source": [
    "from data_structures.trees.linked_binary_tree import LinkedBinaryTree\n",
    "\n",
    "\n",
    "class MutableLinkedBinaryTree(LinkedBinaryTree):\n",
    "    def add_root(self, e):\n",
    "        return self._add_root(e)\n",
    "    def add_left(self, p, e):\n",
    "        return self._add_left(p, e)\n",
    "    def add_right(self, p, e):\n",
    "        return self._add_right(p, e)\n",
    "    def replace(self, p, e):\n",
    "        return self._replace(p, e)\n",
    "    def delete(self, p):\n",
    "        return self._delete(p)\n",
    "    def attach(self, p, T1, T2):\n",
    "        return self._attach(p, T1, T2)"
   ]
  },
  {
   "cell_type": "markdown",
   "metadata": {},
   "source": [
    "R-8.16 Let T be a binary tree with n nodes, and let f() be the level numbering function of the positions of T, as given in Section 8.3.2.\n",
    "\n",
    "a. Show that, for every position p of T, f(p) ≤ 2^n − 2.\n",
    "\n",
    "b. Show an example of a binary tree with seven nodes that attains the above upper bound on f(p) for some position p."
   ]
  },
  {
   "cell_type": "markdown",
   "metadata": {},
   "source": [
    "a.\n",
    "\n",
    "n = 1, 2^1 - 2 = 0\n",
    "n = 2, 2^2 - 2 = 2\n",
    "n = 3, 2^3 - 2 = 6\n",
    "n = 7, 2^7 - 2 = 126\n",
    "(not solved)\n",
    "\n",
    "b. 0\n",
    "   \\\n",
    "    1\n",
    "     \\\n",
    "      2\n",
    "       \\\n",
    "        3\n",
    "         \\\n",
    "          4\n",
    "            \\\n",
    "             5\n",
    "              \\\n",
    "                6\n",
    "                 \\\n",
    "                  7"
   ]
  },
  {
   "cell_type": "markdown",
   "metadata": {},
   "source": [
    "R-8.17 Show how to use the Euler tour traversal to compute the level number f(p), as defined in Section 8.3.2, of each position in a binary tree T ."
   ]
  },
  {
   "cell_type": "code",
   "execution_count": null,
   "metadata": {},
   "outputs": [],
   "source": [
    "from data_structures.trees.binary_euler_tour import BinaryEulerTour\n",
    "\n",
    "\n",
    "class LevelBinaryEulerTour(BinaryEulerTour):\n",
    "    def _hook_previsit(self, p, d, path, level):\n",
    "        # Instead of modifying the _tour function, another approach would be to \n",
    "        # tap into the parent's level to set p's level, removing the need to \n",
    "        # overwrite more functions\n",
    "        p.element().setLevel(level)\n",
    "\n",
    "    def execute(self):\n",
    "        \"\"\"Perform the tour and return any results from. post visit of root\"\"\"\n",
    "        if len(self._tree) > 0:\n",
    "            return self._tour(self._tree.root(), 0, [], 0)\n",
    "\n",
    "    def _tour(self, p, d, path, level):\n",
    "        results = [None, None]\n",
    "        self._hook_previsit(p, d, path, level)\n",
    "\n",
    "        if self._tree.left(p) is not None:\n",
    "            path.append(0)\n",
    "            results[0] = self._tour(self._tree.left(p), d + 1, path, 2*level + 1)\n",
    "            path.pop()\n",
    "        \n",
    "        self._hook_invisit(p, d, path)\n",
    "\n",
    "        if self._tree.right(p) is not None:\n",
    "            path.append(1)\n",
    "            results[0] = self._tour(self._tree.right(p), d + 1, path, 2*level + 2)\n",
    "            path.pop()\n",
    "        \n",
    "        answer = self._hook_postvisit(p, d, path, results)\n",
    "        return answer"
   ]
  },
  {
   "cell_type": "markdown",
   "metadata": {},
   "source": [
    "R-8.18 Let T be a binary tree with n positions that is realized with an array representation A, and let f() be the level numbering function of the positions of T, as given in Section 8.3.2. Give pseudo-code descriptions of each of the methods root, parent, left, right, is leaf, and is root."
   ]
  },
  {
   "cell_type": "code",
   "execution_count": null,
   "metadata": {},
   "outputs": [],
   "source": [
    "def root(self):\n",
    "    return self._list[0]\n",
    "\n",
    "def parent(self, p):\n",
    "    if p.get_level() > 0:\n",
    "        p_lvl = (p.get_level() - 1) // 2\n",
    "        return self._list[p_lvl]\n",
    "    return None\n",
    "\n",
    "def left(self, p):\n",
    "    return self._list[2* p.get_level() + 1]\n",
    "\n",
    "def right(self, p):\n",
    "    return self._list[2* p.get_level() + 2]\n",
    "\n",
    "def is_leaf(self, p):\n",
    "    if self.left(p) is None and self.right(p) is None:\n",
    "        return True\n",
    "    return False\n",
    "\n",
    "def is_root(self, p):\n",
    "    return self.root() == p"
   ]
  },
  {
   "cell_type": "markdown",
   "metadata": {},
   "source": [
    "R-8.19 Our definition of the level numbering function f(p), as given in Section 8.3.2, began with the root having number 0. Some authors prefer to use a level numbering g(p) in which the root is assigned number 1, because it simplifies the arithmetic for finding neighboring positions. Redo Exercise R-8.18, but assuming that we use a level numbering g(p) in which the root is assigned number 1."
   ]
  },
  {
   "cell_type": "code",
   "execution_count": null,
   "metadata": {},
   "outputs": [],
   "source": [
    "# g(p) = f(p) + 1\n",
    "\n",
    "def root(self):\n",
    "    return self._list[1]\n",
    "\n",
    "def parent(self, p):\n",
    "    if p.get_level() > 1:\n",
    "        p_lvl = (p.get_level() - 2) // 2\n",
    "        return self._list[p_lvl]\n",
    "    return None\n",
    "\n",
    "def left(self, p):\n",
    "    return self._list[2*p.get_level() + 2]\n",
    "\n",
    "def right(self, p):\n",
    "    return self._list[2*p.get_level() + 3]\n",
    "\n",
    "def is_leaf(self, p):\n",
    "    if self.left(p) is None and self.right(p) is None:\n",
    "        return True\n",
    "    return False\n",
    "\n",
    "def is_root(self, p):\n",
    "    return self.root() == p"
   ]
  },
  {
   "cell_type": "markdown",
   "metadata": {},
   "source": [
    "R-8.20 Draw a binary tree T that simultaneously satisfies the following:\n",
    "\n",
    "• Each internal node of T stores a single character.\n",
    "• A preorder traversal of T yields EXAMFUN.\n",
    "• An inorder traversal of T yields MAFXUEN."
   ]
  },
  {
   "cell_type": "markdown",
   "metadata": {},
   "source": [
    "              E\n",
    "          /       \\\n",
    "        X           N\n",
    "      /     \\         \\\n",
    "     A        U         null \n",
    "    /  \\        \\\n",
    "   M    F        null\n",
    "   /      \\\n",
    "null      null"
   ]
  },
  {
   "cell_type": "markdown",
   "metadata": {},
   "source": [
    "R-8.21 In what order are positions visited during a preorder traversal of the tree of Figure 8.8?"
   ]
  },
  {
   "cell_type": "markdown",
   "metadata": {},
   "source": [
    "-, /, x, +, 3, 1, 3, +, -, 9, 5, 2, +, x, 3, -, 7, 4, 6"
   ]
  },
  {
   "cell_type": "markdown",
   "metadata": {},
   "source": [
    "R-8.22 In what order are positions visited during a postorder traversal of the tree of Figure 8.8?"
   ]
  },
  {
   "cell_type": "markdown",
   "metadata": {},
   "source": [
    "3, 1, +, 3, x, 9, 5, -, 2, +, /, 3, 7, 4, -, x, 6, +, -"
   ]
  },
  {
   "cell_type": "markdown",
   "metadata": {},
   "source": [
    "R-8.23 Let T be an ordered tree with more than one node. Is it possible that the preorder traversal of T visits the nodes in the same order as the postorder traversal of T ? If so, give an example; otherwise, explain why this cannot occur. Likewise, is it possible that the preorder traversal of T visits the nodes in the reverse order of the postorder traversal of T ? If so, give an example; otherwise, explain why this cannot occur."
   ]
  },
  {
   "cell_type": "markdown",
   "metadata": {},
   "source": [
    "Example 1:\n",
    "\n",
    "   A\n",
    "    \\\n",
    "    B\n",
    "\n",
    "Preorder Traversal: A B\n",
    "Postorder Traversal: B A\n",
    "\n",
    "Given that the tree T has at least more than one node, for the basic case of a tree T with 2 nodes, the preorder and postorder traversals cannot visit the nodes in the same order. This simply cannot occur because visits to the nodes are inherintly in opposite steps of visiting the children of a node\n",
    "\n",
    "However, as shown in the example above, you can have the preorder visit the nodes in the reverse order of the postorder traversal."
   ]
  },
  {
   "cell_type": "markdown",
   "metadata": {},
   "source": [
    "R-8.24 Answer the previous question for the case when T is a proper binary tree with more than one node."
   ]
  },
  {
   "cell_type": "markdown",
   "metadata": {},
   "source": [
    "If T is a proper binary tree with more than one node, then the minimum tree possible would be:\n",
    "\n",
    "    A\n",
    "   / \\\n",
    "  B   C\n",
    "\n",
    "Preorder Travesal: A B C\n",
    "Postorder Traversal: B C A\n",
    "\n",
    "As shown with the example above, which is the minimum tree T that meets the criteria, it is not possible for the preorder and postorder to return the same result or one to be the reversed result of the other."
   ]
  },
  {
   "cell_type": "markdown",
   "metadata": {},
   "source": [
    "R-8.25 Consider the example of a breadth-first traversal given in Figure 8.17. Using the annotated numbers from that figure, describe the contents of the queue before each pass of the while loop in Code Fragment 8.14. To get started, the queue has contents {1} before the first pass, and contents {2,3,4} before the second pass."
   ]
  },
  {
   "cell_type": "markdown",
   "metadata": {},
   "source": [
    "Pass: 0 Queue: {1}\n",
    "Pass: 1 Queue: {2,3,4}\n",
    "Pass: 2 Queue: {3,4,5,6}\n",
    "Pass: 3 Queue: {4,5,6,7,8,9,10,11}\n",
    "Pass: 4 Queue: {5,6,7,8,9,10,11,12,13,14,15,16}\n",
    "Pass: 5 Queue: {6,7,8,9,10,11,12,13,14,15,16}\n",
    "Pass: 6 Queue: {7,8,9,10,11,12,13,14,15,16}\n",
    "Pass: 7 Queue: {8,9,10,11,12,13,14,15,16}\n",
    "Pass: 8 Queue: {9,10,11,12,13,14,15,16}\n",
    "Pass: 9 Queue: {10,11,12,13,14,15,16}\n",
    "Pass: 10 Queue: {11,12,13,14,15,16}\n",
    "Pass: 11 Queue: {12,13,14,15,16}\n",
    "Pass: 12 Queue: {13,14,15,16}\n",
    "Pass: 13 Queue: {14,15,16}\n",
    "Pass: 14 Queue: {15,16}\n",
    "Pass: 15 Queue: {16}\n",
    "Pass: 16 Queue: {}"
   ]
  },
  {
   "cell_type": "markdown",
   "metadata": {},
   "source": [
    "R-8.26 The collections.deque class supports an extend method that adds a collection of elements to the end of the queue at once. Reimplement the breadthfirst method of the Tree class to take advantage of this feature."
   ]
  },
  {
   "cell_type": "code",
   "execution_count": null,
   "metadata": {},
   "outputs": [],
   "source": [
    "from collections import deque\n",
    "from data_structures.trees.tree_adt import Tree\n",
    "\n",
    "class BFSTree(Tree):\n",
    "    def breadthfirst(self):\n",
    "        \"\"\"Generate a breadth-first iteration of the positions of the tree\"\"\"\n",
    "        if not self.is_empty():\n",
    "            fringe = deque().append(self.root())\n",
    "            for p in fringe:\n",
    "                yield p\n",
    "                fringe.extend(self.children(p))"
   ]
  },
  {
   "cell_type": "markdown",
   "metadata": {},
   "source": [
    "R-8.27 Give the output of the function parenthesize(T, T.root()), as described in Code Fragment 8.25, when T is the tree of Figure 8.8."
   ]
  },
  {
   "cell_type": "code",
   "execution_count": null,
   "metadata": {},
   "outputs": [],
   "source": []
  },
  {
   "cell_type": "markdown",
   "metadata": {},
   "source": [
    "R-8.28 What is the running time of parenthesize(T, T.root()), as given in Code Fragment 8.25, for a tree T with n nodes?"
   ]
  },
  {
   "cell_type": "markdown",
   "metadata": {},
   "source": []
  },
  {
   "cell_type": "markdown",
   "metadata": {},
   "source": [
    "R-8.29 Describe, in pseudo-code, an algorithm for computing the number of descendants of each node of a binary tree. The algorithm should be based on the Euler tour traversal."
   ]
  },
  {
   "cell_type": "markdown",
   "metadata": {},
   "source": []
  },
  {
   "cell_type": "markdown",
   "metadata": {},
   "source": [
    "R-8.30 The build expression tree method of the ExpressionTree class requires input that is an iterable of string tokens. We used a convenient example, (((3+1)x4)/((9-5)+2)) , in which each character is its own token, so that the string itself sufficed as input to build expression tree. In general, a string, such as (35 + 14) , must be explicitly tokenized into list [ ( , 35 , + , 14 , ) ] so as to ignore whitespace and to recognize multidigit numbers as a single token. Write a utility method, tokenize(raw), that returns such a list of tokens for a raw string."
   ]
  },
  {
   "cell_type": "code",
   "execution_count": null,
   "metadata": {},
   "outputs": [],
   "source": []
  }
 ],
 "metadata": {
  "kernelspec": {
   "display_name": "Python 3",
   "language": "python",
   "name": "python3"
  },
  "language_info": {
   "codemirror_mode": {
    "name": "ipython",
    "version": 3
   },
   "file_extension": ".py",
   "mimetype": "text/x-python",
   "name": "python",
   "nbconvert_exporter": "python",
   "pygments_lexer": "ipython3",
   "version": "3.12.1"
  }
 },
 "nbformat": 4,
 "nbformat_minor": 2
}
