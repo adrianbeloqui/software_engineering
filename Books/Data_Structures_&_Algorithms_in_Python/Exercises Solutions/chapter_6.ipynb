{
 "cells": [
  {
   "cell_type": "markdown",
   "metadata": {},
   "source": [
    "# Reinforcement"
   ]
  },
  {
   "cell_type": "markdown",
   "metadata": {},
   "source": [
    "R-6.1 What values are returned during the following series of stack operations, if executed upon an initially empty stack? push(5), push(3), pop(), push(2), push(8), pop(), pop(), push(9), push(1), pop(), push(7), push(6), pop(), pop(), push(4), pop(), pop()."
   ]
  },
  {
   "cell_type": "markdown",
   "metadata": {},
   "source": [
    "| Operation | Result  | Returned  |\n",
    "|---|---|---|\n",
    "| push(5)  | [5] | |\n",
    "| push(3)  | [5,3]  |\n",
    "| pop()  | [5]  | 3 |\n",
    "| push(2)  | [5,2]  | |\n",
    "| push(8)  | [5,2,8]  | |\n",
    "| pop()  | [5,2]  | 8 |\n",
    "| pop()  | [5]  | 2 |\n",
    "| push(9)  | [5,9]  | |\n",
    "| push(1)  | [5,9,1]  | |\n",
    "| pop()  | [5,9]  | 1 |\n",
    "| push(7)  | [5,9,7]  | |\n",
    "| push(6)  | [5,9,7,6]  | |\n",
    "| pop()  | [5,9,7]  | 6 |\n",
    "| pop()  | [5,9]  | 7 |\n",
    "| push(4)  | [5,9,4]  | |\n",
    "| pop()  | [5,9]  | 4 |\n",
    "| pop()  | [5]  | 9 |"
   ]
  },
  {
   "cell_type": "markdown",
   "metadata": {},
   "source": [
    "R-6.2 Suppose an initially empty stack S has executed a total of 25 push operations, 12 top operations, and 10 pop operations, 3 of which raised Empty errors that were caught and ignored. What is the current size of S?"
   ]
  },
  {
   "cell_type": "markdown",
   "metadata": {
    "vscode": {
     "languageId": "plaintext"
    }
   },
   "source": [
    "After 25 push operations, the size of S is 25. After the 12 top operations the size of S is still 25 because top only returns a reference to the top object of the stack. After the 10 pop operations, the size of S is 15. \n",
    "\n",
    "Given that the number of operations accordingly to the problem might not have happened in order, that might be the reason for the 3 riased Empty errors, so that means that 3 attempts to pop operation didn't actually remove anything.\n",
    "\n",
    "Therefore, the final size of S is 15 + 3 = 18."
   ]
  },
  {
   "cell_type": "markdown",
   "metadata": {},
   "source": [
    "R-6.3 Implement a function with signature transfer(S, T) that transfers all elements from stack S onto stack T, so that the element that starts at the top of S is the first to be inserted onto T, and the element at the bottom of S ends up at the top of T."
   ]
  },
  {
   "cell_type": "code",
   "execution_count": 9,
   "metadata": {},
   "outputs": [
    {
     "name": "stdout",
     "output_type": "stream",
     "text": [
      "Original Stack [0, 1, 2, 3, 4, 5, 6, 7, 8, 9]\n",
      "Transfered stack [9, 8, 7, 6, 5, 4, 3, 2, 1, 0]\n"
     ]
    }
   ],
   "source": [
    "class ArrayStack:\n",
    "    def __init__(self):\n",
    "        self._data = []\n",
    "        \n",
    "    def __repr__(self) -> str:\n",
    "        return str(self._data)\n",
    "\n",
    "    def __len__(self):\n",
    "        return len(self._data)\n",
    "\n",
    "    def is_empty(self):\n",
    "        return len(self._data) == 0\n",
    "\n",
    "    def push(self, e):\n",
    "        self._data.append(e)\n",
    "\n",
    "    def top(self):\n",
    "        if self.is_empty():\n",
    "            raise Exception(\"Stack is empty\")\n",
    "        return self. data[-1]\n",
    "\n",
    "    def pop(self):\n",
    "        if self.is_empty():\n",
    "            raise Exception(\"Stack is empty\")\n",
    "        return self._data.pop( ) \n",
    "\n",
    "def transfer(S, T):\n",
    "    while not S.is_empty():\n",
    "        T.push(S.pop())\n",
    "\n",
    "stackS = ArrayStack()\n",
    "[stackS.push(i) for i in range(10)]\n",
    "print(\"Original Stack\", stackS)\n",
    "stackT = ArrayStack()\n",
    "transfer(stackS, stackT)\n",
    "print(\"Transfered stack\", stackT)"
   ]
  },
  {
   "cell_type": "markdown",
   "metadata": {},
   "source": [
    "R-6.4 Give a recursive method for removing all the elements from a stack."
   ]
  },
  {
   "cell_type": "code",
   "execution_count": 4,
   "metadata": {},
   "outputs": [
    {
     "data": {
      "text/plain": [
       "[]"
      ]
     },
     "execution_count": 4,
     "metadata": {},
     "output_type": "execute_result"
    }
   ],
   "source": [
    "def empty_stack(S: ArrayStack):\n",
    "    if S.is_empty():\n",
    "        return S\n",
    "    S.pop()\n",
    "    return empty_stack(S)\n",
    "\n",
    "stackS = ArrayStack()\n",
    "[stackS.push(i) for i in range(10)]\n",
    "empty_stack(stackS)"
   ]
  },
  {
   "cell_type": "markdown",
   "metadata": {},
   "source": [
    "R-6.5 Implement a function that reverses a list of elements by pushing them onto a stack in one order, and writing them back to the list in reversed order."
   ]
  },
  {
   "cell_type": "code",
   "execution_count": 7,
   "metadata": {},
   "outputs": [
    {
     "name": "stdout",
     "output_type": "stream",
     "text": [
      "[9, 8, 7, 6, 5, 4, 3, 2, 1, 0]\n"
     ]
    }
   ],
   "source": [
    "def reverse(L: list):\n",
    "    S = ArrayStack()\n",
    "    for e in L:\n",
    "        S.push(e)\n",
    "    for i in range(len(L)):\n",
    "        L[i] = S.pop()\n",
    "    return L\n",
    "\n",
    "print(reverse([i for i in range(10)]))"
   ]
  },
  {
   "cell_type": "markdown",
   "metadata": {},
   "source": [
    "R-6.6 Give a precise and complete definition of the concept of matching for grouping symbols in an arithmetic expression. Your definition may be recursive."
   ]
  },
  {
   "cell_type": "code",
   "execution_count": 3,
   "metadata": {},
   "outputs": [
    {
     "name": "stdout",
     "output_type": "stream",
     "text": [
      "True\n",
      "True\n",
      "False\n",
      "False\n"
     ]
    }
   ],
   "source": [
    "# I am not sure what the question is asking here. So I am going to implement my own recursive solution based on the logic in Code Fragment 6.4\n",
    "\n",
    "def is_vaild_expr(expr:str, S: ArrayStack = None, i=0) -> bool:\n",
    "    if i >= len(expr):\n",
    "        return S.is_empty()\n",
    "    \n",
    "    lefty = '[({'\n",
    "    righty = '])}'\n",
    "    if S is None:\n",
    "        S = ArrayStack()\n",
    "\n",
    "    character = expr[i]\n",
    "    if character in lefty:\n",
    "        S.push(character)\n",
    "    elif character in righty:\n",
    "        if S.is_empty():\n",
    "            return False\n",
    "        if righty.index(character) != lefty.index(S.pop()):\n",
    "            return False\n",
    "    return is_vaild_expr(expr, S, i+1)\n",
    "\n",
    "TESTS = [\n",
    "    '1+2+3+4+5',\n",
    "    '2*(2+3)',\n",
    "    ')2+3()',\n",
    "    '{12}+3]'\n",
    "]\n",
    "for t in TESTS:\n",
    "    print(is_vaild_expr(t))\n",
    "        "
   ]
  },
  {
   "cell_type": "markdown",
   "metadata": {},
   "source": [
    "R-6.7 What values are returned during the following sequence of queue operations, if executed on an initially empty queue? enqueue(5), enqueue(3), dequeue(), enqueue(2), enqueue(8), dequeue(), dequeue(), enqueue(9), enqueue(1), dequeue(), enqueue(7), enqueue(6), dequeue(), dequeue(), enqueue(4), dequeue(), dequeue()."
   ]
  },
  {
   "cell_type": "markdown",
   "metadata": {},
   "source": [
    "| Operation | Result  | Returned  |\n",
    "|---|---|---|\n",
    "| enqueue(5)  | [5] |.  |\n",
    "| enqueue(3)  | [5,3]  |.  |\n",
    "| dequeue()  | [3]  | 5  |\n",
    "| enqueue(2)  | [3,2]  |.  |\n",
    "| enqueue(8)  | [3,2,8]  |.  |\n",
    "| dequeue()  | [2,8]  | 3  |\n",
    "| dequeue()  | [8]  | 2  |\n",
    "| enqueue(9)  | [8,9]  |.  |\n",
    "| enqueue(1)  | [8,9,1]  |.  |\n",
    "|  dequeue()  | [9,1]  | 8  |\n",
    "| enqueue(7)  | [9,1,7]  |.  |\n",
    "| enqueue(6)  | [9,1,7,6]  |.  |\n",
    "|  dequeue()  | [1,7,6]  | 9  |\n",
    "|  dequeue()  | [7,6]  | 1  |\n",
    "| enqueue(4)  | [7,6,4]  |.  |\n",
    "| dequeue()  | [6,4]  | 7  |\n",
    "| dequeue()  | [4]  | 6  |\n",
    "\n",
    "Result: 5, 3, 2, 8, 9, 1, 7, 6"
   ]
  },
  {
   "cell_type": "markdown",
   "metadata": {},
   "source": [
    "R-6.8 Suppose an initially empty queue Q has executed a total of 32 enqueue operations, 10 first operations, and 15 dequeue operations, 5 of which raised Empty errors that were caught and ignored. What is the current size of Q?"
   ]
  },
  {
   "cell_type": "markdown",
   "metadata": {},
   "source": [
    "32 enqueue operations => size is 32\n",
    "10 first operations => size is 32\n",
    "15 dequeue operations minus 5 Empty errors => size is 32 - 10 = 22"
   ]
  },
  {
   "cell_type": "markdown",
   "metadata": {},
   "source": [
    "R-6.9 Had the queue of the previous problem been an instance of ArrayQueue that used an initial array of capacity 30, and had its size never been greater than 30, what would be the final value of the front instance variable?"
   ]
  },
  {
   "cell_type": "markdown",
   "metadata": {},
   "source": [
    "The front instance variable would point to the index 10 on the underlying array."
   ]
  },
  {
   "cell_type": "markdown",
   "metadata": {},
   "source": [
    "R-6.10 Consider what happens if the loop in the ArrayQueue._resize method at lines 53–55 of Code Fragment 6.7 had been implemented as:\n",
    "\n",
    "```Python\n",
    "for k in range(self._size):\n",
    "    self._data[k] = old[k] # rather than old[walk]\n",
    "```\n",
    "\n",
    "Give a clear explanation of what could go wrong."
   ]
  },
  {
   "cell_type": "markdown",
   "metadata": {},
   "source": [
    "In the code block above, the iteration would start from 0 always, which isn't necessarily where the front of the queue is in the underlying array of the implementation of ArrayQueue. Therefore, the code above would be setting the front of the new array as an empty value, or a totally random value in the queue, if the front doesn't happen to be 0 in the old array."
   ]
  },
  {
   "cell_type": "markdown",
   "metadata": {},
   "source": [
    "R-6.11 Give a simple adapter that implements our queue ADT while using a collections.deque instance for storage"
   ]
  },
  {
   "cell_type": "code",
   "execution_count": 5,
   "metadata": {},
   "outputs": [
    {
     "name": "stdout",
     "output_type": "stream",
     "text": [
      "Queue: 1,2\n",
      "Dequeued: 1\n",
      "First: 2\n",
      "Queue: 2,10,11,12,13,14,15,16,17,18,19,20,21,22,23,24\n",
      "First: 2\n",
      "Length: 16\n"
     ]
    }
   ],
   "source": [
    "from collections import deque\n",
    "\n",
    "\"\"\"\n",
    "Queue ADT:\n",
    "\n",
    "enqueue\n",
    "dequeue\n",
    "first\n",
    "is_empty\n",
    "len(Q)\n",
    "\"\"\"\n",
    "\n",
    "class QueueADT:\n",
    "    def __init__(self):\n",
    "        self._data = deque()\n",
    "        \n",
    "    def __repr__(self) -> str:\n",
    "        return ','.join(str(x) for x in self._data)\n",
    "    \n",
    "    def __len__(self):\n",
    "        return len(self._data)\n",
    "    \n",
    "    def is_empty(self):\n",
    "        return len(self._data) == 0\n",
    "    \n",
    "    def enqueue(self, e):\n",
    "        self._data.append(e)\n",
    "    \n",
    "    def dequeue(self):\n",
    "        if self.is_empty():\n",
    "            raise Exception(\"Deque is empty\")\n",
    "        return self._data.popleft()\n",
    "    \n",
    "    def first(self):\n",
    "        if self.is_empty():\n",
    "            raise Exception(\"Deque is empty\")\n",
    "        return self._data[0]\n",
    "    \n",
    "d = QueueADT()\n",
    "d.enqueue(1)\n",
    "d.enqueue(2)\n",
    "print(\"Queue:\", d)\n",
    "print(\"Dequeued:\", d.dequeue())\n",
    "print(\"First:\", d.first())\n",
    "[d.enqueue(i) for i in range(10, 25)]\n",
    "print(\"Queue:\", d)\n",
    "print(\"First:\", d.first())\n",
    "print(\"Length:\", len(d))\n",
    "    "
   ]
  },
  {
   "cell_type": "markdown",
   "metadata": {},
   "source": [
    "R-6.12 What values are returned during the following sequence of deque ADT operations, on initially empty deque? add_first(4), add_last(8), add_last(9), add_first(5), back(), delete_first(), delete_last(), add_last(7), first(), last(), add_last(6), delete_first(), delete_first()."
   ]
  },
  {
   "cell_type": "markdown",
   "metadata": {},
   "source": [
    "| Operation | Result  | Returned  |\n",
    "|---|---|---|\n",
    "| add_first(4) | [4] |  |\n",
    "| add_last(8) | [4,8] |  |\n",
    "| add_last(9) | [4,8,9] |  |\n",
    "| add_first(5) | [5,4,8,9] |  |\n",
    "| back() |  | 9 | (this is an error on the book, guessing they meant `last()` based on the solutions of the book)\n",
    "| delete_first() | [4,8,9] | 5 |\n",
    "| delete_last() | [4,8] | 9 |\n",
    "| add_last(7) | [4,8,7] |  |\n",
    "| first() |  | 4 |\n",
    "| last() |  | 7 |\n",
    "| add_last(6) | [4,8,7,6] |  |\n",
    "| delete_first() | [8,7,6] | 4 |\n",
    "| delete_first() | [7,6] | 8 |\n",
    "\n",
    "Returned: 9, 5, 9, 4, 7, 4, 8"
   ]
  },
  {
   "cell_type": "markdown",
   "metadata": {},
   "source": [
    "R-6.13 Suppose you have a deque D containing the numbers (1,2,3,4,5,6,7,8), in this order. Suppose further that you have an initially empty queue Q. Give a code fragment that uses only D and Q (and no other variables) and results in D storing the elements in the order (1,2,3,5,4,6,7,8)."
   ]
  },
  {
   "cell_type": "code",
   "execution_count": 7,
   "metadata": {},
   "outputs": [
    {
     "name": "stdout",
     "output_type": "stream",
     "text": [
      "Initial dequeue: deque([1, 2, 3, 4, 5, 6, 7, 8])\n",
      "Final dequeue: deque([1, 2, 3, 5, 4, 6, 7, 8])\n"
     ]
    }
   ],
   "source": [
    "from collections import deque\n",
    "\n",
    "D = deque([x for x in range(1,9)])\n",
    "Q = QueueADT()\n",
    "\n",
    "print(\"Initial dequeue:\", D)\n",
    "\n",
    "1,2,3,4,5,6,7,8 # D\n",
    "6,7,8,1,2,3,4,5 # D\n",
    "5,4 #Q\n",
    "1,2,3,5,4,6,7,8 #D\n",
    "\n",
    "D.appendleft(D.pop())\n",
    "D.appendleft(D.pop())\n",
    "D.appendleft(D.pop())\n",
    "Q.enqueue(D.pop())\n",
    "Q.enqueue(D.pop())\n",
    "D.append(Q.dequeue())\n",
    "D.append(Q.dequeue())\n",
    "D.append(D.popleft())\n",
    "D.append(D.popleft())\n",
    "D.append(D.popleft())\n",
    "\n",
    "print(\"Final dequeue:\", D)\n",
    "\n",
    "\n"
   ]
  },
  {
   "cell_type": "markdown",
   "metadata": {},
   "source": [
    "R-6.14 Repeat the previous problem using the deque D and an initially empty stack S."
   ]
  },
  {
   "cell_type": "code",
   "execution_count": 10,
   "metadata": {},
   "outputs": [
    {
     "name": "stdout",
     "output_type": "stream",
     "text": [
      "Initial dequeue: deque([1, 2, 3, 4, 5, 6, 7, 8])\n",
      "Final dequeue: deque([1, 2, 3, 5, 4, 6, 7, 8])\n"
     ]
    }
   ],
   "source": [
    "from collections import deque\n",
    "\n",
    "D = deque([x for x in range(1,9)])\n",
    "S = ArrayStack()\n",
    "\n",
    "print(\"Initial dequeue:\", D)\n",
    "\n",
    "#        Q                  S\n",
    "# [1,2,3,4,5,6,7,8]         []\n",
    "# [4,5,6,7,8,1,2,3]         []\n",
    "# [6,7,8,1,2,3]            [4,5]\n",
    "# [6,7,8,1,2,3,5,4]         []\n",
    "# [1,2,3,5,4,6,7,8]         []\n",
    "\n",
    "for i in range(5):\n",
    "    D.appendleft(D.pop())\n",
    "for i in range(2):\n",
    "    S.push(D.popleft())\n",
    "for i in range(2):\n",
    "    D.append(S.pop())\n",
    "for i in range(3):\n",
    "    D.append(D.popleft())\n",
    "\n",
    "print(\"Final dequeue:\", D)"
   ]
  }
 ],
 "metadata": {
  "kernelspec": {
   "display_name": "Python 3",
   "language": "python",
   "name": "python3"
  },
  "language_info": {
   "codemirror_mode": {
    "name": "ipython",
    "version": 3
   },
   "file_extension": ".py",
   "mimetype": "text/x-python",
   "name": "python",
   "nbconvert_exporter": "python",
   "pygments_lexer": "ipython3",
   "version": "3.10.13"
  }
 },
 "nbformat": 4,
 "nbformat_minor": 2
}
