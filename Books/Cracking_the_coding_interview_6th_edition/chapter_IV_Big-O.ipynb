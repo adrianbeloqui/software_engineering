{
 "cells": [
  {
   "cell_type": "markdown",
   "metadata": {},
   "source": [
    "# Chapter IV - Big O\n",
    "\n",
    "### VI.1 - Solution\n",
    "\n",
    "O(n)\n",
    "\n",
    "### VI.2 - Solution\n",
    "\n",
    "O(n)\n",
    "\n",
    "### VI.3 - Solution\n",
    "\n",
    "O(1)\n",
    "\n",
    "### VI.4 - Solution\n",
    "\n",
    "O(a/b)\n",
    "\n",
    "### VI.5 - Solution\n",
    "\n",
    "O(log n)\n",
    "\n",
    "### VI.6 - Solution\n",
    "\n",
    "O(sqrt(n))\n",
    "\n",
    "### VI.7 - Solution\n",
    "\n",
    "O(depth * branches) ?\n",
    "\n",
    "### VI.8 - Solution\n",
    "\n",
    "O(n)\n",
    "\n",
    "### VI.9 - Solution\n",
    "\n",
    "O(n^2)\n",
    "\n",
    "### VI.10 - Solution\n",
    "\n",
    "O(log base 10 of n)\n"
   ]
  },
  {
   "cell_type": "code",
   "execution_count": null,
   "metadata": {},
   "outputs": [],
   "source": [
    "### VI.11\n",
    "num_chars = 26\n",
    "\n",
    "def print_sorted_strings(remaining: int):\n",
    "    generate_sorted_strings(remaining, \"\")\n",
    "\n",
    "def generate_sorted_strings(remaining: int, prefix: str):\n",
    "    if remaining == 0:\n",
    "        if is_in_order(prefix):\n",
    "            print(prefix)\n",
    "    else:\n",
    "        for i in range(num_chars):\n",
    "            c = ith_letter(i)\n",
    "            generate_sorted_strings(remaining - 1, prefix + c)\n",
    "\n",
    "def is_in_order(s: str):\n",
    "    for i in range(1, len(s)):\n",
    "        # prev = ith_letter(ord(s[i-1]))\n",
    "        # curr = ith_letter(ord(s[i]))\n",
    "        prev = ord(s[i-1])\n",
    "        curr = ord(s[i])\n",
    "        if prev > curr:\n",
    "            return False\n",
    "    return True\n",
    "\n",
    "def ith_letter(i: int):\n",
    "    return chr(ord('a') + i)\n",
    "\n",
    "\n",
    "print_sorted_strings(2)"
   ]
  },
  {
   "cell_type": "markdown",
   "metadata": {},
   "source": [
    "### VI.11 - Solution\n",
    "\n",
    "O(k c^k) where k is the lenght of the string to be generated and c is the number of characters in the alphabet\n",
    "\n",
    "### VI.12 - Solution\n",
    "\n",
    "O(b log b + a log b)"
   ]
  }
 ],
 "metadata": {
  "kernelspec": {
   "display_name": "Python 3",
   "language": "python",
   "name": "python3"
  },
  "language_info": {
   "codemirror_mode": {
    "name": "ipython",
    "version": 3
   },
   "file_extension": ".py",
   "mimetype": "text/x-python",
   "name": "python",
   "nbconvert_exporter": "python",
   "pygments_lexer": "ipython3",
   "version": "3.10.13"
  }
 },
 "nbformat": 4,
 "nbformat_minor": 2
}
