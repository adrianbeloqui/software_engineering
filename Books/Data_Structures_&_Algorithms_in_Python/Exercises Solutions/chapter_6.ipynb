{
 "cells": [
  {
   "cell_type": "markdown",
   "metadata": {},
   "source": [
    "# Reinforcement"
   ]
  },
  {
   "cell_type": "markdown",
   "metadata": {},
   "source": [
    "R-6.1 What values are returned during the following series of stack operations, if executed upon an initially empty stack? push(5), push(3), pop(), push(2), push(8), pop(), pop(), push(9), push(1), pop(), push(7), push(6), pop(), pop(), push(4), pop(), pop()."
   ]
  },
  {
   "cell_type": "markdown",
   "metadata": {},
   "source": [
    "| Operation | Result  | Returned  |\n",
    "|---|---|---|\n",
    "| push(5)  | [5] | |\n",
    "| push(3)  | [5,3]  |\n",
    "| pop()  | [5]  | 3 |\n",
    "| push(2)  | [5,2]  | |\n",
    "| push(8)  | [5,2,8]  | |\n",
    "| pop()  | [5,2]  | 8 |\n",
    "| pop()  | [5]  | 2 |\n",
    "| push(9)  | [5,9]  | |\n",
    "| push(1)  | [5,9,1]  | |\n",
    "| pop()  | [5,9]  | 1 |\n",
    "| push(7)  | [5,9,7]  | |\n",
    "| push(6)  | [5,9,7,6]  | |\n",
    "| pop()  | [5,9,7]  | 6 |\n",
    "| pop()  | [5,9]  | 7 |\n",
    "| push(4)  | [5,9,4]  | |\n",
    "| pop()  | [5,9]  | 4 |\n",
    "| pop()  | [5]  | 9 |"
   ]
  },
  {
   "cell_type": "markdown",
   "metadata": {},
   "source": [
    "R-6.2 Suppose an initially empty stack S has executed a total of 25 push operations, 12 top operations, and 10 pop operations, 3 of which raised Empty errors that were caught and ignored. What is the current size of S?"
   ]
  },
  {
   "cell_type": "markdown",
   "metadata": {
    "vscode": {
     "languageId": "plaintext"
    }
   },
   "source": [
    "After 25 push operations, the size of S is 25. After the 12 top operations the size of S is still 25 because top only returns a reference to the top object of the stack. After the 10 pop operations, the size of S is 15. \n",
    "\n",
    "Given that the number of operations accordingly to the problem might not have happened in order, that might be the reason for the 3 riased Empty errors, so that means that 3 attempts to pop operation didn't actually remove anything.\n",
    "\n",
    "Therefore, the final size of S is 15 + 3 = 18."
   ]
  },
  {
   "cell_type": "markdown",
   "metadata": {},
   "source": [
    "R-6.3 Implement a function with signature transfer(S, T) that transfers all elements from stack S onto stack T, so that the element that starts at the top of S is the first to be inserted onto T, and the element at the bottom of S ends up at the top of T."
   ]
  },
  {
   "cell_type": "code",
   "execution_count": null,
   "metadata": {
    "vscode": {
     "languageId": "plaintext"
    }
   },
   "outputs": [],
   "source": []
  },
  {
   "cell_type": "markdown",
   "metadata": {},
   "source": []
  }
 ],
 "metadata": {
  "language_info": {
   "name": "python"
  }
 },
 "nbformat": 4,
 "nbformat_minor": 2
}
