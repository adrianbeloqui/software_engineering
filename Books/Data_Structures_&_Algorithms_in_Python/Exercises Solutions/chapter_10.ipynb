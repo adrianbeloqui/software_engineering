{
 "cells": [
  {
   "cell_type": "markdown",
   "id": "1e2996c0",
   "metadata": {},
   "source": [
    "# Reinforcement"
   ]
  },
  {
   "cell_type": "code",
   "execution_count": null,
   "id": "ffe9ca41",
   "metadata": {},
   "outputs": [],
   "source": [
    "# Import data structures folder\n",
    "import sys\n",
    "import os\n",
    "\n",
    "# Go to root software_engineering\n",
    "module_path = os.path.abspath(os.path.join('../../..'))\n",
    "if module_path not in sys.path:\n",
    "    sys.path.append(module_path)"
   ]
  },
  {
   "cell_type": "markdown",
   "id": "b4b6ef19",
   "metadata": {},
   "source": [
    "R-10.1 Give a concrete implementation of the pop method in the context of the MutableMapping class, relying only on the five primary abstract methods of that class."
   ]
  },
  {
   "cell_type": "code",
   "execution_count": null,
   "id": "ed7012cb",
   "metadata": {},
   "outputs": [],
   "source": [
    "from collections import MutableMapping\n",
    "\n",
    "class PopMutableMap(MutableMapping):\n",
    "\n",
    "    def pop(self, key, default=None):\n",
    "        try:\n",
    "            value = self[key]\n",
    "            del self[key]\n",
    "            return value\n",
    "        except KeyError:\n",
    "            if default is not None:\n",
    "                return default\n",
    "            raise KeyError('key not found')"
   ]
  },
  {
   "cell_type": "markdown",
   "id": "2b8ca306",
   "metadata": {},
   "source": [
    "R-10.2 Give a concrete implementation of the items() method in the context of the MutableMapping class, relying only on the five primary abstract methods of that class. What would its running time be if directly applied to the UnsortedTableMap subclass?"
   ]
  },
  {
   "cell_type": "code",
   "execution_count": null,
   "id": "a11f8235",
   "metadata": {},
   "outputs": [],
   "source": [
    "from collections import MutableMapping\n",
    "\n",
    "class ItemsMutableMap(MutableMapping):\n",
    "\n",
    "    def items(self):\n",
    "        for k in iter(self):\n",
    "            yield (k, self[k])\n",
    "\n",
    "\"\"\"\n",
    "If applied to UnsortedTableMap the running time would be O(n^2) because each iteration of the items() loop would do a search of the key in the internal array of UnsortedTableMap O(n * n) = O(n^2)\n",
    "\"\"\""
   ]
  },
  {
   "cell_type": "markdown",
   "id": "a770bec5",
   "metadata": {},
   "source": [
    "R-10.3 Give a concrete implementation of the items() method directly within the UnsortedTableMap class, ensuring that the entire iteration runs in O(n) time."
   ]
  },
  {
   "cell_type": "code",
   "execution_count": null,
   "id": "fdfb5445",
   "metadata": {},
   "outputs": [],
   "source": [
    "from data_structures.maps.unsorted_table_map import UnsortedTableMap\n",
    "\n",
    "class ItemsUnsortedTableMap(UnsortedTableMap):\n",
    "\n",
    "    def items(self):\n",
    "        for item in self._table:\n",
    "            yield (item._key, item._value)"
   ]
  },
  {
   "cell_type": "markdown",
   "id": "a3de990d",
   "metadata": {},
   "source": [
    "R-10.4 What is the worst-case running time for inserting n key-value pairs into an initially empty map M that is implemented with the UnsortedTableMap class?"
   ]
  },
  {
   "cell_type": "markdown",
   "id": "dfdcdea2",
   "metadata": {},
   "source": [
    "The worst-case running time for inserting `n` key-value pairs into an initially empty map M that is implemented with the UnsortedTableMap class is when all the items added have distinct keys, which would result in a O(n^2) worst-case running time because before each insertion a O(n) search is done in the internal array to try to find an existing key."
   ]
  }
 ],
 "metadata": {
  "language_info": {
   "name": "python"
  }
 },
 "nbformat": 4,
 "nbformat_minor": 5
}
