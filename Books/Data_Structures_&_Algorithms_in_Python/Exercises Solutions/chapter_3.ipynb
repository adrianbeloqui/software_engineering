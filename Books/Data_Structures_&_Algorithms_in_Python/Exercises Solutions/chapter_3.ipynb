{
 "cells": [
  {
   "cell_type": "markdown",
   "metadata": {},
   "source": [
    "> Skipping Chapter 3 exercises for now. I have the basic understanding of Big-O and might not need a deep dive for interview purposes"
   ]
  }
 ],
 "metadata": {
  "language_info": {
   "name": "python"
  }
 },
 "nbformat": 4,
 "nbformat_minor": 2
}
