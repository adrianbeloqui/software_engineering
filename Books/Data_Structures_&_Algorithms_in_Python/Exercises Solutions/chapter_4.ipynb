{
 "cells": [
  {
   "cell_type": "markdown",
   "metadata": {},
   "source": [
    "# Reinforcement"
   ]
  },
  {
   "cell_type": "markdown",
   "metadata": {},
   "source": [
    "R-4.1 Describe a recursive algorithm for finding the maximum element in a sequence, S, of n elements. What is your running time and space usage?"
   ]
  },
  {
   "cell_type": "code",
   "execution_count": 10,
   "metadata": {},
   "outputs": [
    {
     "name": "stdout",
     "output_type": "stream",
     "text": [
      "356\n",
      "-1\n",
      "2\n"
     ]
    }
   ],
   "source": [
    "# time: O(2^logn) = O(n)\n",
    "# space: O(log n)\n",
    "def find_max(S, max, start, stop):\n",
    "    if start > stop - 1:\n",
    "        return -1\n",
    "    elif start == stop - 1:\n",
    "        return S[start]\n",
    "    mid = (start + stop) // 2\n",
    "    left_max = find_max(S, max, start, mid)\n",
    "    right_max = find_max(S, max, mid, stop)\n",
    "    return left_max if left_max > right_max else right_max\n",
    "\n",
    "S = [100,1,34,323,23,12,356, 10]\n",
    "print(find_max(S, -1, 0, len(S)))\n",
    "print(find_max([], -1, 0, 0))\n",
    "print(find_max([2], -1, 0, 1))\n"
   ]
  },
  {
   "cell_type": "markdown",
   "metadata": {},
   "source": [
    "R-4.2 Draw the recursion trace for the computation of power(2,5), using the traditional function implemented in Code Fragment 4.11.\n",
    "\n",
    "```\n",
    "power(2,5) - 2 * power(2,4) = 2 * 16 => returns 32\n",
    "    |\n",
    "    power(2,4) - 2 * power(2,3) = 2 * 8 => returns 16\n",
    "        |\n",
    "        power(2,3) - 2 * power(2,2) = 2 * 4 => returns 8\n",
    "            |\n",
    "            power(2,2) - 2 * power(2,1) = 2 * 2 => returns 4\n",
    "                |\n",
    "                power(2,1) - 2 * power(2,0) = 2 * 1 => returns 2\n",
    "                    |\n",
    "                    power(2,0) - returns 1\n",
    "```"
   ]
  },
  {
   "cell_type": "markdown",
   "metadata": {},
   "source": [
    "R-4.3 Draw the recursion trace for the computation of power(2,18), using the repeated squaring algorithm, as implemented in Code Fragment 4.12.\n",
    "\n",
    "```\n",
    "power(2, 18) - 512 * 512 = 262144 => returns 262144\n",
    "    |\n",
    "    power(2, 9) -    16 * 16 * 2 = 512  => returns 512\n",
    "        |\n",
    "        power(2, 4) -      4 * 4 = 16      => returns 16\n",
    "            |\n",
    "            power(2, 2) -     2 * 2 = 4       => returns 4\n",
    "                |\n",
    "                power(2, 1) -    1 * 1 * 2 = 2   => returns 2\n",
    "                    |\n",
    "                    power(2, 0) -                      returns 1\n",
    "```"
   ]
  },
  {
   "cell_type": "markdown",
   "metadata": {},
   "source": [
    "R-4.4 Draw the recursion trace for the execution of function reverse(S, 0, 5) (Code Fragment 4.10) on S = [4, 3, 6, 2, 6].\n",
    "\n",
    "```\n",
    "reverse(S, 0, 5) - modifies S to [6, 3, 6, 2, 4] => returns None\n",
    "    |\n",
    "    reverse(S, 1, 4) - modifies S to [6, 2, 6, 3, 4] => returns None\n",
    "        |\n",
    "        reverse(S, 2, 3) - fails `start < stop - 1` check => returns None\n",
    "```"
   ]
  },
  {
   "cell_type": "markdown",
   "metadata": {},
   "source": [
    "R-4.5 Draw the recursion trace for the execution of function PuzzleSolve(3,S,U) (Code Fragment 4.14), where S is empty and U = {a,b,c,d}.\n",
    "\n",
    "```\n",
    "PuzzleSolve(3,'',{a,b,c,d})\n",
    "    |\n",
    "    | - PuzzleSolve(2,'a',{b,c,d})\n",
    "            |\n",
    "            | - PuzzleSolve(1,'ab',{c,d}) => 'abc', 'abd'\n",
    "            | - PuzzleSolve(1,'ac',{b,d}) => 'acb', 'acd'\n",
    "            | - PuzzleSolve(1,'ad',{b,c}) => 'adb', 'adc'\n",
    "    |\n",
    "    | - PuzzleSolve(2,'b',{a,c,d})\n",
    "            |\n",
    "            | - PuzzleSolve(1,'ba',{c,d}) => 'bac', 'bad'\n",
    "            | - PuzzleSolve(1,'bc',{a,d}) => 'bca', 'bcd'\n",
    "            | - PuzzleSolve(1,'bd',{a,c}) => 'bda', 'bdc'\n",
    "    |\n",
    "    | - PuzzleSolve(2,'c',{a,b,d})\n",
    "            |\n",
    "            | - PuzzleSolve(1,'ca',{b,d}) => 'cab', 'cad'\n",
    "            | - PuzzleSolve(1,'cb',{a,d}) => 'cba', 'cbd'\n",
    "            | - PuzzleSolve(1,'cd',{a,b}) => 'cda', 'cdb'\n",
    "    |\n",
    "    | - PuzzleSolve(2,'d',{a,b,c})\n",
    "            |\n",
    "            | - PuzzleSolve(1,'da',{b,c}) => 'dab', 'dac'\n",
    "            | - PuzzleSolve(1,'db',{a,c}) => 'dba', 'dbc'\n",
    "            | - PuzzleSolve(1,'dc',{a,b}) => 'dca', 'dcb'\n",
    "```"
   ]
  },
  {
   "cell_type": "markdown",
   "metadata": {},
   "source": [
    "R-4.6 Describe a recursive function for computing the nth Harmonic number, Hn = ∑ from i=1 to n of 1/i."
   ]
  },
  {
   "cell_type": "code",
   "execution_count": 7,
   "metadata": {},
   "outputs": [
    {
     "name": "stdout",
     "output_type": "stream",
     "text": [
      "3.103210678210678\n"
     ]
    }
   ],
   "source": [
    "# time: O(n)\n",
    "# space: O(n)\n",
    "def harmonic_number(n):\n",
    "    if n == 1:\n",
    "        return 1\n",
    "    return 1/n + harmonic_number(n-1)\n",
    "\n",
    "print(harmonic_number(12))"
   ]
  },
  {
   "cell_type": "markdown",
   "metadata": {},
   "source": [
    "R-4.7 Describe a recursive function for converting a string of digits into the integer it represents. For example, '13531' represents the integer 13,531."
   ]
  },
  {
   "cell_type": "code",
   "execution_count": 52,
   "metadata": {},
   "outputs": [
    {
     "name": "stdout",
     "output_type": "stream",
     "text": [
      "135311234312414235413\n",
      "Execution time= 0.000125885009765625\n",
      "135311234312414235413\n",
      "Execution time= 7.891654968261719e-05\n",
      "Is second implementation faster?  True\n"
     ]
    }
   ],
   "source": [
    "import time\n",
    "\n",
    "# time: O(n)\n",
    "# space: O(n)\n",
    "def digit2int(digit, start, end):\n",
    "    if end - 1 < 0:\n",
    "        return 0\n",
    "\n",
    "    n = int(digit[end-1]) * (10**start)\n",
    "    return n + digit2int(digit, start+1, end-1)\n",
    "\n",
    "# time: O(n)\n",
    "# space: O(log n)\n",
    "def digit2int2(digit, length, start, end):\n",
    "    if start == end - 1:\n",
    "        return int(digit[start]) * (10**(length-start-1))\n",
    "    mid = (start + end) // 2\n",
    "\n",
    "    left = digit2int2(digit, length, start, mid)\n",
    "    right = digit2int2(digit, length, mid, end)\n",
    "    return left + right\n",
    "\n",
    "d = '135311234312414235413'\n",
    "start = time.time()\n",
    "print(digit2int(d, 0, len(d)))\n",
    "t1 = time.time() - start\n",
    "print(\"Execution time=\", t1)\n",
    "start = time.time()\n",
    "print(digit2int2(d, len(d), 0, len(d)))\n",
    "t2 = time.time() - start\n",
    "print(\"Execution time=\", t2)\n",
    "print(\"Is second implementation faster? \", t2 < t1)"
   ]
  },
  {
   "cell_type": "markdown",
   "metadata": {},
   "source": [
    "R-4.8 Isabel has an interesting way of summing up the values in a sequence A of n integers, where n is a power of two. She creates a new sequence B of half the size of A and sets B[i] = A[2i]+A[2i+1], for i = 0,1,...,(n/2)−1. If B has size 1, then she outputs B[0]. Otherwise, she replaces A with B, and repeats the process. What is the running time of her algorithm?\n",
    "\n",
    "Answer:\n",
    "\n",
    "First iteration: n/2\n",
    "Second iteration: n/4\n",
    "...\n",
    "Last iteration: 1\n",
    "\n",
    "So, doing the sum of all iterations = n/2 + n/4 + n/8 + ... < n\n",
    "\n",
    "So, time complexity for this algorithm is O(n)"
   ]
  },
  {
   "cell_type": "markdown",
   "metadata": {},
   "source": [
    "# Creativity"
   ]
  },
  {
   "cell_type": "markdown",
   "metadata": {},
   "source": [
    "C-4.9 Write a short recursive Python function that finds the minimum and maximum values in a sequence without using any loops."
   ]
  },
  {
   "cell_type": "code",
   "execution_count": 15,
   "metadata": {},
   "outputs": [
    {
     "name": "stdout",
     "output_type": "stream",
     "text": [
      "Node: 0:8\n",
      "\tNode: 0:4\n",
      "\t\tNode: 0:2\n",
      "\t\t\tLeaf node: 0:1\n",
      "\t\t\tLeaf node: 1:2\n",
      "\t\tNode: 2:4\n",
      "\t\t\tLeaf node: 2:3\n",
      "\t\t\tLeaf node: 3:4\n",
      "\tNode: 4:8\n",
      "\t\tNode: 4:6\n",
      "\t\t\tLeaf node: 4:5\n",
      "\t\t\tLeaf node: 5:6\n",
      "\t\tNode: 6:8\n",
      "\t\t\tLeaf node: 6:7\n",
      "\t\t\tLeaf node: 7:8\n",
      "(2, 578)\n"
     ]
    }
   ],
   "source": [
    "# Time: O(n) because you have n + n/2 + n/8 ... < 2n calls to the minmax function\n",
    "# Space: O(log n)\n",
    "# Print statement and 'tabs' paramenter only meant for demostration purposes\n",
    "def minmax(S, min, max, start, end, tabs):\n",
    "    if start == end - 1:\n",
    "        print('\\t' * tabs + \"Leaf node: {}:{}\".format(start,end))\n",
    "        return (S[start], S[start])\n",
    "    \n",
    "    print('\\t' * tabs + \"Node: {}:{}\".format(start,end))\n",
    "\n",
    "    mid = (start + end) // 2\n",
    "    left_min, left_max = minmax(S, min, max, start, mid, tabs + 1)\n",
    "    right_min, right_max = minmax(S, min, max, mid, end, tabs + 1)\n",
    "    return (\n",
    "        left_min if left_min < right_min else right_min,\n",
    "        left_max if left_max > right_max else right_max\n",
    "    )\n",
    "\n",
    "S = [100, 2, 4, 56, 578, 123, 42, 456]\n",
    "print(minmax(S, 10**10, -1, 0, len(S), 0))"
   ]
  },
  {
   "cell_type": "markdown",
   "metadata": {},
   "source": [
    "C-4.10 Describe a recursive algorithm to compute the integer part of the base-two logarithm of n using only addition and integer division."
   ]
  },
  {
   "cell_type": "code",
   "execution_count": 19,
   "metadata": {},
   "outputs": [
    {
     "name": "stdout",
     "output_type": "stream",
     "text": [
      "1\n"
     ]
    }
   ],
   "source": [
    "def integer_part_log_two(n, result=0):\n",
    "    if n <= 1:\n",
    "        return result\n",
    "    return integer_part_log_two(n//2, result+1)\n",
    "\n",
    "print(integer_part_log_two(2))"
   ]
  },
  {
   "cell_type": "markdown",
   "metadata": {},
   "source": [
    "C-4.11 Describe an efficient recursive function for solving the element uniqueness problem, which runs in time that is at most O(n^2) in the worst case without using sorting."
   ]
  },
  {
   "cell_type": "code",
   "execution_count": 25,
   "metadata": {},
   "outputs": [
    {
     "name": "stdout",
     "output_type": "stream",
     "text": [
      "True\n"
     ]
    }
   ],
   "source": [
    "def uniqueness(S, start, j1, end):\n",
    "    if start >= end - 1:\n",
    "        return True\n",
    "    \n",
    "    if j1 >= end:\n",
    "        return uniqueness(S, start+1, start+2, end)\n",
    "\n",
    "    if S[start] == S[j1]:\n",
    "        return False\n",
    "    \n",
    "    return uniqueness(S, start, j1 + 1, end)\n",
    "\n",
    "S = [20,19,5,8,9,123,243,345,356,67467,3456354,8578,879567,5785,3542,14516356,367,4574,684,854,874,1]\n",
    "print(uniqueness(S, 0, 1, len(S)))"
   ]
  },
  {
   "cell_type": "markdown",
   "metadata": {},
   "source": [
    "C-4.12 Give a recursive algorithm to compute the product of two positive integers, m and n, using only addition and subtraction."
   ]
  },
  {
   "cell_type": "code",
   "execution_count": 1,
   "metadata": {},
   "outputs": [
    {
     "name": "stdout",
     "output_type": "stream",
     "text": [
      "500\n"
     ]
    }
   ],
   "source": [
    "def product(m, n):\n",
    "    if n == 0:\n",
    "        return 0\n",
    "\n",
    "    return m + product(m, n - 1)\n",
    "\n",
    "print(product(5,100))"
   ]
  }
 ],
 "metadata": {
  "kernelspec": {
   "display_name": "Python 3",
   "language": "python",
   "name": "python3"
  },
  "language_info": {
   "codemirror_mode": {
    "name": "ipython",
    "version": 3
   },
   "file_extension": ".py",
   "mimetype": "text/x-python",
   "name": "python",
   "nbconvert_exporter": "python",
   "pygments_lexer": "ipython3",
   "version": "3.10.13"
  }
 },
 "nbformat": 4,
 "nbformat_minor": 2
}
