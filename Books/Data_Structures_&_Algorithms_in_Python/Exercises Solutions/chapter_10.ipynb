{
 "cells": [
  {
   "cell_type": "markdown",
   "id": "1e2996c0",
   "metadata": {},
   "source": [
    "# Reinforcement"
   ]
  },
  {
   "cell_type": "code",
   "execution_count": 1,
   "id": "ffe9ca41",
   "metadata": {},
   "outputs": [],
   "source": [
    "# Import data structures folder\n",
    "import sys\n",
    "import os\n",
    "\n",
    "# Go to root software_engineering\n",
    "module_path = os.path.abspath(os.path.join('../../..'))\n",
    "if module_path not in sys.path:\n",
    "    sys.path.append(module_path)"
   ]
  },
  {
   "cell_type": "markdown",
   "id": "b4b6ef19",
   "metadata": {},
   "source": [
    "R-10.1 Give a concrete implementation of the pop method in the context of the MutableMapping class, relying only on the five primary abstract methods of that class."
   ]
  },
  {
   "cell_type": "code",
   "execution_count": 2,
   "id": "ed7012cb",
   "metadata": {},
   "outputs": [
    {
     "ename": "ImportError",
     "evalue": "cannot import name 'MutableMapping' from 'collections' (/usr/local/python/3.12.1/lib/python3.12/collections/__init__.py)",
     "output_type": "error",
     "traceback": [
      "\u001b[0;31m---------------------------------------------------------------------------\u001b[0m",
      "\u001b[0;31mImportError\u001b[0m                               Traceback (most recent call last)",
      "Cell \u001b[0;32mIn[2], line 1\u001b[0m\n\u001b[0;32m----> 1\u001b[0m \u001b[38;5;28;01mfrom\u001b[39;00m \u001b[38;5;21;01mcollections\u001b[39;00m \u001b[38;5;28;01mimport\u001b[39;00m MutableMapping\n\u001b[1;32m      3\u001b[0m \u001b[38;5;28;01mclass\u001b[39;00m \u001b[38;5;21;01mPopMutableMap\u001b[39;00m(MutableMapping):\n\u001b[1;32m      5\u001b[0m     \u001b[38;5;28;01mdef\u001b[39;00m \u001b[38;5;21mpop\u001b[39m(\u001b[38;5;28mself\u001b[39m, key, default\u001b[38;5;241m=\u001b[39m\u001b[38;5;28;01mNone\u001b[39;00m):\n",
      "\u001b[0;31mImportError\u001b[0m: cannot import name 'MutableMapping' from 'collections' (/usr/local/python/3.12.1/lib/python3.12/collections/__init__.py)"
     ]
    }
   ],
   "source": [
    "from collections import MutableMapping\n",
    "\n",
    "class PopMutableMap(MutableMapping):\n",
    "\n",
    "    def pop(self, key, default=None):\n",
    "        try:\n",
    "            value = self[key]\n",
    "            del self[key]\n",
    "            return value\n",
    "        except KeyError:\n",
    "            if default is not None:\n",
    "                return default\n",
    "            raise KeyError('key not found')"
   ]
  },
  {
   "cell_type": "markdown",
   "id": "2b8ca306",
   "metadata": {},
   "source": [
    "R-10.2 Give a concrete implementation of the items() method in the context of the MutableMapping class, relying only on the five primary abstract methods of that class. What would its running time be if directly applied to the UnsortedTableMap subclass?"
   ]
  },
  {
   "cell_type": "code",
   "execution_count": null,
   "id": "a11f8235",
   "metadata": {},
   "outputs": [],
   "source": [
    "from collections import MutableMapping\n",
    "\n",
    "class ItemsMutableMap(MutableMapping):\n",
    "\n",
    "    def items(self):\n",
    "        for k in iter(self):\n",
    "            yield (k, self[k])\n",
    "\n",
    "\"\"\"\n",
    "If applied to UnsortedTableMap the running time would be O(n^2) because each iteration of the items() loop would do a search of the key in the internal array of UnsortedTableMap O(n * n) = O(n^2)\n",
    "\"\"\""
   ]
  },
  {
   "cell_type": "markdown",
   "id": "a770bec5",
   "metadata": {},
   "source": [
    "R-10.3 Give a concrete implementation of the items() method directly within the UnsortedTableMap class, ensuring that the entire iteration runs in O(n) time."
   ]
  },
  {
   "cell_type": "code",
   "execution_count": null,
   "id": "fdfb5445",
   "metadata": {},
   "outputs": [],
   "source": [
    "from data_structures.maps.unsorted_table_map import UnsortedTableMap\n",
    "\n",
    "class ItemsUnsortedTableMap(UnsortedTableMap):\n",
    "\n",
    "    def items(self):\n",
    "        for item in self._table:\n",
    "            yield (item._key, item._value)"
   ]
  },
  {
   "cell_type": "markdown",
   "id": "a3de990d",
   "metadata": {},
   "source": [
    "R-10.4 What is the worst-case running time for inserting n key-value pairs into an initially empty map M that is implemented with the UnsortedTableMap class?"
   ]
  },
  {
   "cell_type": "markdown",
   "id": "dfdcdea2",
   "metadata": {},
   "source": [
    "The worst-case running time for inserting `n` key-value pairs into an initially empty map M that is implemented with the UnsortedTableMap class is when all the items added have distinct keys, which would result in a O(n^2) worst-case running time because before each insertion a O(n) search is done in the internal array to try to find an existing key."
   ]
  },
  {
   "cell_type": "markdown",
   "id": "1931bd73",
   "metadata": {},
   "source": [
    "R-10.5 Reimplement the UnsortedTableMap class from Section 10.1.5, using the PositionalList class from Section 7.4 rather than a Python list."
   ]
  },
  {
   "cell_type": "code",
   "execution_count": null,
   "id": "14bc4747",
   "metadata": {},
   "outputs": [],
   "source": [
    "from data_structures.maps.map_base import MapBase\n",
    "from data_structures.linked_lists.positional_list import PositionalList\n",
    "\n",
    "\n",
    "class UnsortedTableMap(MapBase):\n",
    "    \"\"\"Map implementation using an unordered list\"\"\"\n",
    "\n",
    "    def __init__(self):\n",
    "        self._table = PositionalList()\n",
    "\n",
    "    def __getitem__(self, k):\n",
    "        \"\"\"Return value associated wiht key k (raise KeyError if not found)\"\"\"\n",
    "        for element in self._table:\n",
    "            if k == element._key:\n",
    "                return element._value\n",
    "        raise KeyError(f\"Key Error: '{repr(k)}'\")\n",
    "    \n",
    "    def __setitem__(self, k, v):\n",
    "        \"\"\"Assign value v to key k, overwriting existing value if present\"\"\"\n",
    "        for element in self._table:\n",
    "            if k == element._key:\n",
    "                element._value = v\n",
    "                return\n",
    "        # did not find match for key\n",
    "        self._table.add_last(self._Item(k,v))\n",
    "\n",
    "    def __delitem__(self, k):\n",
    "        \"\"\"Remove item associated with key k (raise KeyError if not found)\"\"\"\n",
    "        cursor = self._table.first()\n",
    "        while cursor is not None:\n",
    "            if cursor.element()._key == k:\n",
    "                self._table.delete(cursor)\n",
    "                return\n",
    "            else:\n",
    "                cursor = self.after(cursor)\n",
    "        raise KeyError(f\"Key Error: '{repr(k)}'\")\n",
    "\n",
    "    def __len__(self):\n",
    "        \"\"\"Return number of items in the map\"\"\"\n",
    "        return len(self._table)\n",
    "    \n",
    "    def __iter__(self):\n",
    "        \"\"\"Generate iteration of the map's keys\"\"\"\n",
    "        for element in self._table:\n",
    "            yield element._key\n"
   ]
  },
  {
   "cell_type": "markdown",
   "id": "dc0ec9cb",
   "metadata": {},
   "source": [
    "R-10.6 Which of the hash table collision-handling schemes could tolerate a load factor above 1 and which could not?"
   ]
  },
  {
   "cell_type": "markdown",
   "id": "d03e8074",
   "metadata": {},
   "source": [
    "The covered collision-handling schemes are:\n",
    "\n",
    "- Separate Chaining (can tolerate a load factor above 1)\n",
    "- Open Addressing (linear probing, quadratic probing, or double hashing) (cannot tolerate a load factor above 1)"
   ]
  },
  {
   "cell_type": "markdown",
   "id": "ab121c3a",
   "metadata": {},
   "source": [
    "R-10.7 Our Position classes for lists and trees support the `__eq__` method so that two distinct position instances are considered equivalent if they refer to the same underlying node in a structure. For positions to be allowed as keys in a hash table, there must be a definition for the hash method that is consistent with this notion of equivalence. Provide such a `__hash__` method."
   ]
  },
  {
   "cell_type": "code",
   "execution_count": null,
   "id": "a87c1e3c",
   "metadata": {},
   "outputs": [],
   "source": [
    "def __hash__(self):\n",
    "    return hash(self._node)\n",
    "\n",
    "\"\"\"\n",
    "Since we don't know what the `_node` object is going to be, these objects should be implementing their own definition of the hash method.\n",
    "\"\"\""
   ]
  },
  {
   "cell_type": "markdown",
   "id": "66dfa891",
   "metadata": {},
   "source": [
    "R-10.8 What would be a good hash code for a vehicle identification number that is a string of numbers and letters of the form “9X9XX99X9XX999999,” where a “9” represents a digit and an “X” represents a letter?"
   ]
  },
  {
   "cell_type": "markdown",
   "id": "1940ee05",
   "metadata": {},
   "source": [
    "Polynomical hash codes or cyclic shift hash codes"
   ]
  },
  {
   "cell_type": "markdown",
   "id": "b915d7b2",
   "metadata": {},
   "source": [
    "R-10.9 Draw the 11-entry hash table that results from using the hash function, h(i) = (3i + 5) mod 11, to hash the keys 12, 44, 13, 88, 23, 94, 11, 39, 20, 16, and 5, assuming collisions are handled by chaining."
   ]
  },
  {
   "cell_type": "raw",
   "id": "633505d9",
   "metadata": {},
   "source": [
    "0 - 13\n",
    "1 - 94, 39\n",
    "2 - \n",
    "3 - \n",
    "4 - \n",
    "5 - 44, 88, 11\n",
    "6 - \n",
    "7 - \n",
    "8 - 12, 23\n",
    "9 - 16, 5\n",
    "10 - 20"
   ]
  },
  {
   "cell_type": "markdown",
   "id": "78264450",
   "metadata": {},
   "source": [
    "R-10.10 What is the result of the previous exercise, assuming collisions are handled by linear probing?"
   ]
  },
  {
   "cell_type": "raw",
   "id": "7f2411f1",
   "metadata": {},
   "source": [
    "0 - 13\n",
    "1 - 94\n",
    "2 - 39\n",
    "3 - 16\n",
    "4 - 5\n",
    "5 - 44\n",
    "6 - 88\n",
    "7 - 11\n",
    "8 - 12\n",
    "9 - 23\n",
    "10 - 20"
   ]
  },
  {
   "cell_type": "markdown",
   "id": "37f700a4",
   "metadata": {},
   "source": [
    "R-10.11 Show the result of Exercise R-10.9, assuming collisions are handled by quadratic probing, up to the point where the method fails."
   ]
  },
  {
   "cell_type": "raw",
   "id": "649899c5",
   "metadata": {},
   "source": [
    "0 - 13\n",
    "1 - 94\n",
    "2 - 39\n",
    "3 - 11\n",
    "4 - \n",
    "5 - 44\n",
    "6 - 88\n",
    "7 - 16\n",
    "8 - 12\n",
    "9 - 23\n",
    "10 - 20"
   ]
  },
  {
   "cell_type": "markdown",
   "id": "ee75b9b5",
   "metadata": {},
   "source": [
    "R-10.12 What is the result of Exercise R-10.9 when collisions are handled by double hashing using the secondary hash function h′(k) = 7− (k mod 7)?"
   ]
  },
  {
   "cell_type": "code",
   "execution_count": null,
   "id": "24ffe980",
   "metadata": {},
   "outputs": [
    {
     "name": "stdout",
     "output_type": "stream",
     "text": [
      "0 - 13\n",
      "1 - 94\n",
      "2 - 23\n",
      "3 - 88\n",
      "4 - 39\n",
      "5 - 44\n",
      "6 - 11\n",
      "7 - 5\n",
      "8 - 12\n",
      "9 - 16\n",
      "10 - 20\n"
     ]
    }
   ],
   "source": [
    "\"\"\"\n",
    "Separate chaining\n",
    "resolving collisions with double hashing\n",
    "\"\"\"\n",
    "\n",
    "N = 11\n",
    "l = [12, 44, 13, 88, 23, 94, 11, 39, 20, 16, 5]\n",
    "keys = []\n",
    "representation = []\n",
    "\n",
    "for k in l:\n",
    "    slot_found = False\n",
    "    i = 0\n",
    "    # firsh hash function, j = h(k)\n",
    "    j = ((3*k) + 5)\n",
    "    hash_value = j % 11\n",
    "\n",
    "    while not slot_found:\n",
    "        if hash_value not in keys:\n",
    "            slot_found = True\n",
    "            keys.append(hash_value)\n",
    "            representation.append((hash_value, k))\n",
    "        else:\n",
    "            i += 1\n",
    "            # f(i) = i * h'(k) = i * (7 - (k % 7))\n",
    "            hash_value = (j + (i * (7 - (k % 7)))) % N\n",
    "\n",
    "representation.sort(key=lambda x: x[0])\n",
    "for i in range(len(keys)):\n",
    "    print(\"{} - {}\".format(representation[i][0], representation[i][1]))"
   ]
  },
  {
   "cell_type": "markdown",
   "id": "c3e8e740",
   "metadata": {},
   "source": [
    "R-10.13 What is the worst-case time for putting n entries in an initially empty hash table, with collisions resolved by chaining? What is the best case?"
   ]
  },
  {
   "cell_type": "markdown",
   "id": "06a594fc",
   "metadata": {},
   "source": [
    "Worst-case: O(n^2) when all the hash values are equal and result on clustering all values of n in a single bucket of the hash table\n",
    "Best case: O(n) when all the hash values are distinct and insertion to the hash table takes O(1) because there are no collisions"
   ]
  },
  {
   "cell_type": "markdown",
   "id": "6d9f92e3",
   "metadata": {},
   "source": [
    "R-10.14 Show the result of rehashing the hash table shown in Figure 10.6 into a table of size 19 using the new hash function h(k) = 3k mod 17."
   ]
  },
  {
   "cell_type": "raw",
   "id": "6d11ebd8",
   "metadata": {},
   "source": [
    "Original table:\n",
    "\n",
    "0 - \n",
    "1 - \n",
    "2 - 54, 28, 41\n",
    "3 - \n",
    "4 - \n",
    "5 - 18\n",
    "6 - \n",
    "7 - \n",
    "8 - \n",
    "9 - \n",
    "10 - 10, 36\n",
    "11 - 25, 38, 12, 90\n",
    "12 - "
   ]
  },
  {
   "cell_type": "code",
   "execution_count": null,
   "id": "716d5eba",
   "metadata": {},
   "outputs": [
    {
     "name": "stdout",
     "output_type": "stream",
     "text": [
      "0 - \n",
      "1 - \n",
      "2 - 12\n",
      "3 - 18\n",
      "4 - 41\n",
      "5 - \n",
      "6 - 36\n",
      "7 - 25\n",
      "8 - \n",
      "9 - 54\n",
      "10 - \n",
      "11 - \n",
      "12 - 38\n",
      "13 - 10\n",
      "14 - \n",
      "15 - 90\n",
      "16 - 28\n",
      "17 - \n",
      "18 - \n"
     ]
    }
   ],
   "source": [
    "\"\"\"\n",
    "Rehashed table\n",
    "\"\"\"\n",
    "\n",
    "N = 19\n",
    "l = [54, 28, 41, 18, 10, 36, 25, 38, 12, 90]\n",
    "representation = [None] * N\n",
    "\n",
    "for k in l:\n",
    "    hash_value = (3*k) % 17\n",
    "    if representation[hash_value] is None:\n",
    "        representation[hash_value] = [k]\n",
    "    else:\n",
    "        representation[hash_value].append(k)\n",
    "    \n",
    "\n",
    "for i in range(len(representation)):\n",
    "    print(\"{} - \".format(i), end=\"\")\n",
    "    if representation[i] is not None:\n",
    "        for j in range(len(representation[i])):\n",
    "            print(representation[i][j], end=\"\")\n",
    "            if len(representation[i]) < j + 1:\n",
    "                print(\", \", end=\"\")\n",
    "    print(\"\")"
   ]
  },
  {
   "cell_type": "markdown",
   "id": "f995ee89",
   "metadata": {},
   "source": [
    "R-10.15 Our HashMapBase class maintains a load factor λ ≤ 0.5. Reimplement that class to allow the user to specify the maximum load, and adjust the concrete subclasses accordingly."
   ]
  },
  {
   "cell_type": "code",
   "execution_count": null,
   "id": "1c7c7d1d",
   "metadata": {},
   "outputs": [],
   "source": [
    "from random import randrange\n",
    "\n",
    "from data_structures.maps.hashmap_base import HashMapBase\n",
    "\n",
    "\n",
    "class LoadFactorHashMapBase(HashMapBase):\n",
    "    def __init__(self, cap=11, load_factor=0.5, p=109345121):\n",
    "        \"\"\"Create an empty hash-table map\"\"\"\n",
    "        self._table = cap * [None]\n",
    "        self._load_factor = load_factor\n",
    "        self._n = 0                        # number of entries in the map\n",
    "        self._prime = p                    # prime for MAD compression\n",
    "        self._scale = 1 + randrange(p-1)   # scale from 1 to p-1 for MAD\n",
    "        self._shift = randrange(p)         # shift from 0 to p-1 for MAD\n",
    "    \n",
    "    def __setitem__(self, k, v):\n",
    "        j = self._hash_function(k)\n",
    "        self._bucket_setitem(j, k, v)                          # subroutine maintains self._n\n",
    "        if self._n / len(self._table) > self._load_factor:     # keep load factor <= self._load_factor\n",
    "            self._resize(2 * len(self._table) - 1)             # number 2^x - 1 is often prime"
   ]
  },
  {
   "cell_type": "markdown",
   "id": "dff7c9e2",
   "metadata": {},
   "source": [
    "R-10.16 Give a pseudo-code description of an insertion into a hash table that uses quadratic probing to resolve collisions, assuming we also use the trick of replacing deleted entries with a special “deactivated entry” object."
   ]
  },
  {
   "cell_type": "code",
   "execution_count": null,
   "id": "fd923c30",
   "metadata": {},
   "outputs": [],
   "source": [
    "from data_structures.maps.probe_hashmap import ProbeHashMap\n",
    "\n",
    "\n",
    "class QuadraticProbeHashMap(ProbeHashMap):\n",
    "    def _find_slot(self, j, k):\n",
    "        \"\"\"Search for key k in bucket at index j.\n",
    "        \n",
    "        Return (success, index) tuple, described as follows:\n",
    "        if match was found, succsss is True and index denotes its locations\n",
    "        if no match found, success is False and index denotes first available slot\n",
    "        \"\"\"\n",
    "        firstAvail = None\n",
    "        i = 0\n",
    "        while True:\n",
    "            j = (j + i**2) % len(self._table)     # changed from linear to quadratic probing\n",
    "            if self._is_available(j):\n",
    "                if firstAvail is None:\n",
    "                    firstAvail = j                # mark this as first avail\n",
    "                if self._table[j] is None:\n",
    "                    return (False, firstAvail)    # search has failed\n",
    "            elif k == self._table[j]._key:\n",
    "                return (True, j)                  # found a match\n",
    "            i += 1"
   ]
  },
  {
   "cell_type": "markdown",
   "id": "e1eb5efb",
   "metadata": {},
   "source": [
    "R-10.17 Modify our ProbeHashMap to use quadratic probing."
   ]
  },
  {
   "cell_type": "markdown",
   "id": "89dc26eb",
   "metadata": {},
   "source": [
    "Look at the answer for 10.16"
   ]
  },
  {
   "cell_type": "markdown",
   "id": "5e09c0cf",
   "metadata": {},
   "source": [
    "R-10.18 Explain why a hash table is not suited to implement a sorted map."
   ]
  },
  {
   "cell_type": "markdown",
   "id": "ad6e7e18",
   "metadata": {},
   "source": [
    "Because of the hashing function. There is no relation of \"greater than\" or \"less than\" between the hash values, which means that there is no guarantee that the keys will maintain an order after they are hashed. On top of that, if the array needs to be rehashed, that order is again scrambled."
   ]
  },
  {
   "cell_type": "markdown",
   "id": "d59f2dbd",
   "metadata": {},
   "source": [
    "R-10.19 Describe how a sorted list implemented as a doubly linked list could be used to implement the sorted map ADT."
   ]
  },
  {
   "cell_type": "markdown",
   "id": "f6f76f5e",
   "metadata": {},
   "source": [
    "The main difference with the implementation of `sorted_table_map.py` which uses an array as storage, is the implementation of the `_find_slot` function. With a double linked list, the search would have to be a linear search O(n) instead of binary search O(log n). This function should return the Node object or the Position object (if using a PositionalList) so that the other methods can efficiently do their operations."
   ]
  },
  {
   "cell_type": "markdown",
   "id": "b2a6837b",
   "metadata": {},
   "source": [
    "R-10.20 What is the worst-case asymptotic running time for performing n deletions from a SortedTableMap instance that initially contains 2n entries?"
   ]
  },
  {
   "cell_type": "markdown",
   "id": "ecf61993",
   "metadata": {},
   "source": [
    "Initial state: 2n entries.\n",
    "Number of deletions: n deletions.\n",
    "\n",
    "Let's consider the worst case for each of the n deletions:\n",
    "\n",
    "For the first deletion:\n",
    "    The map has 2n entries.\n",
    "    Search: O(log2n)\n",
    "    Deletion (worst-case, e.g., deleting the smallest element): O(2n) shifts.\n",
    "    Total for first deletion: O(2n+log2n)=O(2n)=O(n).\n",
    "\n",
    "For the second deletion:\n",
    "    The map now has 2n−1 entries.\n",
    "    Search: O(log(2n−1))\n",
    "    Deletion (worst-case): O(2n−1) shifts.\n",
    "    Total for second deletion: O(2n−1)=O(n).\n",
    "\n",
    "Therefore, for n deletions, the total worst-case time complexity is:\n",
    "\n",
    "n * O(n) = O(n**2)"
   ]
  },
  {
   "cell_type": "markdown",
   "id": "9ec96df0",
   "metadata": {},
   "source": [
    "R-10.21 Consider the following variant of the `_find_index` method from Code Fragment 10.8, in the context of the SortedTableMap class:\n",
    "\n",
    "```python\n",
    "def _find_index(self, k, low, high):\n",
    "    if high < low:\n",
    "        return high + 1\n",
    "    else:\n",
    "        mid = (low + high) // 2\n",
    "        if self._table[mid]._key < k:\n",
    "            return self._find_index(k, mid + 1, high)\n",
    "        else:\n",
    "            return self._find_index(k, low, mid− 1)\n",
    "```\n",
    "\n",
    "Does this always produce the same result as the original version? Justify your answer."
   ]
  },
  {
   "cell_type": "markdown",
   "id": "55baa7dc",
   "metadata": {},
   "source": [
    "Got this WRONG!: No, because in this version the actual index of the item found is never searched for and never returned. It only returns the same value when no item is found.\n",
    "\n",
    "ACTUAL CORRECT ANSWER:\n",
    "\n",
    "Yes, this variant always produces the same result as\n",
    "the original. To see this note that if the target key is not contained in the\n",
    "collection, the recursion proceeds in identical fashion. The only issue is\n",
    "when reaching a case where the target key equals the current “middle”\n",
    "key in the table range. This means a match was found and in the origi-\n",
    "nal version, the index of that match is immediately returned. In the new\n",
    "version, the recursion continues to the lefthand side, within index range\n",
    "[low, mid−1]. Since map keys are distinct, the target value will not be\n",
    "found in that range, and it must be that everything in that range is strictly\n",
    "smaller. By convention, that recursion will be an unsuccessful search and\n",
    "will return the index one greater than the upper extend of the range. There-\n",
    "fore, it returns index mid, which is the index at which the exact match was\n",
    "found."
   ]
  },
  {
   "cell_type": "markdown",
   "id": "6293c9c2",
   "metadata": {},
   "source": [
    "R-10.22 What is the expected running time of the methods for maintaining a maxima set if we insert n pairs such that each pair has lower cost and perfor mance than one before it? What is contained in the sorted map at the end of this series of operations? What if each pair had a lower cost and higher performance than the one before it?"
   ]
  },
  {
   "cell_type": "markdown",
   "id": "c4e37a06",
   "metadata": {},
   "source": [
    "Lower cost and performance:\n",
    "\n",
    "    O(n**2)\n",
    "    \n",
    "    The final set would contain all n pairs.\n",
    "\n",
    "Lower cost and higher performance:\n",
    "\n",
    "    O(n)\n",
    "\n",
    "    The content of the set would be the last pair added only."
   ]
  },
  {
   "cell_type": "markdown",
   "id": "d7a5dbc1",
   "metadata": {},
   "source": [
    "R-10.23 Draw an example skip list S that results from performing the following series of operations on the skip list shown in Figure 10.13: del S[38], S[48] = x , S[24] = y, del S[55]. Record your coin flips, as well."
   ]
  },
  {
   "cell_type": "raw",
   "id": "9116d2d4",
   "metadata": {
    "vscode": {
     "languageId": "raw"
    }
   },
   "source": [
    "S5 - \n",
    "S4 -      17\n",
    "S3 -      17                       42\n",
    "S2 -      17             31        42\n",
    "S1 - 12 , 17        24   31        42   44   48\n",
    "S0 - 12 , 17 , 20 , 24 , 31 , 39 , 42 , 44 , 48 , 50\n",
    "\n",
    "Coin flips for S[48] = x: heads, tails\n",
    "Coin flips for S[24] = y: heads, tails"
   ]
  },
  {
   "cell_type": "markdown",
   "id": "7764a48a",
   "metadata": {},
   "source": [
    "R-10.24 Give a pseudo-code description of the `__delitem__` map operation when using a skip list."
   ]
  },
  {
   "cell_type": "raw",
   "id": "8286b68f",
   "metadata": {
    "vscode": {
     "languageId": "raw"
    }
   },
   "source": [
    "Function `__delitem__`(self, key):\n",
    "    Input: Key of the element to delete\n",
    "    Output: None\n",
    "    \n",
    "    Find positon by running `SkipSearch(key)`\n",
    "    Check if position.key is different than key:\n",
    "        If so, raise KeyError\n",
    "    while position:\n",
    "        prev = prev(position)\n",
    "        next = next(position)\n",
    "        link(prev, next)\n",
    "        tmp = above(position)\n",
    "        del position\n",
    "        position = tmp\n",
    "        \n"
   ]
  },
  {
   "cell_type": "markdown",
   "id": "dc8f8b78",
   "metadata": {},
   "source": [
    "R-10.25 Give a concrete implementation of the pop method, in the context of a MutableSet abstract base class, that relies only on the five core set behaviors described in Section 10.5.2."
   ]
  },
  {
   "cell_type": "code",
   "execution_count": null,
   "id": "fbdfb669",
   "metadata": {},
   "outputs": [],
   "source": [
    "from collections.abc import MutableSet\n",
    "\n",
    "\n",
    "class PopMutableSet(MutableSet):\n",
    "\n",
    "    def pop(self):\n",
    "        for e in self:\n",
    "            self.discard(e)\n",
    "            return e\n",
    "        raise KeyError('set is empty')\n",
    "        "
   ]
  },
  {
   "cell_type": "markdown",
   "id": "a2fcbb79",
   "metadata": {},
   "source": [
    "R-10.26 Give a concrete implementation of the isdisjoint method in the context of the MutableSet abstract base class, relying only on the five primary abstract methods of that class. Your algorithm should run in O(min(n,m)) where n and m denote the respective cardinalities of the two sets."
   ]
  },
  {
   "cell_type": "code",
   "execution_count": null,
   "id": "9bdf1ef0",
   "metadata": {},
   "outputs": [],
   "source": [
    "from collections.abc import MutableSet\n",
    "\n",
    "\n",
    "class DisjointMutableSet(MutableSet):\n",
    "\n",
    "    def isdisjoint(self, T):\n",
    "        smallest_set = self\n",
    "        largest_set = T\n",
    "        if len(T) < len(self):\n",
    "            smallest_set = T\n",
    "            largest_set = self\n",
    "        for e in smallest_set:     # O(min(n,m))\n",
    "            if e in largest_set:   # O(1)\n",
    "                return False\n",
    "        return True"
   ]
  },
  {
   "cell_type": "markdown",
   "id": "932900de",
   "metadata": {},
   "source": [
    "R-10.27 What abstraction would you use to manage a database of friends’ birthdays in order to support efficient queries such as “find all friends whose birthday is today” and “find the friend who will be the next to celebrate a birthday”?"
   ]
  },
  {
   "cell_type": "markdown",
   "id": "56d28912",
   "metadata": {},
   "source": [
    "A sorted multiset where the keys are the dates and the value is a list with the are the friends' names."
   ]
  }
 ],
 "metadata": {
  "kernelspec": {
   "display_name": "Python 3",
   "language": "python",
   "name": "python3"
  },
  "language_info": {
   "codemirror_mode": {
    "name": "ipython",
    "version": 3
   },
   "file_extension": ".py",
   "mimetype": "text/x-python",
   "name": "python",
   "nbconvert_exporter": "python",
   "pygments_lexer": "ipython3",
   "version": "3.12.1"
  }
 },
 "nbformat": 4,
 "nbformat_minor": 5
}
